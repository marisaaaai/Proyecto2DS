{
 "cells": [
  {
   "cell_type": "markdown",
   "id": "70e1ab25",
   "metadata": {},
   "source": [
    "# Proyecto 2.\n",
    "## Avances.\n",
    "\n",
    "---\n",
    "Participantes:\n",
    "\n",
    "\n",
    "*   María Isabel Montoya Valladares 19169\n",
    "*   Luis Pedro García Salazar 19344\n",
    "* María José Morales Reichenbach 19145\n",
    "* Juan Fernando de Leon Quezada  17822\n",
    "\n",
    "### Antecedentes\n",
    "En el análisis de datos textuales se tiene la necesidad de extraer información de textos para poder resolver problemas interesantes, y usualmente con beneficio económico, actuales. Natural Language Processing (NLP) ayuda en realizar este proceso y tiene sus propias técnicas para extaer patrones de datos textuales. De las técnicas necesarias para extraer información se puede mencionar \n",
    "\n",
    "### Situación Problemática\n",
    "Hoy en día las redes sociales ya no son plataformas que simplemente nos ayuda a conectar a personas que se encuentran en países lejanos, sino que también pueden ser usados como plataformas para establacer estrategias de diversas indoles. Twitter es una de las plataformas más populares y es usada para compartir pensamientos, situaciones, problemas, etc., por toda la población y esto tiene la importante aplicación de ser un canal de comunicación en tiempos de emergencia. La publicación en tiempo de real de tweets provenientes de personas que se encuentran en un aprieto puede ayudar a que las autoridades puedan programar equipos de ayuda y poder salvar un mayor número de personas. Sin embargo, al ser twitter, una persona tiene toda la libertad de expresión y cada quién tiene una manera en la cuál se expresa, se pueden usar métaforas que en vez de describir algo de un desastre natural, puede que sea solo sobre algo que \"is the bomb ;)\" por lo que poder identificar si se está hablando de un desastre natural cierto o no es importante para poder llevar a cabo esta aplicación ya mencionada. \n",
    "\n",
    "### Problema Ciéntifico \n",
    "El uso de metáforas que pueden confundir un analizador de texto acerca de si se encuentra analizando un tweet de un desastre natural o no. \n",
    "\n",
    "### Objetivos\n",
    "#### Objetivo general\n",
    "* Identificar palabras o frases que son frecuentes en un tweet acerca de un desastre natural real y en un tweet acerca de algo que no es un desastre natural\n",
    "\n",
    "#### Objetivos Específicos\n",
    "\n",
    "1. Establecer una relación entre el keyword, frases del tweet y si es un desastre natural o no (variable target).\n",
    "2. \n",
    "\n",
    "### Descripción de los datos\n",
    "Los datos se nos presentan en un dataframe que contiene las siguientes variables:"
   ]
  },
  {
   "cell_type": "code",
   "execution_count": 4,
   "id": "b6c4e05a",
   "metadata": {},
   "outputs": [
    {
     "data": {
      "text/plain": [
       "id             0\n",
       "keyword       61\n",
       "location    2533\n",
       "text           0\n",
       "target         0\n",
       "dtype: int64"
      ]
     },
     "execution_count": 4,
     "metadata": {},
     "output_type": "execute_result"
    }
   ],
   "source": [
    "import pandas as pd #libreria de visualizacion de texto\n",
    "import numpy as np #libreria de operaciones matematicas\n",
    "import string #analisis de texto\n",
    "import re #operaciones de texto\n",
    "import zipfile #unzip files\n",
    "import nltk #libreria para analisis\n",
    "from nltk.corpus import stopwords #eliminacion de stopwrod\n",
    "from wordcloud import WordCloud #graficas\n",
    "import matplotlib.pyplot as plt #graficas\n",
    "from nltk.sentiment.vader import SentimentIntensityAnalyzer #polaridad del texto\n",
    "\n",
    "datos=pd.read_csv('train (1).csv')\n",
    "datos.head()\n",
    "datos.isnull().sum()\n"
   ]
  }
 ],
 "metadata": {
  "kernelspec": {
   "display_name": "Python 3",
   "language": "python",
   "name": "python3"
  },
  "language_info": {
   "codemirror_mode": {
    "name": "ipython",
    "version": 3
   },
   "file_extension": ".py",
   "mimetype": "text/x-python",
   "name": "python",
   "nbconvert_exporter": "python",
   "pygments_lexer": "ipython3",
   "version": "3.6.9"
  }
 },
 "nbformat": 4,
 "nbformat_minor": 5
}
