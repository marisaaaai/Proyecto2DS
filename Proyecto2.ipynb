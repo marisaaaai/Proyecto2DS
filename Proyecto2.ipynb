{
 "cells": [
  {
   "cell_type": "markdown",
   "id": "b867886a",
   "metadata": {},
   "source": [
    "# Proyecto 2.\n",
    "## Avances.\n",
    "\n",
    "---\n",
    "Participantes:\n",
    "\n",
    "\n",
    "*   María Isabel Montoya Valladares 19169\n",
    "*   Luis Pedro García Salazar 19344\n",
    "* María José Morales Reichenbach 19145\n",
    "* Juan Fernando de Leon Quezada  17822\n",
    "\n",
    "### Investigación de  las técnicas que se usan para detectar patrones en lenguaje escrito\n",
    "La necesidad del uso de machine learning para detectar patrones y extraer información útil en lenguaje natural o escrito ha aumentado en correlación con el crecimiento de las redes sociales, críticas en linea, encuestas y la cantidad enorme de datos que se generan hoy en día en general. Para esto, se han diseñado diversas técnicas que facilitan la detección de patrones en estos datos, para que mediante interpretaciones, se puedan sacar conclusiones que ayuden económicamente a empresas o socialmente a la población.\n",
    "\n",
    "Entre las principales técnicas que su usan para detectar patrones en lenguaje escrito se encuentran las siguientes:\n",
    "    \n",
    "<ins>Reconocimiento de entidades nombradas:<ins/> \n",
    "    \n",
    "Entre las técnicas mas útiles para analizar lenguaje escrito se encuentra la acción de extraer entidades en el texto. Con esta técnica se busca identificar y clasificar entidades en categorías predefinidas así como personas, lugares, organizaciones, fechas, etc. Estas técnicas se basan en reglas de gramámatica y modelos supervisados\n",
    "\n",
    "    \n",
    "<ins>Análisis de sentimiento:<ins/> \n",
    "\n",
    "Es la técnica de procesamiento de lenguaje natural mas usada y su mayor utilidad viene en el área de encuestas, críticas, comentarios, y cualquier lugar donde los usuarios puedan presentar sus opiniones o dar retroalimentación sobre un producto. Se basa en el proceso de determinar el tono emocional detrás de una serie de palabras para extraer información imporante sobre los cientes y sus actitudes, emociones y opiniones.  \n",
    "    \n",
    "\n",
    "<ins>Resumen de texto:<ins/> \n",
    "    \n",
    "Como el nombre sugiere, esta técnica se usa para resumir grandes cuerpos de texto y se usa especialmente en artículos, noticias y artículos de investigación. Dentro de esta, existe el método de  extracción, en el cuál se hace un resumen mediante la extracción de partes del texto y la abstracción, donde se hace el resumen mediante la generación de nuevas palabras que transmiten la idea original.\n",
    "\n",
    "<ins>Tokenización:<ins/>  \n",
    "    \n",
    "La tokenización en esencia, es la acción de dividir el texto entero en \"tokens\", que pueden existir en la forma de palabras, letras, números, puntuación, etc. con el fin de que la computadora lo entienda de una manera más eficiente. \n",
    "\n",
    "### Situación Problemática\n",
    "Hoy en día las redes sociales ya no son plataformas que simplemente nos ayuda a conectar a personas que se encuentran en países lejanos, sino que también pueden ser usados como plataformas para establacer estrategias de diversas indoles. Twitter es una de las plataformas más populares y es usada para compartir pensamientos, situaciones, problemas, etc., por toda la población y esto tiene la importante aplicación de ser un canal de comunicación en tiempos de emergencia.\n",
    "\n",
    "La publicación en tiempo de real de tweets provenientes de personas que se encuentran en un aprieto puede ayudar a que las autoridades puedan programar equipos de ayuda y poder salvar un mayor número de personas. Sin embargo, al ser twitter, una persona tiene toda la libertad de expresión y cada quién tiene una manera en la cuál se expresa, se pueden usar métaforas que en vez de describir algo de un desastre natural, puede que sea solo sobre algo que \"is the bomb ;)\" por lo que poder identificar si se está hablando de un desastre natural cierto o no es importante para poder llevar a cabo esta aplicación ya mencionada.\n",
    "\n",
    "\n",
    "### Problema Ciéntifico \n",
    "El uso de metáforas que pueden confundir un analizador de texto acerca de si se encuentra analizando un tweet de un desastre natural o no. \n",
    "\n",
    "### Objetivos\n",
    "#### Objetivo general\n",
    "* Identificar palabras o frases que son frecuentes en un tweet acerca de un desastre natural real y en un tweet acerca de algo que no es un desastre natural\n",
    "\n",
    "#### Objetivos Específicos\n",
    "\n",
    "1. Establecer una relación entre el keyword, frases del tweet y si es un desastre natural o no (variable target).\n",
    "2. Utilizar nubes de palabras para analizar las expresiones comunes en tweets de desastres.\n",
    "3. Clasificar los desastres naturales por categoría y brindar prioridad.\n",
    "\n",
    "### Descripción de los datos\n",
    "Los datos se nos presentan en un dataframe que contiene las siguientes variables:\n",
    "* id: el cuál es unico para cada tweet\n",
    "* keyword: palabra clave para cada tweet\n",
    "* location: ubicación del tweet\n",
    "* text: cuerpo del tweet\n",
    "* target: si es sobre un desastre natural o no\n",
    "\n",
    "A continuación se muestra los 10 primeros tweets para visualizar la información. "
   ]
  },
  {
   "cell_type": "code",
   "execution_count": 1,
   "id": "0bb73f7d",
   "metadata": {},
   "outputs": [
    {
     "name": "stderr",
     "output_type": "stream",
     "text": [
      "[nltk_data] Downloading package vader_lexicon to\n",
      "[nltk_data]     C:\\Users\\jfdel\\AppData\\Roaming\\nltk_data...\n",
      "[nltk_data]   Package vader_lexicon is already up-to-date!\n"
     ]
    },
    {
     "data": {
      "text/html": [
       "<div>\n",
       "<style scoped>\n",
       "    .dataframe tbody tr th:only-of-type {\n",
       "        vertical-align: middle;\n",
       "    }\n",
       "\n",
       "    .dataframe tbody tr th {\n",
       "        vertical-align: top;\n",
       "    }\n",
       "\n",
       "    .dataframe thead th {\n",
       "        text-align: right;\n",
       "    }\n",
       "</style>\n",
       "<table border=\"1\" class=\"dataframe\">\n",
       "  <thead>\n",
       "    <tr style=\"text-align: right;\">\n",
       "      <th></th>\n",
       "      <th>id</th>\n",
       "      <th>keyword</th>\n",
       "      <th>location</th>\n",
       "      <th>text</th>\n",
       "      <th>target</th>\n",
       "    </tr>\n",
       "  </thead>\n",
       "  <tbody>\n",
       "    <tr>\n",
       "      <th>0</th>\n",
       "      <td>1</td>\n",
       "      <td>NaN</td>\n",
       "      <td>NaN</td>\n",
       "      <td>Our Deeds are the Reason of this #earthquake M...</td>\n",
       "      <td>1</td>\n",
       "    </tr>\n",
       "    <tr>\n",
       "      <th>1</th>\n",
       "      <td>4</td>\n",
       "      <td>NaN</td>\n",
       "      <td>NaN</td>\n",
       "      <td>Forest fire near La Ronge Sask. Canada</td>\n",
       "      <td>1</td>\n",
       "    </tr>\n",
       "    <tr>\n",
       "      <th>2</th>\n",
       "      <td>5</td>\n",
       "      <td>NaN</td>\n",
       "      <td>NaN</td>\n",
       "      <td>All residents asked to 'shelter in place' are ...</td>\n",
       "      <td>1</td>\n",
       "    </tr>\n",
       "    <tr>\n",
       "      <th>3</th>\n",
       "      <td>6</td>\n",
       "      <td>NaN</td>\n",
       "      <td>NaN</td>\n",
       "      <td>13,000 people receive #wildfires evacuation or...</td>\n",
       "      <td>1</td>\n",
       "    </tr>\n",
       "    <tr>\n",
       "      <th>4</th>\n",
       "      <td>7</td>\n",
       "      <td>NaN</td>\n",
       "      <td>NaN</td>\n",
       "      <td>Just got sent this photo from Ruby #Alaska as ...</td>\n",
       "      <td>1</td>\n",
       "    </tr>\n",
       "    <tr>\n",
       "      <th>5</th>\n",
       "      <td>8</td>\n",
       "      <td>NaN</td>\n",
       "      <td>NaN</td>\n",
       "      <td>#RockyFire Update =&gt; California Hwy. 20 closed...</td>\n",
       "      <td>1</td>\n",
       "    </tr>\n",
       "    <tr>\n",
       "      <th>6</th>\n",
       "      <td>10</td>\n",
       "      <td>NaN</td>\n",
       "      <td>NaN</td>\n",
       "      <td>#flood #disaster Heavy rain causes flash flood...</td>\n",
       "      <td>1</td>\n",
       "    </tr>\n",
       "    <tr>\n",
       "      <th>7</th>\n",
       "      <td>13</td>\n",
       "      <td>NaN</td>\n",
       "      <td>NaN</td>\n",
       "      <td>I'm on top of the hill and I can see a fire in...</td>\n",
       "      <td>1</td>\n",
       "    </tr>\n",
       "    <tr>\n",
       "      <th>8</th>\n",
       "      <td>14</td>\n",
       "      <td>NaN</td>\n",
       "      <td>NaN</td>\n",
       "      <td>There's an emergency evacuation happening now ...</td>\n",
       "      <td>1</td>\n",
       "    </tr>\n",
       "    <tr>\n",
       "      <th>9</th>\n",
       "      <td>15</td>\n",
       "      <td>NaN</td>\n",
       "      <td>NaN</td>\n",
       "      <td>I'm afraid that the tornado is coming to our a...</td>\n",
       "      <td>1</td>\n",
       "    </tr>\n",
       "  </tbody>\n",
       "</table>\n",
       "</div>"
      ],
      "text/plain": [
       "   id keyword location                                               text  \\\n",
       "0   1     NaN      NaN  Our Deeds are the Reason of this #earthquake M...   \n",
       "1   4     NaN      NaN             Forest fire near La Ronge Sask. Canada   \n",
       "2   5     NaN      NaN  All residents asked to 'shelter in place' are ...   \n",
       "3   6     NaN      NaN  13,000 people receive #wildfires evacuation or...   \n",
       "4   7     NaN      NaN  Just got sent this photo from Ruby #Alaska as ...   \n",
       "5   8     NaN      NaN  #RockyFire Update => California Hwy. 20 closed...   \n",
       "6  10     NaN      NaN  #flood #disaster Heavy rain causes flash flood...   \n",
       "7  13     NaN      NaN  I'm on top of the hill and I can see a fire in...   \n",
       "8  14     NaN      NaN  There's an emergency evacuation happening now ...   \n",
       "9  15     NaN      NaN  I'm afraid that the tornado is coming to our a...   \n",
       "\n",
       "   target  \n",
       "0       1  \n",
       "1       1  \n",
       "2       1  \n",
       "3       1  \n",
       "4       1  \n",
       "5       1  \n",
       "6       1  \n",
       "7       1  \n",
       "8       1  \n",
       "9       1  "
      ]
     },
     "execution_count": 1,
     "metadata": {},
     "output_type": "execute_result"
    }
   ],
   "source": [
    "import pandas as pd #libreria de visualizacion de texto\n",
    "import numpy as np #libreria de operaciones matematicas\n",
    "import matplotlib.pyplot as plt\n",
    "import seaborn as sns\n",
    "%matplotlib inline\n",
    "import re\n",
    "import string\n",
    "from nltk.corpus import stopwords #limpieza de datos\n",
    "\n",
    "from wordcloud import WordCloud #graficas\n",
    "\n",
    "from textblob import TextBlob\n",
    "from nltk.sentiment.vader import SentimentIntensityAnalyzer\n",
    "import nltk\n",
    "nltk.download('vader_lexicon')\n",
    "\n",
    "\n",
    "\n",
    "datos=pd.read_csv('train (1).csv')\n",
    "datos.head(10)"
   ]
  },
  {
   "cell_type": "code",
   "execution_count": 4,
   "id": "c0036023",
   "metadata": {},
   "outputs": [
    {
     "data": {
      "text/plain": [
       "7613"
      ]
     },
     "execution_count": 4,
     "metadata": {},
     "output_type": "execute_result"
    }
   ],
   "source": [
    "datos.id.count()\n"
   ]
  },
  {
   "cell_type": "markdown",
   "id": "e4b7cb4e",
   "metadata": {},
   "source": [
    "En el archivo podemos ver que los tipos de las columnas son los siguientes."
   ]
  },
  {
   "cell_type": "code",
   "execution_count": 6,
   "id": "32724f64",
   "metadata": {},
   "outputs": [
    {
     "data": {
      "text/plain": [
       "id           int64\n",
       "keyword     object\n",
       "location    object\n",
       "text        object\n",
       "target       int64\n",
       "dtype: object"
      ]
     },
     "execution_count": 6,
     "metadata": {},
     "output_type": "execute_result"
    }
   ],
   "source": [
    "datos.dtypes\n"
   ]
  },
  {
   "cell_type": "markdown",
   "id": "b82cbc79",
   "metadata": {},
   "source": [
    "En el dataset nos encontramos  con 7613 datos iniciales. Como se puede observar, en la tabla se nos muestran muchos NaN por lo que veremos cuantos y cuáles son las columnas que los contienen."
   ]
  },
  {
   "cell_type": "code",
   "execution_count": 7,
   "id": "d68352f0",
   "metadata": {},
   "outputs": [
    {
     "data": {
      "text/plain": [
       "id             0\n",
       "keyword       61\n",
       "location    2533\n",
       "text           0\n",
       "target         0\n",
       "dtype: int64"
      ]
     },
     "execution_count": 7,
     "metadata": {},
     "output_type": "execute_result"
    }
   ],
   "source": [
    "datos.isnull().sum()"
   ]
  },
  {
   "cell_type": "markdown",
   "id": "d380088c",
   "metadata": {},
   "source": [
    "Los Nan en location no son relevantes en el estudio que queremos hacer ahora por lo que estos se dejarán. Sin embargo, creemos importante los Nan en keyword por lo que los eliminaremos. "
   ]
  },
  {
   "cell_type": "code",
   "execution_count": 8,
   "id": "18fd59dc",
   "metadata": {},
   "outputs": [
    {
     "data": {
      "text/html": [
       "<div>\n",
       "<style scoped>\n",
       "    .dataframe tbody tr th:only-of-type {\n",
       "        vertical-align: middle;\n",
       "    }\n",
       "\n",
       "    .dataframe tbody tr th {\n",
       "        vertical-align: top;\n",
       "    }\n",
       "\n",
       "    .dataframe thead th {\n",
       "        text-align: right;\n",
       "    }\n",
       "</style>\n",
       "<table border=\"1\" class=\"dataframe\">\n",
       "  <thead>\n",
       "    <tr style=\"text-align: right;\">\n",
       "      <th></th>\n",
       "      <th>id</th>\n",
       "      <th>keyword</th>\n",
       "      <th>location</th>\n",
       "      <th>text</th>\n",
       "      <th>target</th>\n",
       "    </tr>\n",
       "  </thead>\n",
       "  <tbody>\n",
       "    <tr>\n",
       "      <th>31</th>\n",
       "      <td>48</td>\n",
       "      <td>ablaze</td>\n",
       "      <td>Birmingham</td>\n",
       "      <td>@bbcmtd Wholesale Markets ablaze http://t.co/l...</td>\n",
       "      <td>1</td>\n",
       "    </tr>\n",
       "    <tr>\n",
       "      <th>32</th>\n",
       "      <td>49</td>\n",
       "      <td>ablaze</td>\n",
       "      <td>Est. September 2012 - Bristol</td>\n",
       "      <td>We always try to bring the heavy. #metal #RT h...</td>\n",
       "      <td>0</td>\n",
       "    </tr>\n",
       "    <tr>\n",
       "      <th>33</th>\n",
       "      <td>50</td>\n",
       "      <td>ablaze</td>\n",
       "      <td>AFRICA</td>\n",
       "      <td>#AFRICANBAZE: Breaking news:Nigeria flag set a...</td>\n",
       "      <td>1</td>\n",
       "    </tr>\n",
       "    <tr>\n",
       "      <th>34</th>\n",
       "      <td>52</td>\n",
       "      <td>ablaze</td>\n",
       "      <td>Philadelphia, PA</td>\n",
       "      <td>Crying out for more! Set me ablaze</td>\n",
       "      <td>0</td>\n",
       "    </tr>\n",
       "    <tr>\n",
       "      <th>35</th>\n",
       "      <td>53</td>\n",
       "      <td>ablaze</td>\n",
       "      <td>London, UK</td>\n",
       "      <td>On plus side LOOK AT THE SKY LAST NIGHT IT WAS...</td>\n",
       "      <td>0</td>\n",
       "    </tr>\n",
       "    <tr>\n",
       "      <th>36</th>\n",
       "      <td>54</td>\n",
       "      <td>ablaze</td>\n",
       "      <td>Pretoria</td>\n",
       "      <td>@PhDSquares #mufc they've built so much hype a...</td>\n",
       "      <td>0</td>\n",
       "    </tr>\n",
       "    <tr>\n",
       "      <th>37</th>\n",
       "      <td>55</td>\n",
       "      <td>ablaze</td>\n",
       "      <td>World Wide!!</td>\n",
       "      <td>INEC Office in Abia Set Ablaze - http://t.co/3...</td>\n",
       "      <td>1</td>\n",
       "    </tr>\n",
       "    <tr>\n",
       "      <th>38</th>\n",
       "      <td>56</td>\n",
       "      <td>ablaze</td>\n",
       "      <td>NaN</td>\n",
       "      <td>Barbados #Bridgetown JAMAICA ÛÒ Two cars set ...</td>\n",
       "      <td>1</td>\n",
       "    </tr>\n",
       "    <tr>\n",
       "      <th>39</th>\n",
       "      <td>57</td>\n",
       "      <td>ablaze</td>\n",
       "      <td>Paranaque City</td>\n",
       "      <td>Ablaze for you Lord :D</td>\n",
       "      <td>0</td>\n",
       "    </tr>\n",
       "    <tr>\n",
       "      <th>40</th>\n",
       "      <td>59</td>\n",
       "      <td>ablaze</td>\n",
       "      <td>Live On Webcam</td>\n",
       "      <td>Check these out: http://t.co/rOI2NSmEJJ http:/...</td>\n",
       "      <td>0</td>\n",
       "    </tr>\n",
       "  </tbody>\n",
       "</table>\n",
       "</div>"
      ],
      "text/plain": [
       "    id keyword                       location  \\\n",
       "31  48  ablaze                     Birmingham   \n",
       "32  49  ablaze  Est. September 2012 - Bristol   \n",
       "33  50  ablaze                         AFRICA   \n",
       "34  52  ablaze               Philadelphia, PA   \n",
       "35  53  ablaze                     London, UK   \n",
       "36  54  ablaze                       Pretoria   \n",
       "37  55  ablaze                   World Wide!!   \n",
       "38  56  ablaze                            NaN   \n",
       "39  57  ablaze                 Paranaque City   \n",
       "40  59  ablaze                 Live On Webcam   \n",
       "\n",
       "                                                 text  target  \n",
       "31  @bbcmtd Wholesale Markets ablaze http://t.co/l...       1  \n",
       "32  We always try to bring the heavy. #metal #RT h...       0  \n",
       "33  #AFRICANBAZE: Breaking news:Nigeria flag set a...       1  \n",
       "34                 Crying out for more! Set me ablaze       0  \n",
       "35  On plus side LOOK AT THE SKY LAST NIGHT IT WAS...       0  \n",
       "36  @PhDSquares #mufc they've built so much hype a...       0  \n",
       "37  INEC Office in Abia Set Ablaze - http://t.co/3...       1  \n",
       "38  Barbados #Bridgetown JAMAICA ÛÒ Two cars set ...       1  \n",
       "39                             Ablaze for you Lord :D       0  \n",
       "40  Check these out: http://t.co/rOI2NSmEJJ http:/...       0  "
      ]
     },
     "execution_count": 8,
     "metadata": {},
     "output_type": "execute_result"
    }
   ],
   "source": [
    "datos = datos.dropna(subset=['keyword'])\n",
    "datos.isnull().sum()\n",
    "datos.head(10)\n"
   ]
  },
  {
   "cell_type": "code",
   "execution_count": 9,
   "id": "9f8ba5a6",
   "metadata": {},
   "outputs": [
    {
     "data": {
      "text/plain": [
       "7552"
      ]
     },
     "execution_count": 9,
     "metadata": {},
     "output_type": "execute_result"
    }
   ],
   "source": [
    "datos.id.count()"
   ]
  },
  {
   "cell_type": "markdown",
   "id": "d7ff74d9",
   "metadata": {},
   "source": [
    "Finalizando con 7613 observaciones finales, donde las únicas variables cuantitativas son id y target. Sin embargo, se conoce que id es un valor único y que target solo puede tomar dos valores posibles, por lo que hacer gráficas estadisticas en estas variables no es útil. Por lo que se procede a hacer una tabla de frecuencias de target, location y keyword.\n",
    "\n",
    "##### Target"
   ]
  },
  {
   "cell_type": "code",
   "execution_count": 10,
   "id": "68c03e34",
   "metadata": {},
   "outputs": [
    {
     "data": {
      "text/html": [
       "<div>\n",
       "<style scoped>\n",
       "    .dataframe tbody tr th:only-of-type {\n",
       "        vertical-align: middle;\n",
       "    }\n",
       "\n",
       "    .dataframe tbody tr th {\n",
       "        vertical-align: top;\n",
       "    }\n",
       "\n",
       "    .dataframe thead th {\n",
       "        text-align: right;\n",
       "    }\n",
       "</style>\n",
       "<table border=\"1\" class=\"dataframe\">\n",
       "  <thead>\n",
       "    <tr style=\"text-align: right;\">\n",
       "      <th>col_0</th>\n",
       "      <th>count</th>\n",
       "    </tr>\n",
       "    <tr>\n",
       "      <th>target</th>\n",
       "      <th></th>\n",
       "    </tr>\n",
       "  </thead>\n",
       "  <tbody>\n",
       "    <tr>\n",
       "      <th>0</th>\n",
       "      <td>4323</td>\n",
       "    </tr>\n",
       "    <tr>\n",
       "      <th>1</th>\n",
       "      <td>3229</td>\n",
       "    </tr>\n",
       "  </tbody>\n",
       "</table>\n",
       "</div>"
      ],
      "text/plain": [
       "col_0   count\n",
       "target       \n",
       "0        4323\n",
       "1        3229"
      ]
     },
     "execution_count": 10,
     "metadata": {},
     "output_type": "execute_result"
    }
   ],
   "source": [
    "pd.crosstab(index=datos['target'], columns='count')\n"
   ]
  },
  {
   "cell_type": "code",
   "execution_count": 11,
   "id": "92bf0e1c",
   "metadata": {},
   "outputs": [
    {
     "data": {
      "text/plain": [
       "<AxesSubplot:>"
      ]
     },
     "execution_count": 11,
     "metadata": {},
     "output_type": "execute_result"
    },
    {
     "data": {
      "image/png": "[encoded data removed]",
      "text/plain": [
       "<Figure size 432x288 with 1 Axes>"
      ]
     },
     "metadata": {
      "needs_background": "light"
     },
     "output_type": "display_data"
    }
   ],
   "source": [
    "datos['target'].value_counts().plot(kind='bar')\n",
    "\n"
   ]
  },
  {
   "cell_type": "markdown",
   "id": "e9036280",
   "metadata": {},
   "source": [
    "Aquí podemos observar que estamos tratando con más tweets 'falsos' de desastre natural que tweets ciertos. Sin embargo, la diferencia no es tan grande entre estos dos.\n",
    "\n",
    "##### keywords"
   ]
  },
  {
   "cell_type": "code",
   "execution_count": 12,
   "id": "b66b441a",
   "metadata": {},
   "outputs": [
    {
     "data": {
      "text/html": [
       "<div>\n",
       "<style scoped>\n",
       "    .dataframe tbody tr th:only-of-type {\n",
       "        vertical-align: middle;\n",
       "    }\n",
       "\n",
       "    .dataframe tbody tr th {\n",
       "        vertical-align: top;\n",
       "    }\n",
       "\n",
       "    .dataframe thead th {\n",
       "        text-align: right;\n",
       "    }\n",
       "</style>\n",
       "<table border=\"1\" class=\"dataframe\">\n",
       "  <thead>\n",
       "    <tr style=\"text-align: right;\">\n",
       "      <th>col_0</th>\n",
       "      <th>count</th>\n",
       "    </tr>\n",
       "    <tr>\n",
       "      <th>keyword</th>\n",
       "      <th></th>\n",
       "    </tr>\n",
       "  </thead>\n",
       "  <tbody>\n",
       "    <tr>\n",
       "      <th>ablaze</th>\n",
       "      <td>36</td>\n",
       "    </tr>\n",
       "    <tr>\n",
       "      <th>accident</th>\n",
       "      <td>35</td>\n",
       "    </tr>\n",
       "    <tr>\n",
       "      <th>aftershock</th>\n",
       "      <td>34</td>\n",
       "    </tr>\n",
       "    <tr>\n",
       "      <th>airplane%20accident</th>\n",
       "      <td>35</td>\n",
       "    </tr>\n",
       "    <tr>\n",
       "      <th>ambulance</th>\n",
       "      <td>38</td>\n",
       "    </tr>\n",
       "    <tr>\n",
       "      <th>...</th>\n",
       "      <td>...</td>\n",
       "    </tr>\n",
       "    <tr>\n",
       "      <th>wounded</th>\n",
       "      <td>37</td>\n",
       "    </tr>\n",
       "    <tr>\n",
       "      <th>wounds</th>\n",
       "      <td>33</td>\n",
       "    </tr>\n",
       "    <tr>\n",
       "      <th>wreck</th>\n",
       "      <td>37</td>\n",
       "    </tr>\n",
       "    <tr>\n",
       "      <th>wreckage</th>\n",
       "      <td>39</td>\n",
       "    </tr>\n",
       "    <tr>\n",
       "      <th>wrecked</th>\n",
       "      <td>39</td>\n",
       "    </tr>\n",
       "  </tbody>\n",
       "</table>\n",
       "<p>221 rows × 1 columns</p>\n",
       "</div>"
      ],
      "text/plain": [
       "col_0                count\n",
       "keyword                   \n",
       "ablaze                  36\n",
       "accident                35\n",
       "aftershock              34\n",
       "airplane%20accident     35\n",
       "ambulance               38\n",
       "...                    ...\n",
       "wounded                 37\n",
       "wounds                  33\n",
       "wreck                   37\n",
       "wreckage                39\n",
       "wrecked                 39\n",
       "\n",
       "[221 rows x 1 columns]"
      ]
     },
     "execution_count": 12,
     "metadata": {},
     "output_type": "execute_result"
    }
   ],
   "source": [
    "pd.crosstab(index=datos['keyword'], columns='count')\n"
   ]
  },
  {
   "cell_type": "code",
   "execution_count": 13,
   "id": "7f512578",
   "metadata": {},
   "outputs": [
    {
     "data": {
      "text/plain": [
       "<AxesSubplot:>"
      ]
     },
     "execution_count": 13,
     "metadata": {},
     "output_type": "execute_result"
    },
    {
     "data": {
      "image/png": "[encoded data removed]",
      "text/plain": [
       "<Figure size 432x288 with 1 Axes>"
      ]
     },
     "metadata": {
      "needs_background": "light"
     },
     "output_type": "display_data"
    }
   ],
   "source": [
    "datos['keyword'].value_counts().plot(kind='bar')\n"
   ]
  },
  {
   "cell_type": "markdown",
   "id": "1c4770a9",
   "metadata": {},
   "source": [
    "De la gráfica podemos ver que hay keywords muy comunes como fatalities o muy poco común como radiation emergency. Algo que también nos demuestra esto es que muchos keywords tienen %20 como separador de palabras por lo que se requiere hacer limpieza de eso en esta columna. \n",
    "\n",
    "##### Location"
   ]
  },
  {
   "cell_type": "code",
   "execution_count": 14,
   "id": "40888fa8",
   "metadata": {},
   "outputs": [
    {
     "data": {
      "text/html": [
       "<div>\n",
       "<style scoped>\n",
       "    .dataframe tbody tr th:only-of-type {\n",
       "        vertical-align: middle;\n",
       "    }\n",
       "\n",
       "    .dataframe tbody tr th {\n",
       "        vertical-align: top;\n",
       "    }\n",
       "\n",
       "    .dataframe thead th {\n",
       "        text-align: right;\n",
       "    }\n",
       "</style>\n",
       "<table border=\"1\" class=\"dataframe\">\n",
       "  <thead>\n",
       "    <tr style=\"text-align: right;\">\n",
       "      <th>col_0</th>\n",
       "      <th>count</th>\n",
       "    </tr>\n",
       "    <tr>\n",
       "      <th>location</th>\n",
       "      <th></th>\n",
       "    </tr>\n",
       "  </thead>\n",
       "  <tbody>\n",
       "    <tr>\n",
       "      <th></th>\n",
       "      <td>1</td>\n",
       "    </tr>\n",
       "    <tr>\n",
       "      <th>Glasgow</th>\n",
       "      <td>1</td>\n",
       "    </tr>\n",
       "    <tr>\n",
       "      <th>Melbourne, Australia</th>\n",
       "      <td>1</td>\n",
       "    </tr>\n",
       "    <tr>\n",
       "      <th>News</th>\n",
       "      <td>1</td>\n",
       "    </tr>\n",
       "    <tr>\n",
       "      <th>å_</th>\n",
       "      <td>1</td>\n",
       "    </tr>\n",
       "    <tr>\n",
       "      <th>...</th>\n",
       "      <td>...</td>\n",
       "    </tr>\n",
       "    <tr>\n",
       "      <th>å_: ?? ÌÑ ? : ?</th>\n",
       "      <td>1</td>\n",
       "    </tr>\n",
       "    <tr>\n",
       "      <th>å_å_Los Mina Cityã¢</th>\n",
       "      <td>1</td>\n",
       "    </tr>\n",
       "    <tr>\n",
       "      <th>å¡å¡Midwest Û¢Û¢</th>\n",
       "      <td>1</td>\n",
       "    </tr>\n",
       "    <tr>\n",
       "      <th>åÊ(?Û¢`?Û¢å«)??</th>\n",
       "      <td>1</td>\n",
       "    </tr>\n",
       "    <tr>\n",
       "      <th>åø\\_(?)_/åø</th>\n",
       "      <td>1</td>\n",
       "    </tr>\n",
       "  </tbody>\n",
       "</table>\n",
       "<p>3341 rows × 1 columns</p>\n",
       "</div>"
      ],
      "text/plain": [
       "col_0                   count\n",
       "location                     \n",
       "                            1\n",
       "  Glasgow                   1\n",
       "  Melbourne, Australia      1\n",
       "  News                      1\n",
       "  å_                        1\n",
       "...                       ...\n",
       "å_: ?? ÌÑ ? : ?             1\n",
       "å_å_Los Mina Cityã¢        1\n",
       "å¡å¡Midwest Û¢Û¢          1\n",
       "åÊ(?Û¢`?Û¢å«)??           1\n",
       "åø\\_(?)_/åø                 1\n",
       "\n",
       "[3341 rows x 1 columns]"
      ]
     },
     "execution_count": 14,
     "metadata": {},
     "output_type": "execute_result"
    }
   ],
   "source": [
    "pd.crosstab(index=datos['location'], columns='count')\n"
   ]
  },
  {
   "cell_type": "markdown",
   "id": "d64a407f",
   "metadata": {},
   "source": [
    "De lo que podemos observar es que la columna de location también requiere de limpieza. Pero que puede que no sea útil para un análisis de este tipo. \n",
    "\n",
    "#### Limpieza de datos\n",
    "Ya se eliminaron los NaN de las columnas importantes y en las tablas y gráficas visto anteriormente nos dimos que cuenta que en lass columnas de location y keyword también se necesitan procesos de limpieza, no solo en tweets. Por lo que se hace primero la eliminacion de letras mayúsculas y se pasan a minúsculas."
   ]
  },
  {
   "cell_type": "code",
   "execution_count": 15,
   "id": "0444fe2b",
   "metadata": {},
   "outputs": [
    {
     "data": {
      "text/html": [
       "<div>\n",
       "<style scoped>\n",
       "    .dataframe tbody tr th:only-of-type {\n",
       "        vertical-align: middle;\n",
       "    }\n",
       "\n",
       "    .dataframe tbody tr th {\n",
       "        vertical-align: top;\n",
       "    }\n",
       "\n",
       "    .dataframe thead th {\n",
       "        text-align: right;\n",
       "    }\n",
       "</style>\n",
       "<table border=\"1\" class=\"dataframe\">\n",
       "  <thead>\n",
       "    <tr style=\"text-align: right;\">\n",
       "      <th></th>\n",
       "      <th>id</th>\n",
       "      <th>keyword</th>\n",
       "      <th>location</th>\n",
       "      <th>text</th>\n",
       "      <th>target</th>\n",
       "    </tr>\n",
       "  </thead>\n",
       "  <tbody>\n",
       "    <tr>\n",
       "      <th>31</th>\n",
       "      <td>48</td>\n",
       "      <td>ablaze</td>\n",
       "      <td>birmingham</td>\n",
       "      <td>@bbcmtd wholesale markets ablaze http://t.co/l...</td>\n",
       "      <td>1</td>\n",
       "    </tr>\n",
       "    <tr>\n",
       "      <th>32</th>\n",
       "      <td>49</td>\n",
       "      <td>ablaze</td>\n",
       "      <td>est. september 2012 - bristol</td>\n",
       "      <td>we always try to bring the heavy. #metal #rt h...</td>\n",
       "      <td>0</td>\n",
       "    </tr>\n",
       "    <tr>\n",
       "      <th>33</th>\n",
       "      <td>50</td>\n",
       "      <td>ablaze</td>\n",
       "      <td>africa</td>\n",
       "      <td>#africanbaze: breaking news:nigeria flag set a...</td>\n",
       "      <td>1</td>\n",
       "    </tr>\n",
       "    <tr>\n",
       "      <th>34</th>\n",
       "      <td>52</td>\n",
       "      <td>ablaze</td>\n",
       "      <td>philadelphia, pa</td>\n",
       "      <td>crying out for more! set me ablaze</td>\n",
       "      <td>0</td>\n",
       "    </tr>\n",
       "    <tr>\n",
       "      <th>35</th>\n",
       "      <td>53</td>\n",
       "      <td>ablaze</td>\n",
       "      <td>london, uk</td>\n",
       "      <td>on plus side look at the sky last night it was...</td>\n",
       "      <td>0</td>\n",
       "    </tr>\n",
       "  </tbody>\n",
       "</table>\n",
       "</div>"
      ],
      "text/plain": [
       "    id keyword                       location  \\\n",
       "31  48  ablaze                     birmingham   \n",
       "32  49  ablaze  est. september 2012 - bristol   \n",
       "33  50  ablaze                         africa   \n",
       "34  52  ablaze               philadelphia, pa   \n",
       "35  53  ablaze                     london, uk   \n",
       "\n",
       "                                                 text  target  \n",
       "31  @bbcmtd wholesale markets ablaze http://t.co/l...       1  \n",
       "32  we always try to bring the heavy. #metal #rt h...       0  \n",
       "33  #africanbaze: breaking news:nigeria flag set a...       1  \n",
       "34                 crying out for more! set me ablaze       0  \n",
       "35  on plus side look at the sky last night it was...       0  "
      ]
     },
     "execution_count": 15,
     "metadata": {},
     "output_type": "execute_result"
    }
   ],
   "source": [
    "datos['keyword'] = datos['keyword'].str.lower()\n",
    "datos['location'] = datos['location'].str.lower()\n",
    "datos['text'] = datos['text'].str.lower()\n",
    "\n",
    "datos.head()"
   ]
  },
  {
   "cell_type": "markdown",
   "id": "470418d3",
   "metadata": {},
   "source": [
    "Se remplaza los %20 de la columna keywords por espacios."
   ]
  },
  {
   "cell_type": "code",
   "execution_count": 16,
   "id": "b8f9d0cd",
   "metadata": {},
   "outputs": [
    {
     "data": {
      "text/plain": [
       "<AxesSubplot:>"
      ]
     },
     "execution_count": 16,
     "metadata": {},
     "output_type": "execute_result"
    },
    {
     "data": {
      "image/png": "[encoded data removed]",
      "text/plain": [
       "<Figure size 432x288 with 1 Axes>"
      ]
     },
     "metadata": {
      "needs_background": "light"
     },
     "output_type": "display_data"
    }
   ],
   "source": [
    "datos['keyword'] = datos['keyword'].str.replace('%20',' ')\n",
    "datos['keyword'].value_counts().plot(kind='bar')\n"
   ]
  },
  {
   "cell_type": "markdown",
   "id": "90bbfcb1",
   "metadata": {},
   "source": [
    "Eliminamos los elementos que son componentes de URLs para no tener más signos que nos interferan en el manejo de los datos durante el análisis. "
   ]
  },
  {
   "cell_type": "code",
   "execution_count": 17,
   "id": "d46ab087",
   "metadata": {},
   "outputs": [
    {
     "data": {
      "text/html": [
       "<div>\n",
       "<style scoped>\n",
       "    .dataframe tbody tr th:only-of-type {\n",
       "        vertical-align: middle;\n",
       "    }\n",
       "\n",
       "    .dataframe tbody tr th {\n",
       "        vertical-align: top;\n",
       "    }\n",
       "\n",
       "    .dataframe thead th {\n",
       "        text-align: right;\n",
       "    }\n",
       "</style>\n",
       "<table border=\"1\" class=\"dataframe\">\n",
       "  <thead>\n",
       "    <tr style=\"text-align: right;\">\n",
       "      <th></th>\n",
       "      <th>id</th>\n",
       "      <th>keyword</th>\n",
       "      <th>location</th>\n",
       "      <th>text</th>\n",
       "      <th>target</th>\n",
       "    </tr>\n",
       "  </thead>\n",
       "  <tbody>\n",
       "    <tr>\n",
       "      <th>31</th>\n",
       "      <td>48</td>\n",
       "      <td>ablaze</td>\n",
       "      <td>birmingham</td>\n",
       "      <td>@bbcmtd wholesale markets ablaze</td>\n",
       "      <td>1</td>\n",
       "    </tr>\n",
       "    <tr>\n",
       "      <th>32</th>\n",
       "      <td>49</td>\n",
       "      <td>ablaze</td>\n",
       "      <td>est. september 2012 - bristol</td>\n",
       "      <td>we always try to bring the heavy. #metal #rt</td>\n",
       "      <td>0</td>\n",
       "    </tr>\n",
       "    <tr>\n",
       "      <th>33</th>\n",
       "      <td>50</td>\n",
       "      <td>ablaze</td>\n",
       "      <td>africa</td>\n",
       "      <td>#africanbaze: breaking news:nigeria flag set a...</td>\n",
       "      <td>1</td>\n",
       "    </tr>\n",
       "    <tr>\n",
       "      <th>34</th>\n",
       "      <td>52</td>\n",
       "      <td>ablaze</td>\n",
       "      <td>philadelphia, pa</td>\n",
       "      <td>crying out for more! set me ablaze</td>\n",
       "      <td>0</td>\n",
       "    </tr>\n",
       "    <tr>\n",
       "      <th>35</th>\n",
       "      <td>53</td>\n",
       "      <td>ablaze</td>\n",
       "      <td>london, uk</td>\n",
       "      <td>on plus side look at the sky last night it was...</td>\n",
       "      <td>0</td>\n",
       "    </tr>\n",
       "  </tbody>\n",
       "</table>\n",
       "</div>"
      ],
      "text/plain": [
       "    id keyword                       location  \\\n",
       "31  48  ablaze                     birmingham   \n",
       "32  49  ablaze  est. september 2012 - bristol   \n",
       "33  50  ablaze                         africa   \n",
       "34  52  ablaze               philadelphia, pa   \n",
       "35  53  ablaze                     london, uk   \n",
       "\n",
       "                                                 text  target  \n",
       "31                  @bbcmtd wholesale markets ablaze        1  \n",
       "32      we always try to bring the heavy. #metal #rt        0  \n",
       "33  #africanbaze: breaking news:nigeria flag set a...       1  \n",
       "34                 crying out for more! set me ablaze       0  \n",
       "35  on plus side look at the sky last night it was...       0  "
      ]
     },
     "execution_count": 17,
     "metadata": {},
     "output_type": "execute_result"
    }
   ],
   "source": [
    "datos['text'] = datos['text'].apply(lambda x: re.split('https:\\/\\/.*', str(x))[0])\n",
    "datos['text'] = datos['text'].apply(lambda x: re.split('http:\\/\\/.*', str(x))[0])\n",
    "\n",
    "datos.head()"
   ]
  },
  {
   "cell_type": "markdown",
   "id": "5069bed8",
   "metadata": {},
   "source": [
    "Se remueve los caracteres especiales de las columna de text para poder hacer un analisis de texto."
   ]
  },
  {
   "cell_type": "code",
   "execution_count": 18,
   "id": "9447873e",
   "metadata": {},
   "outputs": [
    {
     "data": {
      "text/html": [
       "<div>\n",
       "<style scoped>\n",
       "    .dataframe tbody tr th:only-of-type {\n",
       "        vertical-align: middle;\n",
       "    }\n",
       "\n",
       "    .dataframe tbody tr th {\n",
       "        vertical-align: top;\n",
       "    }\n",
       "\n",
       "    .dataframe thead th {\n",
       "        text-align: right;\n",
       "    }\n",
       "</style>\n",
       "<table border=\"1\" class=\"dataframe\">\n",
       "  <thead>\n",
       "    <tr style=\"text-align: right;\">\n",
       "      <th></th>\n",
       "      <th>id</th>\n",
       "      <th>keyword</th>\n",
       "      <th>location</th>\n",
       "      <th>text</th>\n",
       "      <th>target</th>\n",
       "    </tr>\n",
       "  </thead>\n",
       "  <tbody>\n",
       "    <tr>\n",
       "      <th>31</th>\n",
       "      <td>48</td>\n",
       "      <td>ablaze</td>\n",
       "      <td>birmingham</td>\n",
       "      <td>bbcmtd wholesale markets ablaze</td>\n",
       "      <td>1</td>\n",
       "    </tr>\n",
       "    <tr>\n",
       "      <th>32</th>\n",
       "      <td>49</td>\n",
       "      <td>ablaze</td>\n",
       "      <td>est. september 2012 - bristol</td>\n",
       "      <td>we always try to bring the heavy metal rt</td>\n",
       "      <td>0</td>\n",
       "    </tr>\n",
       "    <tr>\n",
       "      <th>33</th>\n",
       "      <td>50</td>\n",
       "      <td>ablaze</td>\n",
       "      <td>africa</td>\n",
       "      <td>africanbaze breaking newsnigeria flag set abla...</td>\n",
       "      <td>1</td>\n",
       "    </tr>\n",
       "    <tr>\n",
       "      <th>34</th>\n",
       "      <td>52</td>\n",
       "      <td>ablaze</td>\n",
       "      <td>philadelphia, pa</td>\n",
       "      <td>crying out for more set me ablaze</td>\n",
       "      <td>0</td>\n",
       "    </tr>\n",
       "    <tr>\n",
       "      <th>35</th>\n",
       "      <td>53</td>\n",
       "      <td>ablaze</td>\n",
       "      <td>london, uk</td>\n",
       "      <td>on plus side look at the sky last night it was...</td>\n",
       "      <td>0</td>\n",
       "    </tr>\n",
       "  </tbody>\n",
       "</table>\n",
       "</div>"
      ],
      "text/plain": [
       "    id keyword                       location  \\\n",
       "31  48  ablaze                     birmingham   \n",
       "32  49  ablaze  est. september 2012 - bristol   \n",
       "33  50  ablaze                         africa   \n",
       "34  52  ablaze               philadelphia, pa   \n",
       "35  53  ablaze                     london, uk   \n",
       "\n",
       "                                                 text  target  \n",
       "31                   bbcmtd wholesale markets ablaze        1  \n",
       "32         we always try to bring the heavy metal rt        0  \n",
       "33  africanbaze breaking newsnigeria flag set abla...       1  \n",
       "34                  crying out for more set me ablaze       0  \n",
       "35  on plus side look at the sky last night it was...       0  "
      ]
     },
     "execution_count": 18,
     "metadata": {},
     "output_type": "execute_result"
    }
   ],
   "source": [
    "def remove_punctuations(text):\n",
    "    for punctuation in string.punctuation:\n",
    "        text = text.replace(punctuation, '')\n",
    "    return text\n",
    "datos['text'] = datos['text'].apply(remove_punctuations)\n",
    "datos.head()"
   ]
  },
  {
   "cell_type": "markdown",
   "id": "5538deab",
   "metadata": {},
   "source": [
    "En este tipo de análisis emojis pueden ser caracteres que pueden confundir más a la computadora por lo que se eliminaran estos de la columna de tweets."
   ]
  },
  {
   "cell_type": "code",
   "execution_count": 19,
   "id": "3d46404c",
   "metadata": {},
   "outputs": [
    {
     "data": {
      "text/html": [
       "<div>\n",
       "<style scoped>\n",
       "    .dataframe tbody tr th:only-of-type {\n",
       "        vertical-align: middle;\n",
       "    }\n",
       "\n",
       "    .dataframe tbody tr th {\n",
       "        vertical-align: top;\n",
       "    }\n",
       "\n",
       "    .dataframe thead th {\n",
       "        text-align: right;\n",
       "    }\n",
       "</style>\n",
       "<table border=\"1\" class=\"dataframe\">\n",
       "  <thead>\n",
       "    <tr style=\"text-align: right;\">\n",
       "      <th></th>\n",
       "      <th>id</th>\n",
       "      <th>keyword</th>\n",
       "      <th>location</th>\n",
       "      <th>text</th>\n",
       "      <th>target</th>\n",
       "    </tr>\n",
       "  </thead>\n",
       "  <tbody>\n",
       "    <tr>\n",
       "      <th>31</th>\n",
       "      <td>48</td>\n",
       "      <td>ablaze</td>\n",
       "      <td>birmingham</td>\n",
       "      <td>bbcmtd wholesale markets ablaze</td>\n",
       "      <td>1</td>\n",
       "    </tr>\n",
       "    <tr>\n",
       "      <th>32</th>\n",
       "      <td>49</td>\n",
       "      <td>ablaze</td>\n",
       "      <td>est. september 2012 - bristol</td>\n",
       "      <td>we always try to bring the heavy metal rt</td>\n",
       "      <td>0</td>\n",
       "    </tr>\n",
       "    <tr>\n",
       "      <th>33</th>\n",
       "      <td>50</td>\n",
       "      <td>ablaze</td>\n",
       "      <td>africa</td>\n",
       "      <td>africanbaze breaking newsnigeria flag set abla...</td>\n",
       "      <td>1</td>\n",
       "    </tr>\n",
       "    <tr>\n",
       "      <th>34</th>\n",
       "      <td>52</td>\n",
       "      <td>ablaze</td>\n",
       "      <td>philadelphia, pa</td>\n",
       "      <td>crying out for more set me ablaze</td>\n",
       "      <td>0</td>\n",
       "    </tr>\n",
       "    <tr>\n",
       "      <th>35</th>\n",
       "      <td>53</td>\n",
       "      <td>ablaze</td>\n",
       "      <td>london, uk</td>\n",
       "      <td>on plus side look at the sky last night it was...</td>\n",
       "      <td>0</td>\n",
       "    </tr>\n",
       "  </tbody>\n",
       "</table>\n",
       "</div>"
      ],
      "text/plain": [
       "    id keyword                       location  \\\n",
       "31  48  ablaze                     birmingham   \n",
       "32  49  ablaze  est. september 2012 - bristol   \n",
       "33  50  ablaze                         africa   \n",
       "34  52  ablaze               philadelphia, pa   \n",
       "35  53  ablaze                     london, uk   \n",
       "\n",
       "                                                 text  target  \n",
       "31                   bbcmtd wholesale markets ablaze        1  \n",
       "32         we always try to bring the heavy metal rt        0  \n",
       "33  africanbaze breaking newsnigeria flag set abla...       1  \n",
       "34                  crying out for more set me ablaze       0  \n",
       "35  on plus side look at the sky last night it was...       0  "
      ]
     },
     "execution_count": 19,
     "metadata": {},
     "output_type": "execute_result"
    }
   ],
   "source": [
    "datos.astype(str).apply(lambda x: x.str.encode('ascii', 'ignore').str.decode('ascii'))\n",
    "datos.head()"
   ]
  },
  {
   "cell_type": "markdown",
   "id": "46b5c54c",
   "metadata": {},
   "source": [
    "Se remueven los stopwords de text."
   ]
  },
  {
   "cell_type": "code",
   "execution_count": 20,
   "id": "06373592",
   "metadata": {},
   "outputs": [
    {
     "data": {
      "text/html": [
       "<div>\n",
       "<style scoped>\n",
       "    .dataframe tbody tr th:only-of-type {\n",
       "        vertical-align: middle;\n",
       "    }\n",
       "\n",
       "    .dataframe tbody tr th {\n",
       "        vertical-align: top;\n",
       "    }\n",
       "\n",
       "    .dataframe thead th {\n",
       "        text-align: right;\n",
       "    }\n",
       "</style>\n",
       "<table border=\"1\" class=\"dataframe\">\n",
       "  <thead>\n",
       "    <tr style=\"text-align: right;\">\n",
       "      <th></th>\n",
       "      <th>id</th>\n",
       "      <th>keyword</th>\n",
       "      <th>location</th>\n",
       "      <th>text</th>\n",
       "      <th>target</th>\n",
       "    </tr>\n",
       "  </thead>\n",
       "  <tbody>\n",
       "    <tr>\n",
       "      <th>31</th>\n",
       "      <td>48</td>\n",
       "      <td>ablaze</td>\n",
       "      <td>birmingham</td>\n",
       "      <td>bbcmtd wholesale markets ablaze</td>\n",
       "      <td>1</td>\n",
       "    </tr>\n",
       "    <tr>\n",
       "      <th>32</th>\n",
       "      <td>49</td>\n",
       "      <td>ablaze</td>\n",
       "      <td>est. september 2012 - bristol</td>\n",
       "      <td>always try bring heavy metal rt</td>\n",
       "      <td>0</td>\n",
       "    </tr>\n",
       "    <tr>\n",
       "      <th>33</th>\n",
       "      <td>50</td>\n",
       "      <td>ablaze</td>\n",
       "      <td>africa</td>\n",
       "      <td>africanbaze breaking newsnigeria flag set abla...</td>\n",
       "      <td>1</td>\n",
       "    </tr>\n",
       "    <tr>\n",
       "      <th>34</th>\n",
       "      <td>52</td>\n",
       "      <td>ablaze</td>\n",
       "      <td>philadelphia, pa</td>\n",
       "      <td>crying set ablaze</td>\n",
       "      <td>0</td>\n",
       "    </tr>\n",
       "    <tr>\n",
       "      <th>35</th>\n",
       "      <td>53</td>\n",
       "      <td>ablaze</td>\n",
       "      <td>london, uk</td>\n",
       "      <td>plus side look sky last night ablaze</td>\n",
       "      <td>0</td>\n",
       "    </tr>\n",
       "  </tbody>\n",
       "</table>\n",
       "</div>"
      ],
      "text/plain": [
       "    id keyword                       location  \\\n",
       "31  48  ablaze                     birmingham   \n",
       "32  49  ablaze  est. september 2012 - bristol   \n",
       "33  50  ablaze                         africa   \n",
       "34  52  ablaze               philadelphia, pa   \n",
       "35  53  ablaze                     london, uk   \n",
       "\n",
       "                                                 text  target  \n",
       "31                    bbcmtd wholesale markets ablaze       1  \n",
       "32                    always try bring heavy metal rt       0  \n",
       "33  africanbaze breaking newsnigeria flag set abla...       1  \n",
       "34                                  crying set ablaze       0  \n",
       "35               plus side look sky last night ablaze       0  "
      ]
     },
     "execution_count": 20,
     "metadata": {},
     "output_type": "execute_result"
    }
   ],
   "source": [
    "stop = stopwords.words('english')\n",
    "\n",
    "datos['text'] = datos['text'].str.lower().str.split() \n",
    "\n",
    "datos['text'] = datos['text'].apply(lambda x: [item for item in x if item not in stop])\n",
    "datos['text'] = [' '.join(map(str, l)) for l in datos['text']]\n",
    "\n",
    "datos.head()"
   ]
  },
  {
   "cell_type": "markdown",
   "id": "c33a97ab",
   "metadata": {},
   "source": [
    "#### Análisis\n",
    "\n",
    "Se comienza a hacer un gráfico de correlación entre las variables enteras de nuestro dataset. "
   ]
  },
  {
   "cell_type": "code",
   "execution_count": 21,
   "id": "b98723d8",
   "metadata": {},
   "outputs": [
    {
     "data": {
      "text/plain": [
       "<AxesSubplot:>"
      ]
     },
     "execution_count": 21,
     "metadata": {},
     "output_type": "execute_result"
    },
    {
     "data": {
      "image/png": "[encoded data removed]",
      "text/plain": [
       "<Figure size 720x360 with 2 Axes>"
      ]
     },
     "metadata": {
      "needs_background": "light"
     },
     "output_type": "display_data"
    }
   ],
   "source": [
    "corr = datos.corr()\n",
    "f, ax = plt.subplots(figsize=(10, 5))\n",
    "sns.heatmap(corr, cbar=True, annot=True,\n",
    "            xticklabels=corr.columns.values,\n",
    "            yticklabels=corr.columns.values)"
   ]
  },
  {
   "cell_type": "markdown",
   "id": "ceaa0a73",
   "metadata": {},
   "source": [
    "Como podemos ver, la verdad es que estas dos variables no se relacionan en nada por lo que no tiene sentido tener cruzar estas variables, sin embargo, si es de suma importancia y nos puede dar 'Insights' hacer gráficas de palabras dependiendo si si es un desastre natural o no. Por lo que se prosigue a dividir la base de datos en dos. "
   ]
  },
  {
   "cell_type": "code",
   "execution_count": 22,
   "id": "bf289893",
   "metadata": {},
   "outputs": [
    {
     "data": {
      "text/html": [
       "<div>\n",
       "<style scoped>\n",
       "    .dataframe tbody tr th:only-of-type {\n",
       "        vertical-align: middle;\n",
       "    }\n",
       "\n",
       "    .dataframe tbody tr th {\n",
       "        vertical-align: top;\n",
       "    }\n",
       "\n",
       "    .dataframe thead th {\n",
       "        text-align: right;\n",
       "    }\n",
       "</style>\n",
       "<table border=\"1\" class=\"dataframe\">\n",
       "  <thead>\n",
       "    <tr style=\"text-align: right;\">\n",
       "      <th></th>\n",
       "      <th>id</th>\n",
       "      <th>keyword</th>\n",
       "      <th>location</th>\n",
       "      <th>text</th>\n",
       "      <th>target</th>\n",
       "    </tr>\n",
       "  </thead>\n",
       "  <tbody>\n",
       "    <tr>\n",
       "      <th>32</th>\n",
       "      <td>49</td>\n",
       "      <td>ablaze</td>\n",
       "      <td>est. september 2012 - bristol</td>\n",
       "      <td>always try bring heavy metal rt</td>\n",
       "      <td>0</td>\n",
       "    </tr>\n",
       "    <tr>\n",
       "      <th>34</th>\n",
       "      <td>52</td>\n",
       "      <td>ablaze</td>\n",
       "      <td>philadelphia, pa</td>\n",
       "      <td>crying set ablaze</td>\n",
       "      <td>0</td>\n",
       "    </tr>\n",
       "    <tr>\n",
       "      <th>35</th>\n",
       "      <td>53</td>\n",
       "      <td>ablaze</td>\n",
       "      <td>london, uk</td>\n",
       "      <td>plus side look sky last night ablaze</td>\n",
       "      <td>0</td>\n",
       "    </tr>\n",
       "    <tr>\n",
       "      <th>36</th>\n",
       "      <td>54</td>\n",
       "      <td>ablaze</td>\n",
       "      <td>pretoria</td>\n",
       "      <td>phdsquares mufc theyve built much hype around ...</td>\n",
       "      <td>0</td>\n",
       "    </tr>\n",
       "    <tr>\n",
       "      <th>39</th>\n",
       "      <td>57</td>\n",
       "      <td>ablaze</td>\n",
       "      <td>paranaque city</td>\n",
       "      <td>ablaze lord</td>\n",
       "      <td>0</td>\n",
       "    </tr>\n",
       "  </tbody>\n",
       "</table>\n",
       "</div>"
      ],
      "text/plain": [
       "    id keyword                       location  \\\n",
       "32  49  ablaze  est. september 2012 - bristol   \n",
       "34  52  ablaze               philadelphia, pa   \n",
       "35  53  ablaze                     london, uk   \n",
       "36  54  ablaze                       pretoria   \n",
       "39  57  ablaze                 paranaque city   \n",
       "\n",
       "                                                 text  target  \n",
       "32                    always try bring heavy metal rt       0  \n",
       "34                                  crying set ablaze       0  \n",
       "35               plus side look sky last night ablaze       0  \n",
       "36  phdsquares mufc theyve built much hype around ...       0  \n",
       "39                                        ablaze lord       0  "
      ]
     },
     "execution_count": 22,
     "metadata": {},
     "output_type": "execute_result"
    }
   ],
   "source": [
    "noDesastre = datos.loc[datos['target'] == 0]\n",
    "siDesastre = datos.loc[datos['target'] == 1]\n",
    "noDesastre.head(5)\n",
    "\n"
   ]
  },
  {
   "cell_type": "code",
   "execution_count": 23,
   "id": "ecec59e8",
   "metadata": {},
   "outputs": [
    {
     "data": {
      "text/html": [
       "<div>\n",
       "<style scoped>\n",
       "    .dataframe tbody tr th:only-of-type {\n",
       "        vertical-align: middle;\n",
       "    }\n",
       "\n",
       "    .dataframe tbody tr th {\n",
       "        vertical-align: top;\n",
       "    }\n",
       "\n",
       "    .dataframe thead th {\n",
       "        text-align: right;\n",
       "    }\n",
       "</style>\n",
       "<table border=\"1\" class=\"dataframe\">\n",
       "  <thead>\n",
       "    <tr style=\"text-align: right;\">\n",
       "      <th></th>\n",
       "      <th>id</th>\n",
       "      <th>keyword</th>\n",
       "      <th>location</th>\n",
       "      <th>text</th>\n",
       "      <th>target</th>\n",
       "    </tr>\n",
       "  </thead>\n",
       "  <tbody>\n",
       "    <tr>\n",
       "      <th>31</th>\n",
       "      <td>48</td>\n",
       "      <td>ablaze</td>\n",
       "      <td>birmingham</td>\n",
       "      <td>bbcmtd wholesale markets ablaze</td>\n",
       "      <td>1</td>\n",
       "    </tr>\n",
       "    <tr>\n",
       "      <th>33</th>\n",
       "      <td>50</td>\n",
       "      <td>ablaze</td>\n",
       "      <td>africa</td>\n",
       "      <td>africanbaze breaking newsnigeria flag set abla...</td>\n",
       "      <td>1</td>\n",
       "    </tr>\n",
       "    <tr>\n",
       "      <th>37</th>\n",
       "      <td>55</td>\n",
       "      <td>ablaze</td>\n",
       "      <td>world wide!!</td>\n",
       "      <td>inec office abia set ablaze</td>\n",
       "      <td>1</td>\n",
       "    </tr>\n",
       "    <tr>\n",
       "      <th>38</th>\n",
       "      <td>56</td>\n",
       "      <td>ablaze</td>\n",
       "      <td>NaN</td>\n",
       "      <td>barbados bridgetown jamaica ûò two cars set a...</td>\n",
       "      <td>1</td>\n",
       "    </tr>\n",
       "    <tr>\n",
       "      <th>46</th>\n",
       "      <td>66</td>\n",
       "      <td>ablaze</td>\n",
       "      <td>greensboro,north carolina</td>\n",
       "      <td>west burned thousands wildfires ablaze califor...</td>\n",
       "      <td>1</td>\n",
       "    </tr>\n",
       "  </tbody>\n",
       "</table>\n",
       "</div>"
      ],
      "text/plain": [
       "    id keyword                   location  \\\n",
       "31  48  ablaze                 birmingham   \n",
       "33  50  ablaze                     africa   \n",
       "37  55  ablaze               world wide!!   \n",
       "38  56  ablaze                        NaN   \n",
       "46  66  ablaze  greensboro,north carolina   \n",
       "\n",
       "                                                 text  target  \n",
       "31                    bbcmtd wholesale markets ablaze       1  \n",
       "33  africanbaze breaking newsnigeria flag set abla...       1  \n",
       "37                        inec office abia set ablaze       1  \n",
       "38  barbados bridgetown jamaica ûò two cars set a...       1  \n",
       "46  west burned thousands wildfires ablaze califor...       1  "
      ]
     },
     "execution_count": 23,
     "metadata": {},
     "output_type": "execute_result"
    }
   ],
   "source": [
    "siDesastre.head(5)\n"
   ]
  },
  {
   "cell_type": "markdown",
   "id": "e8507a99",
   "metadata": {},
   "source": [
    "Se obtiene un wordcloud de los desastres naturales que no son desastres naturales."
   ]
  },
  {
   "cell_type": "code",
   "execution_count": 24,
   "id": "80dbff9d",
   "metadata": {},
   "outputs": [
    {
     "data": {
      "image/png": "[encoded data removed]",
      "text/plain": [
       "<Figure size 432x288 with 1 Axes>"
      ]
     },
     "metadata": {
      "needs_background": "light"
     },
     "output_type": "display_data"
    }
   ],
   "source": [
    "tc = {} #dic con counters\n",
    "    \n",
    "for review in noDesastre['text']:\n",
    "    text = review.split(' ')\n",
    "    for word in text:\n",
    "        counter = tc.get(word)\n",
    "        if counter:\n",
    "            tc[word] = counter + 1\n",
    "        else:\n",
    "            tc[word] = 1\n",
    "\n",
    "# create the WordCloud object\n",
    "wordcloud = WordCloud(background_color=\"white\",max_words=50,max_font_size=40,scale=3,random_state=1)\n",
    "\n",
    "# generate the word cloud\n",
    "wordcloud.generate_from_frequencies(tc)\n",
    "\n",
    "plt.imshow(wordcloud, interpolation='bilinear')\n",
    "plt.axis('off')\n",
    "plt.show()"
   ]
  },
  {
   "cell_type": "markdown",
   "id": "b6e4c6bb",
   "metadata": {},
   "source": [
    "Aquí podemos ver que los tweets que no son desastres naturales poseen varias veces palabras consideradas como 'positivas' entonces se puede hacer un sentiment analysis y probar que los tweets sobre desastres naturales usan palabras positivas en ellos.\n",
    "\n",
    "Se obtiene un wordcloud del dataframe que si es de desastres."
   ]
  },
  {
   "cell_type": "code",
   "execution_count": 25,
   "id": "509d8b34",
   "metadata": {},
   "outputs": [
    {
     "data": {
      "image/png": "[encoded data removed]",
      "text/plain": [
       "<Figure size 432x288 with 1 Axes>"
      ]
     },
     "metadata": {
      "needs_background": "light"
     },
     "output_type": "display_data"
    }
   ],
   "source": [
    "ntc = {} #dic con counters\n",
    "    \n",
    "for review in siDesastre['text']:\n",
    "    text = review.split(' ')\n",
    "    for word in text:\n",
    "        counter = tc.get(word)\n",
    "        if counter:\n",
    "            ntc[word] = counter + 1\n",
    "        else:\n",
    "            ntc[word] = 1\n",
    "\n",
    "# create the WordCloud object\n",
    "wordcloud = WordCloud(background_color=\"white\",max_words=50,max_font_size=40,scale=3,random_state=1)\n",
    "\n",
    "# generate the word cloud\n",
    "wordcloud.generate_from_frequencies(ntc)\n",
    "\n",
    "plt.imshow(wordcloud, interpolation='bilinear')\n",
    "plt.axis('off')\n",
    "plt.show()"
   ]
  },
  {
   "cell_type": "markdown",
   "id": "8467149d",
   "metadata": {},
   "source": [
    "De este wordcloud podemos ver que nuestra impresión es incorrecta y estos tweets si tiene palabras positivas en esa dataframe."
   ]
  },
  {
   "cell_type": "markdown",
   "id": "20ecd494",
   "metadata": {},
   "source": [
    "##### Keywords de no desastres y de desastres"
   ]
  },
  {
   "cell_type": "code",
   "execution_count": 26,
   "id": "6ad6cc50",
   "metadata": {},
   "outputs": [
    {
     "data": {
      "text/plain": [
       "<AxesSubplot:>"
      ]
     },
     "execution_count": 26,
     "metadata": {},
     "output_type": "execute_result"
    },
    {
     "data": {
      "image/png": "[encoded data removed]",
      "text/plain": [
       "<Figure size 432x288 with 1 Axes>"
      ]
     },
     "metadata": {
      "needs_background": "light"
     },
     "output_type": "display_data"
    }
   ],
   "source": [
    "noDesastre['keyword'].value_counts().plot(kind='bar')\n"
   ]
  },
  {
   "cell_type": "code",
   "execution_count": 27,
   "id": "d53869ff",
   "metadata": {},
   "outputs": [
    {
     "data": {
      "text/plain": [
       "<AxesSubplot:>"
      ]
     },
     "execution_count": 27,
     "metadata": {},
     "output_type": "execute_result"
    },
    {
     "data": {
      "image/png": "[encoded data removed]",
      "text/plain": [
       "<Figure size 432x288 with 1 Axes>"
      ]
     },
     "metadata": {
      "needs_background": "light"
     },
     "output_type": "display_data"
    }
   ],
   "source": [
    "siDesastre['keyword'].value_counts().plot(kind='bar')\n"
   ]
  },
  {
   "cell_type": "markdown",
   "id": "16497f21",
   "metadata": {},
   "source": [
    "## Sentiment Analysis\n",
    "Se busca hacer un sentiment analysis de ambas bases de datos creadas para descubrir si la base de no desastres posee tweets con más palabras positivas que negativas y si en la base de si desastres pasa totalmente lo contrario\n",
    "\n",
    "#### noDesastre"
   ]
  },
  {
   "cell_type": "code",
   "execution_count": 28,
   "id": "7c4ca34c",
   "metadata": {},
   "outputs": [],
   "source": [
    "# Tweet sentiment Counters\n",
    "positive = 0\n",
    "negative = 0\n",
    "neutral = 0\n",
    "\n",
    "polarity = 0\n",
    "\n",
    "# Tweet sentiment Lists\n",
    "tweet_list = []\n",
    "neutral_list = []\n",
    "negative_list = []\n",
    "positive_list = []"
   ]
  },
  {
   "cell_type": "code",
   "execution_count": 29,
   "id": "7fd78d72",
   "metadata": {},
   "outputs": [],
   "source": [
    "for tweet in noDesastre.text:\n",
    "    \n",
    "    tweet_list.append(tweet)\n",
    "    analysis = TextBlob(tweet)\n",
    "    score = SentimentIntensityAnalyzer().polarity_scores(tweet)\n",
    "    neg = score['neg']\n",
    "    neu = score['neu']\n",
    "    pos = score['pos']\n",
    "    comp = score['compound']\n",
    "    polarity += analysis.sentiment.polarity\n",
    "    \n",
    "    if neg > pos:\n",
    "        negative_list.append(tweet)\n",
    "        negative += 1\n",
    "    elif pos > neg:\n",
    "        positive_list.append(tweet)\n",
    "        positive += 1\n",
    "    elif pos == neg:\n",
    "        neutral_list.append(tweet)\n",
    "        neutral += 1"
   ]
  },
  {
   "cell_type": "code",
   "execution_count": 30,
   "id": "e51e853e",
   "metadata": {},
   "outputs": [],
   "source": [
    "def percentage(part,whole):\n",
    "    return 100 * float(part)/float(whole)\n",
    "\n",
    "noOfTweet = len(noDesastre.text)\n",
    "\n",
    "positive = percentage(positive, noOfTweet)\n",
    "negative = percentage(negative, noOfTweet)\n",
    "neutral = percentage(neutral, noOfTweet)\n",
    "polarity = percentage(polarity, noOfTweet)\n",
    "\n",
    "positive = format(positive, '.1f')\n",
    "negative = format(negative, '.1f')\n",
    "neutral = format(neutral, '.1f')"
   ]
  },
  {
   "cell_type": "markdown",
   "id": "e23cdc9c",
   "metadata": {},
   "source": [
    "Miremos la cantidad de tweets y sus sentimientos"
   ]
  },
  {
   "cell_type": "code",
   "execution_count": 31,
   "id": "9f1038ea",
   "metadata": {},
   "outputs": [
    {
     "name": "stdout",
     "output_type": "stream",
     "text": [
      "total number:  4323\n",
      "positive number:  1397\n",
      "negative number:  1798\n",
      "neutral number:  1128\n"
     ]
    }
   ],
   "source": [
    "#Number of Tweets (Total, Positive, Negative, Neutral)tweet_list = pd.DataFrame(tweet_list)\n",
    "\n",
    "tweet_list = pd.DataFrame(tweet_list)\n",
    "\n",
    "neutral_list = pd.DataFrame(neutral_list)\n",
    "negative_list = pd.DataFrame(negative_list)\n",
    "positive_list = pd.DataFrame(positive_list)\n",
    "\n",
    "print('total number: ', len(tweet_list))\n",
    "print('positive number: ',len(positive_list))\n",
    "print('negative number: ', len(negative_list))\n",
    "print('neutral number: ',len(neutral_list))"
   ]
  },
  {
   "cell_type": "markdown",
   "id": "4438e3a6",
   "metadata": {},
   "source": [
    "Es probable que algunos tweets esten duplicados, por lo que se deben eliminar los duplicados utilizando la función drop_duplicates."
   ]
  },
  {
   "cell_type": "code",
   "execution_count": 32,
   "id": "a535a01f",
   "metadata": {},
   "outputs": [],
   "source": [
    "tweet_list.drop_duplicates(inplace = True)"
   ]
  },
  {
   "cell_type": "code",
   "execution_count": 33,
   "id": "3ed6483c",
   "metadata": {},
   "outputs": [
    {
     "data": {
      "text/html": [
       "<div>\n",
       "<style scoped>\n",
       "    .dataframe tbody tr th:only-of-type {\n",
       "        vertical-align: middle;\n",
       "    }\n",
       "\n",
       "    .dataframe tbody tr th {\n",
       "        vertical-align: top;\n",
       "    }\n",
       "\n",
       "    .dataframe thead th {\n",
       "        text-align: right;\n",
       "    }\n",
       "</style>\n",
       "<table border=\"1\" class=\"dataframe\">\n",
       "  <thead>\n",
       "    <tr style=\"text-align: right;\">\n",
       "      <th></th>\n",
       "      <th>0</th>\n",
       "    </tr>\n",
       "  </thead>\n",
       "  <tbody>\n",
       "    <tr>\n",
       "      <th>0</th>\n",
       "      <td>always try bring heavy metal rt</td>\n",
       "    </tr>\n",
       "    <tr>\n",
       "      <th>1</th>\n",
       "      <td>crying set ablaze</td>\n",
       "    </tr>\n",
       "    <tr>\n",
       "      <th>2</th>\n",
       "      <td>plus side look sky last night ablaze</td>\n",
       "    </tr>\n",
       "    <tr>\n",
       "      <th>3</th>\n",
       "      <td>phdsquares mufc theyve built much hype around ...</td>\n",
       "    </tr>\n",
       "    <tr>\n",
       "      <th>4</th>\n",
       "      <td>ablaze lord</td>\n",
       "    </tr>\n",
       "    <tr>\n",
       "      <th>...</th>\n",
       "      <td>...</td>\n",
       "    </tr>\n",
       "    <tr>\n",
       "      <th>4318</th>\n",
       "      <td>jtruff23 cameronhacker wrecked</td>\n",
       "    </tr>\n",
       "    <tr>\n",
       "      <th>4319</th>\n",
       "      <td>three days work theyve pretty much wrecked hah...</td>\n",
       "    </tr>\n",
       "    <tr>\n",
       "      <th>4320</th>\n",
       "      <td>fx forex trading cramer igers 3 words wrecked ...</td>\n",
       "    </tr>\n",
       "    <tr>\n",
       "      <th>4321</th>\n",
       "      <td>engineshed great atmosphere british lion gig t...</td>\n",
       "    </tr>\n",
       "    <tr>\n",
       "      <th>4322</th>\n",
       "      <td>cramer igers 3 words wrecked disneys stock cnbc</td>\n",
       "    </tr>\n",
       "  </tbody>\n",
       "</table>\n",
       "<p>4024 rows × 1 columns</p>\n",
       "</div>"
      ],
      "text/plain": [
       "                                                      0\n",
       "0                       always try bring heavy metal rt\n",
       "1                                     crying set ablaze\n",
       "2                  plus side look sky last night ablaze\n",
       "3     phdsquares mufc theyve built much hype around ...\n",
       "4                                           ablaze lord\n",
       "...                                                 ...\n",
       "4318                     jtruff23 cameronhacker wrecked\n",
       "4319  three days work theyve pretty much wrecked hah...\n",
       "4320  fx forex trading cramer igers 3 words wrecked ...\n",
       "4321  engineshed great atmosphere british lion gig t...\n",
       "4322    cramer igers 3 words wrecked disneys stock cnbc\n",
       "\n",
       "[4024 rows x 1 columns]"
      ]
     },
     "execution_count": 33,
     "metadata": {},
     "output_type": "execute_result"
    }
   ],
   "source": [
    "tweet_list"
   ]
  },
  {
   "cell_type": "markdown",
   "id": "5faed6e6",
   "metadata": {},
   "source": [
    "Ahora, con los datos limpios se puede calcular los parámetros de polaridad, subjetividad, sentimiento, negativos, positivos, neutros y compuestos. Para todos los parámetros calculados, se crean nuevas columnas en el data frame."
   ]
  },
  {
   "cell_type": "code",
   "execution_count": 34,
   "id": "7e0e1bb9",
   "metadata": {},
   "outputs": [
    {
     "data": {
      "text/html": [
       "<div>\n",
       "<style scoped>\n",
       "    .dataframe tbody tr th:only-of-type {\n",
       "        vertical-align: middle;\n",
       "    }\n",
       "\n",
       "    .dataframe tbody tr th {\n",
       "        vertical-align: top;\n",
       "    }\n",
       "\n",
       "    .dataframe thead th {\n",
       "        text-align: right;\n",
       "    }\n",
       "</style>\n",
       "<table border=\"1\" class=\"dataframe\">\n",
       "  <thead>\n",
       "    <tr style=\"text-align: right;\">\n",
       "      <th></th>\n",
       "      <th>0</th>\n",
       "      <th>polarity</th>\n",
       "      <th>subjectivity</th>\n",
       "      <th>sentiment</th>\n",
       "      <th>neg</th>\n",
       "      <th>neu</th>\n",
       "      <th>pos</th>\n",
       "      <th>compound</th>\n",
       "    </tr>\n",
       "  </thead>\n",
       "  <tbody>\n",
       "    <tr>\n",
       "      <th>0</th>\n",
       "      <td>always try bring heavy metal rt</td>\n",
       "      <td>-0.200000</td>\n",
       "      <td>0.500000</td>\n",
       "      <td>neutral</td>\n",
       "      <td>0.000</td>\n",
       "      <td>1.000</td>\n",
       "      <td>0.000</td>\n",
       "      <td>0.0000</td>\n",
       "    </tr>\n",
       "    <tr>\n",
       "      <th>1</th>\n",
       "      <td>crying set ablaze</td>\n",
       "      <td>-0.200000</td>\n",
       "      <td>0.600000</td>\n",
       "      <td>negative</td>\n",
       "      <td>0.608</td>\n",
       "      <td>0.392</td>\n",
       "      <td>0.000</td>\n",
       "      <td>-0.4767</td>\n",
       "    </tr>\n",
       "    <tr>\n",
       "      <th>2</th>\n",
       "      <td>plus side look sky last night ablaze</td>\n",
       "      <td>0.000000</td>\n",
       "      <td>0.066667</td>\n",
       "      <td>neutral</td>\n",
       "      <td>0.000</td>\n",
       "      <td>1.000</td>\n",
       "      <td>0.000</td>\n",
       "      <td>0.0000</td>\n",
       "    </tr>\n",
       "    <tr>\n",
       "      <th>3</th>\n",
       "      <td>phdsquares mufc theyve built much hype around ...</td>\n",
       "      <td>0.168182</td>\n",
       "      <td>0.327273</td>\n",
       "      <td>negative</td>\n",
       "      <td>0.161</td>\n",
       "      <td>0.839</td>\n",
       "      <td>0.000</td>\n",
       "      <td>-0.3612</td>\n",
       "    </tr>\n",
       "    <tr>\n",
       "      <th>4</th>\n",
       "      <td>ablaze lord</td>\n",
       "      <td>0.000000</td>\n",
       "      <td>0.000000</td>\n",
       "      <td>neutral</td>\n",
       "      <td>0.000</td>\n",
       "      <td>1.000</td>\n",
       "      <td>0.000</td>\n",
       "      <td>0.0000</td>\n",
       "    </tr>\n",
       "    <tr>\n",
       "      <th>...</th>\n",
       "      <td>...</td>\n",
       "      <td>...</td>\n",
       "      <td>...</td>\n",
       "      <td>...</td>\n",
       "      <td>...</td>\n",
       "      <td>...</td>\n",
       "      <td>...</td>\n",
       "      <td>...</td>\n",
       "    </tr>\n",
       "    <tr>\n",
       "      <th>4318</th>\n",
       "      <td>jtruff23 cameronhacker wrecked</td>\n",
       "      <td>0.000000</td>\n",
       "      <td>0.000000</td>\n",
       "      <td>neutral</td>\n",
       "      <td>0.000</td>\n",
       "      <td>1.000</td>\n",
       "      <td>0.000</td>\n",
       "      <td>0.0000</td>\n",
       "    </tr>\n",
       "    <tr>\n",
       "      <th>4319</th>\n",
       "      <td>three days work theyve pretty much wrecked hah...</td>\n",
       "      <td>0.216667</td>\n",
       "      <td>0.533333</td>\n",
       "      <td>positive</td>\n",
       "      <td>0.000</td>\n",
       "      <td>0.570</td>\n",
       "      <td>0.430</td>\n",
       "      <td>0.7783</td>\n",
       "    </tr>\n",
       "    <tr>\n",
       "      <th>4320</th>\n",
       "      <td>fx forex trading cramer igers 3 words wrecked ...</td>\n",
       "      <td>0.000000</td>\n",
       "      <td>0.000000</td>\n",
       "      <td>neutral</td>\n",
       "      <td>0.000</td>\n",
       "      <td>1.000</td>\n",
       "      <td>0.000</td>\n",
       "      <td>0.0000</td>\n",
       "    </tr>\n",
       "    <tr>\n",
       "      <th>4321</th>\n",
       "      <td>engineshed great atmosphere british lion gig t...</td>\n",
       "      <td>0.400000</td>\n",
       "      <td>0.375000</td>\n",
       "      <td>positive</td>\n",
       "      <td>0.000</td>\n",
       "      <td>0.661</td>\n",
       "      <td>0.339</td>\n",
       "      <td>0.6249</td>\n",
       "    </tr>\n",
       "    <tr>\n",
       "      <th>4322</th>\n",
       "      <td>cramer igers 3 words wrecked disneys stock cnbc</td>\n",
       "      <td>0.000000</td>\n",
       "      <td>0.000000</td>\n",
       "      <td>neutral</td>\n",
       "      <td>0.000</td>\n",
       "      <td>1.000</td>\n",
       "      <td>0.000</td>\n",
       "      <td>0.0000</td>\n",
       "    </tr>\n",
       "  </tbody>\n",
       "</table>\n",
       "<p>4024 rows × 8 columns</p>\n",
       "</div>"
      ],
      "text/plain": [
       "                                                      0  polarity  \\\n",
       "0                       always try bring heavy metal rt -0.200000   \n",
       "1                                     crying set ablaze -0.200000   \n",
       "2                  plus side look sky last night ablaze  0.000000   \n",
       "3     phdsquares mufc theyve built much hype around ...  0.168182   \n",
       "4                                           ablaze lord  0.000000   \n",
       "...                                                 ...       ...   \n",
       "4318                     jtruff23 cameronhacker wrecked  0.000000   \n",
       "4319  three days work theyve pretty much wrecked hah...  0.216667   \n",
       "4320  fx forex trading cramer igers 3 words wrecked ...  0.000000   \n",
       "4321  engineshed great atmosphere british lion gig t...  0.400000   \n",
       "4322    cramer igers 3 words wrecked disneys stock cnbc  0.000000   \n",
       "\n",
       "      subjectivity sentiment    neg    neu    pos  compound  \n",
       "0         0.500000   neutral  0.000  1.000  0.000    0.0000  \n",
       "1         0.600000  negative  0.608  0.392  0.000   -0.4767  \n",
       "2         0.066667   neutral  0.000  1.000  0.000    0.0000  \n",
       "3         0.327273  negative  0.161  0.839  0.000   -0.3612  \n",
       "4         0.000000   neutral  0.000  1.000  0.000    0.0000  \n",
       "...            ...       ...    ...    ...    ...       ...  \n",
       "4318      0.000000   neutral  0.000  1.000  0.000    0.0000  \n",
       "4319      0.533333  positive  0.000  0.570  0.430    0.7783  \n",
       "4320      0.000000   neutral  0.000  1.000  0.000    0.0000  \n",
       "4321      0.375000  positive  0.000  0.661  0.339    0.6249  \n",
       "4322      0.000000   neutral  0.000  1.000  0.000    0.0000  \n",
       "\n",
       "[4024 rows x 8 columns]"
      ]
     },
     "execution_count": 34,
     "metadata": {},
     "output_type": "execute_result"
    }
   ],
   "source": [
    "#Calculating Negative, Positive, Neutral and Compound values\n",
    "\n",
    "tweet_list[['polarity', 'subjectivity']] = tweet_list[0].apply(lambda Text: pd.Series(TextBlob(Text).sentiment))\n",
    "\n",
    "for index, row in tweet_list[0].iteritems():\n",
    "    \n",
    "    score = SentimentIntensityAnalyzer().polarity_scores(row)\n",
    "    \n",
    "    neg = score['neg']\n",
    "    neu = score['neu']\n",
    "    pos = score['pos']\n",
    "    comp = score['compound']\n",
    "    \n",
    "    if neg > pos:\n",
    "        tweet_list.loc[index, 'sentiment'] = 'negative'\n",
    "    elif pos > neg:\n",
    "        tweet_list.loc[index, 'sentiment'] = 'positive'\n",
    "    else:\n",
    "        tweet_list.loc[index, 'sentiment'] = 'neutral'\n",
    "    \n",
    "    tweet_list.loc[index, 'neg'] = neg\n",
    "    tweet_list.loc[index, 'neu'] = neu\n",
    "    tweet_list.loc[index, 'pos'] = pos\n",
    "    tweet_list.loc[index, 'compound'] = comp\n",
    "\n",
    "tweet_list"
   ]
  },
  {
   "cell_type": "markdown",
   "id": "f1cd9c19",
   "metadata": {},
   "source": [
    "Separamos 3 grupos según el sentimiento."
   ]
  },
  {
   "cell_type": "code",
   "execution_count": 35,
   "id": "60ed14f4",
   "metadata": {},
   "outputs": [],
   "source": [
    "#Creating new data frames for all sentiments (positive, negative and neutral)\n",
    "tw_list_negative = tweet_list[tweet_list['sentiment']=='negative']\n",
    "tw_list_positive = tweet_list[tweet_list['sentiment']=='positive']\n",
    "tw_list_neutral = tweet_list[tweet_list['sentiment']=='neutral']"
   ]
  },
  {
   "cell_type": "markdown",
   "id": "6f527877",
   "metadata": {},
   "source": [
    "Vamos a contar los valores y ver el porcentaje total."
   ]
  },
  {
   "cell_type": "code",
   "execution_count": 36,
   "id": "3e770355",
   "metadata": {},
   "outputs": [
    {
     "data": {
      "text/html": [
       "<div>\n",
       "<style scoped>\n",
       "    .dataframe tbody tr th:only-of-type {\n",
       "        vertical-align: middle;\n",
       "    }\n",
       "\n",
       "    .dataframe tbody tr th {\n",
       "        vertical-align: top;\n",
       "    }\n",
       "\n",
       "    .dataframe thead th {\n",
       "        text-align: right;\n",
       "    }\n",
       "</style>\n",
       "<table border=\"1\" class=\"dataframe\">\n",
       "  <thead>\n",
       "    <tr style=\"text-align: right;\">\n",
       "      <th></th>\n",
       "      <th>Total</th>\n",
       "      <th>Percentage</th>\n",
       "    </tr>\n",
       "  </thead>\n",
       "  <tbody>\n",
       "    <tr>\n",
       "      <th>negative</th>\n",
       "      <td>1698</td>\n",
       "      <td>42.20</td>\n",
       "    </tr>\n",
       "    <tr>\n",
       "      <th>positive</th>\n",
       "      <td>1330</td>\n",
       "      <td>33.05</td>\n",
       "    </tr>\n",
       "    <tr>\n",
       "      <th>neutral</th>\n",
       "      <td>996</td>\n",
       "      <td>24.75</td>\n",
       "    </tr>\n",
       "  </tbody>\n",
       "</table>\n",
       "</div>"
      ],
      "text/plain": [
       "          Total  Percentage\n",
       "negative   1698       42.20\n",
       "positive   1330       33.05\n",
       "neutral     996       24.75"
      ]
     },
     "execution_count": 36,
     "metadata": {},
     "output_type": "execute_result"
    }
   ],
   "source": [
    "def count_values_in_column(data,feature):\n",
    "\n",
    "    total=data.loc[:,feature].value_counts(dropna=False)\n",
    "    percentage=round(data.loc[:,feature].value_counts(dropna=False,normalize=True)*100,2)\n",
    "    \n",
    "    return pd.concat([total,percentage],axis=1,keys=['Total', 'Percentage'])#Count_values for sentiment\n",
    "\n",
    "count_values_in_column(tweet_list,'sentiment')"
   ]
  },
  {
   "cell_type": "markdown",
   "id": "a8627a08",
   "metadata": {},
   "source": [
    "Creamos un gráfico utilizando los datos y la informacion del analisis de sentimientos de los tweets."
   ]
  },
  {
   "cell_type": "code",
   "execution_count": 37,
   "id": "1a01f8fa",
   "metadata": {},
   "outputs": [
    {
     "data": {
      "image/png": "[encoded data removed]",
      "text/plain": [
       "<Figure size 432x288 with 1 Axes>"
      ]
     },
     "metadata": {},
     "output_type": "display_data"
    }
   ],
   "source": [
    "# create data for Pie Chart\n",
    "pc = count_values_in_column(tweet_list,'sentiment')\n",
    "names= pc.index\n",
    "size=pc['Percentage']\n",
    " \n",
    "# Create a circle for the center of the plot\n",
    "my_circle=plt.Circle( (0,0), 0.7, color='white')\n",
    "plt.pie(size, labels=names, colors=['green','blue','red'])\n",
    "p=plt.gcf()\n",
    "p.gca().add_artist(my_circle)\n",
    "plt.show()"
   ]
  },
  {
   "cell_type": "markdown",
   "id": "ee1a72d7",
   "metadata": {},
   "source": [
    "#### siDesastres"
   ]
  },
  {
   "cell_type": "code",
   "execution_count": 38,
   "id": "51a5986b",
   "metadata": {},
   "outputs": [],
   "source": [
    "# Tweet sentiment Counters\n",
    "positive = 0\n",
    "negative = 0\n",
    "neutral = 0\n",
    "\n",
    "polarity = 0\n",
    "\n",
    "# Tweet sentiment Lists\n",
    "tweet_list = []\n",
    "neutral_list = []\n",
    "negative_list = []\n",
    "positive_list = []"
   ]
  },
  {
   "cell_type": "code",
   "execution_count": 39,
   "id": "c1913902",
   "metadata": {},
   "outputs": [],
   "source": [
    "for tweet in siDesastre.text:\n",
    "    \n",
    "    tweet_list.append(tweet)\n",
    "    analysis = TextBlob(tweet)\n",
    "    score = SentimentIntensityAnalyzer().polarity_scores(tweet)\n",
    "    neg = score['neg']\n",
    "    neu = score['neu']\n",
    "    pos = score['pos']\n",
    "    comp = score['compound']\n",
    "    polarity += analysis.sentiment.polarity\n",
    "    \n",
    "    if neg > pos:\n",
    "        negative_list.append(tweet)\n",
    "        negative += 1\n",
    "    elif pos > neg:\n",
    "        positive_list.append(tweet)\n",
    "        positive += 1\n",
    "    elif pos == neg:\n",
    "        neutral_list.append(tweet)\n",
    "        neutral += 1"
   ]
  },
  {
   "cell_type": "code",
   "execution_count": 40,
   "id": "24acda6c",
   "metadata": {},
   "outputs": [],
   "source": [
    "def percentage(part,whole):\n",
    "    return 100 * float(part)/float(whole)\n",
    "\n",
    "noOfTweet = len(siDesastre.text)\n",
    "\n",
    "positive = percentage(positive, noOfTweet)\n",
    "negative = percentage(negative, noOfTweet)\n",
    "neutral = percentage(neutral, noOfTweet)\n",
    "polarity = percentage(polarity, noOfTweet)\n",
    "\n",
    "positive = format(positive, '.1f')\n",
    "negative = format(negative, '.1f')\n",
    "neutral = format(neutral, '.1f')"
   ]
  },
  {
   "cell_type": "markdown",
   "id": "9cef06a1",
   "metadata": {},
   "source": [
    "Miremos la cantidad de tweets y sus sentimientos"
   ]
  },
  {
   "cell_type": "code",
   "execution_count": 41,
   "id": "978efcf7",
   "metadata": {},
   "outputs": [
    {
     "name": "stdout",
     "output_type": "stream",
     "text": [
      "total number:  3229\n",
      "positive number:  538\n",
      "negative number:  1807\n",
      "neutral number:  884\n"
     ]
    }
   ],
   "source": [
    "#Number of Tweets (Total, Positive, Negative, Neutral)tweet_list = pd.DataFrame(tweet_list)\n",
    "\n",
    "tweet_list = pd.DataFrame(tweet_list)\n",
    "\n",
    "neutral_list = pd.DataFrame(neutral_list)\n",
    "negative_list = pd.DataFrame(negative_list)\n",
    "positive_list = pd.DataFrame(positive_list)\n",
    "\n",
    "print('total number: ', len(tweet_list))\n",
    "print('positive number: ',len(positive_list))\n",
    "print('negative number: ', len(negative_list))\n",
    "print('neutral number: ',len(neutral_list))"
   ]
  },
  {
   "cell_type": "markdown",
   "id": "8ebeb6ba",
   "metadata": {},
   "source": [
    "Es probable que algunos tweets esten duplicados, por lo que se deben eliminar los duplicados utilizando la función drop_duplicates."
   ]
  },
  {
   "cell_type": "code",
   "execution_count": 42,
   "id": "e1027396",
   "metadata": {},
   "outputs": [],
   "source": [
    "tweet_list.drop_duplicates(inplace = True)"
   ]
  },
  {
   "cell_type": "code",
   "execution_count": 43,
   "id": "99acb2c1",
   "metadata": {},
   "outputs": [
    {
     "data": {
      "text/html": [
       "<div>\n",
       "<style scoped>\n",
       "    .dataframe tbody tr th:only-of-type {\n",
       "        vertical-align: middle;\n",
       "    }\n",
       "\n",
       "    .dataframe tbody tr th {\n",
       "        vertical-align: top;\n",
       "    }\n",
       "\n",
       "    .dataframe thead th {\n",
       "        text-align: right;\n",
       "    }\n",
       "</style>\n",
       "<table border=\"1\" class=\"dataframe\">\n",
       "  <thead>\n",
       "    <tr style=\"text-align: right;\">\n",
       "      <th></th>\n",
       "      <th>0</th>\n",
       "    </tr>\n",
       "  </thead>\n",
       "  <tbody>\n",
       "    <tr>\n",
       "      <th>0</th>\n",
       "      <td>bbcmtd wholesale markets ablaze</td>\n",
       "    </tr>\n",
       "    <tr>\n",
       "      <th>1</th>\n",
       "      <td>africanbaze breaking newsnigeria flag set abla...</td>\n",
       "    </tr>\n",
       "    <tr>\n",
       "      <th>2</th>\n",
       "      <td>inec office abia set ablaze</td>\n",
       "    </tr>\n",
       "    <tr>\n",
       "      <th>3</th>\n",
       "      <td>barbados bridgetown jamaica ûò two cars set a...</td>\n",
       "    </tr>\n",
       "    <tr>\n",
       "      <th>4</th>\n",
       "      <td>west burned thousands wildfires ablaze califor...</td>\n",
       "    </tr>\n",
       "    <tr>\n",
       "      <th>...</th>\n",
       "      <td>...</td>\n",
       "    </tr>\n",
       "    <tr>\n",
       "      <th>3213</th>\n",
       "      <td>check malaysia confirms plane wreckage flight ...</td>\n",
       "    </tr>\n",
       "    <tr>\n",
       "      <th>3224</th>\n",
       "      <td>wreckage conclusively confirmed missing flight...</td>\n",
       "    </tr>\n",
       "    <tr>\n",
       "      <th>3226</th>\n",
       "      <td>israel wrecked home wants land</td>\n",
       "    </tr>\n",
       "    <tr>\n",
       "      <th>3227</th>\n",
       "      <td>300k exotic car wrecked train accident</td>\n",
       "    </tr>\n",
       "    <tr>\n",
       "      <th>3228</th>\n",
       "      <td>kirafrog mountwario get wrecked</td>\n",
       "    </tr>\n",
       "  </tbody>\n",
       "</table>\n",
       "<p>2762 rows × 1 columns</p>\n",
       "</div>"
      ],
      "text/plain": [
       "                                                      0\n",
       "0                       bbcmtd wholesale markets ablaze\n",
       "1     africanbaze breaking newsnigeria flag set abla...\n",
       "2                           inec office abia set ablaze\n",
       "3     barbados bridgetown jamaica ûò two cars set a...\n",
       "4     west burned thousands wildfires ablaze califor...\n",
       "...                                                 ...\n",
       "3213  check malaysia confirms plane wreckage flight ...\n",
       "3224  wreckage conclusively confirmed missing flight...\n",
       "3226                     israel wrecked home wants land\n",
       "3227             300k exotic car wrecked train accident\n",
       "3228                    kirafrog mountwario get wrecked\n",
       "\n",
       "[2762 rows x 1 columns]"
      ]
     },
     "execution_count": 43,
     "metadata": {},
     "output_type": "execute_result"
    }
   ],
   "source": [
    "tweet_list"
   ]
  },
  {
   "cell_type": "markdown",
   "id": "07678ffb",
   "metadata": {},
   "source": [
    "Ahora, con los datos limpios se puede calcular los parámetros de polaridad, subjetividad, sentimiento, negativos, positivos, neutros y compuestos. Para todos los parámetros calculados, se crean nuevas columnas en el data frame."
   ]
  },
  {
   "cell_type": "code",
   "execution_count": 44,
   "id": "6f99315d",
   "metadata": {},
   "outputs": [
    {
     "data": {
      "text/html": [
       "<div>\n",
       "<style scoped>\n",
       "    .dataframe tbody tr th:only-of-type {\n",
       "        vertical-align: middle;\n",
       "    }\n",
       "\n",
       "    .dataframe tbody tr th {\n",
       "        vertical-align: top;\n",
       "    }\n",
       "\n",
       "    .dataframe thead th {\n",
       "        text-align: right;\n",
       "    }\n",
       "</style>\n",
       "<table border=\"1\" class=\"dataframe\">\n",
       "  <thead>\n",
       "    <tr style=\"text-align: right;\">\n",
       "      <th></th>\n",
       "      <th>0</th>\n",
       "      <th>polarity</th>\n",
       "      <th>subjectivity</th>\n",
       "      <th>sentiment</th>\n",
       "      <th>neg</th>\n",
       "      <th>neu</th>\n",
       "      <th>pos</th>\n",
       "      <th>compound</th>\n",
       "    </tr>\n",
       "  </thead>\n",
       "  <tbody>\n",
       "    <tr>\n",
       "      <th>0</th>\n",
       "      <td>bbcmtd wholesale markets ablaze</td>\n",
       "      <td>0.0</td>\n",
       "      <td>0.000</td>\n",
       "      <td>neutral</td>\n",
       "      <td>0.000</td>\n",
       "      <td>1.000</td>\n",
       "      <td>0.0</td>\n",
       "      <td>0.0000</td>\n",
       "    </tr>\n",
       "    <tr>\n",
       "      <th>1</th>\n",
       "      <td>africanbaze breaking newsnigeria flag set abla...</td>\n",
       "      <td>0.0</td>\n",
       "      <td>0.000</td>\n",
       "      <td>neutral</td>\n",
       "      <td>0.000</td>\n",
       "      <td>1.000</td>\n",
       "      <td>0.0</td>\n",
       "      <td>0.0000</td>\n",
       "    </tr>\n",
       "    <tr>\n",
       "      <th>2</th>\n",
       "      <td>inec office abia set ablaze</td>\n",
       "      <td>0.0</td>\n",
       "      <td>0.000</td>\n",
       "      <td>neutral</td>\n",
       "      <td>0.000</td>\n",
       "      <td>1.000</td>\n",
       "      <td>0.0</td>\n",
       "      <td>0.0000</td>\n",
       "    </tr>\n",
       "    <tr>\n",
       "      <th>3</th>\n",
       "      <td>barbados bridgetown jamaica ûò two cars set a...</td>\n",
       "      <td>0.0</td>\n",
       "      <td>0.000</td>\n",
       "      <td>neutral</td>\n",
       "      <td>0.000</td>\n",
       "      <td>1.000</td>\n",
       "      <td>0.0</td>\n",
       "      <td>0.0000</td>\n",
       "    </tr>\n",
       "    <tr>\n",
       "      <th>4</th>\n",
       "      <td>west burned thousands wildfires ablaze califor...</td>\n",
       "      <td>0.0</td>\n",
       "      <td>0.000</td>\n",
       "      <td>negative</td>\n",
       "      <td>0.250</td>\n",
       "      <td>0.750</td>\n",
       "      <td>0.0</td>\n",
       "      <td>-0.2500</td>\n",
       "    </tr>\n",
       "    <tr>\n",
       "      <th>...</th>\n",
       "      <td>...</td>\n",
       "      <td>...</td>\n",
       "      <td>...</td>\n",
       "      <td>...</td>\n",
       "      <td>...</td>\n",
       "      <td>...</td>\n",
       "      <td>...</td>\n",
       "      <td>...</td>\n",
       "    </tr>\n",
       "    <tr>\n",
       "      <th>3213</th>\n",
       "      <td>check malaysia confirms plane wreckage flight ...</td>\n",
       "      <td>0.0</td>\n",
       "      <td>0.000</td>\n",
       "      <td>neutral</td>\n",
       "      <td>0.000</td>\n",
       "      <td>1.000</td>\n",
       "      <td>0.0</td>\n",
       "      <td>0.0000</td>\n",
       "    </tr>\n",
       "    <tr>\n",
       "      <th>3224</th>\n",
       "      <td>wreckage conclusively confirmed missing flight...</td>\n",
       "      <td>0.1</td>\n",
       "      <td>0.525</td>\n",
       "      <td>negative</td>\n",
       "      <td>0.239</td>\n",
       "      <td>0.761</td>\n",
       "      <td>0.0</td>\n",
       "      <td>-0.2960</td>\n",
       "    </tr>\n",
       "    <tr>\n",
       "      <th>3226</th>\n",
       "      <td>israel wrecked home wants land</td>\n",
       "      <td>0.2</td>\n",
       "      <td>0.100</td>\n",
       "      <td>neutral</td>\n",
       "      <td>0.000</td>\n",
       "      <td>1.000</td>\n",
       "      <td>0.0</td>\n",
       "      <td>0.0000</td>\n",
       "    </tr>\n",
       "    <tr>\n",
       "      <th>3227</th>\n",
       "      <td>300k exotic car wrecked train accident</td>\n",
       "      <td>0.5</td>\n",
       "      <td>1.000</td>\n",
       "      <td>negative</td>\n",
       "      <td>0.383</td>\n",
       "      <td>0.617</td>\n",
       "      <td>0.0</td>\n",
       "      <td>-0.4767</td>\n",
       "    </tr>\n",
       "    <tr>\n",
       "      <th>3228</th>\n",
       "      <td>kirafrog mountwario get wrecked</td>\n",
       "      <td>0.0</td>\n",
       "      <td>0.000</td>\n",
       "      <td>neutral</td>\n",
       "      <td>0.000</td>\n",
       "      <td>1.000</td>\n",
       "      <td>0.0</td>\n",
       "      <td>0.0000</td>\n",
       "    </tr>\n",
       "  </tbody>\n",
       "</table>\n",
       "<p>2762 rows × 8 columns</p>\n",
       "</div>"
      ],
      "text/plain": [
       "                                                      0  polarity  \\\n",
       "0                       bbcmtd wholesale markets ablaze       0.0   \n",
       "1     africanbaze breaking newsnigeria flag set abla...       0.0   \n",
       "2                           inec office abia set ablaze       0.0   \n",
       "3     barbados bridgetown jamaica ûò two cars set a...       0.0   \n",
       "4     west burned thousands wildfires ablaze califor...       0.0   \n",
       "...                                                 ...       ...   \n",
       "3213  check malaysia confirms plane wreckage flight ...       0.0   \n",
       "3224  wreckage conclusively confirmed missing flight...       0.1   \n",
       "3226                     israel wrecked home wants land       0.2   \n",
       "3227             300k exotic car wrecked train accident       0.5   \n",
       "3228                    kirafrog mountwario get wrecked       0.0   \n",
       "\n",
       "      subjectivity sentiment    neg    neu  pos  compound  \n",
       "0            0.000   neutral  0.000  1.000  0.0    0.0000  \n",
       "1            0.000   neutral  0.000  1.000  0.0    0.0000  \n",
       "2            0.000   neutral  0.000  1.000  0.0    0.0000  \n",
       "3            0.000   neutral  0.000  1.000  0.0    0.0000  \n",
       "4            0.000  negative  0.250  0.750  0.0   -0.2500  \n",
       "...            ...       ...    ...    ...  ...       ...  \n",
       "3213         0.000   neutral  0.000  1.000  0.0    0.0000  \n",
       "3224         0.525  negative  0.239  0.761  0.0   -0.2960  \n",
       "3226         0.100   neutral  0.000  1.000  0.0    0.0000  \n",
       "3227         1.000  negative  0.383  0.617  0.0   -0.4767  \n",
       "3228         0.000   neutral  0.000  1.000  0.0    0.0000  \n",
       "\n",
       "[2762 rows x 8 columns]"
      ]
     },
     "execution_count": 44,
     "metadata": {},
     "output_type": "execute_result"
    }
   ],
   "source": [
    "#Calculating Negative, Positive, Neutral and Compound values\n",
    "\n",
    "tweet_list[['polarity', 'subjectivity']] = tweet_list[0].apply(lambda Text: pd.Series(TextBlob(Text).sentiment))\n",
    "\n",
    "for index, row in tweet_list[0].iteritems():\n",
    "    \n",
    "    score = SentimentIntensityAnalyzer().polarity_scores(row)\n",
    "    \n",
    "    neg = score['neg']\n",
    "    neu = score['neu']\n",
    "    pos = score['pos']\n",
    "    comp = score['compound']\n",
    "    \n",
    "    if neg > pos:\n",
    "        tweet_list.loc[index, 'sentiment'] = 'negative'\n",
    "    elif pos > neg:\n",
    "        tweet_list.loc[index, 'sentiment'] = 'positive'\n",
    "    else:\n",
    "        tweet_list.loc[index, 'sentiment'] = 'neutral'\n",
    "    \n",
    "    tweet_list.loc[index, 'neg'] = neg\n",
    "    tweet_list.loc[index, 'neu'] = neu\n",
    "    tweet_list.loc[index, 'pos'] = pos\n",
    "    tweet_list.loc[index, 'compound'] = comp\n",
    "\n",
    "tweet_list"
   ]
  },
  {
   "cell_type": "markdown",
   "id": "e15d344a",
   "metadata": {},
   "source": [
    "Separamos 3 grupos según el sentimiento."
   ]
  },
  {
   "cell_type": "code",
   "execution_count": 45,
   "id": "31045853",
   "metadata": {},
   "outputs": [],
   "source": [
    "#Creating new data frames for all sentiments (positive, negative and neutral)\n",
    "tw_list_negative = tweet_list[tweet_list['sentiment']=='negative']\n",
    "tw_list_positive = tweet_list[tweet_list['sentiment']=='positive']\n",
    "tw_list_neutral = tweet_list[tweet_list['sentiment']=='neutral']"
   ]
  },
  {
   "cell_type": "markdown",
   "id": "c9c94ad8",
   "metadata": {},
   "source": [
    "Vamos a contar los valores y ver el porcentaje total."
   ]
  },
  {
   "cell_type": "code",
   "execution_count": 46,
   "id": "6c9ac01e",
   "metadata": {},
   "outputs": [
    {
     "data": {
      "text/html": [
       "<div>\n",
       "<style scoped>\n",
       "    .dataframe tbody tr th:only-of-type {\n",
       "        vertical-align: middle;\n",
       "    }\n",
       "\n",
       "    .dataframe tbody tr th {\n",
       "        vertical-align: top;\n",
       "    }\n",
       "\n",
       "    .dataframe thead th {\n",
       "        text-align: right;\n",
       "    }\n",
       "</style>\n",
       "<table border=\"1\" class=\"dataframe\">\n",
       "  <thead>\n",
       "    <tr style=\"text-align: right;\">\n",
       "      <th></th>\n",
       "      <th>Total</th>\n",
       "      <th>Percentage</th>\n",
       "    </tr>\n",
       "  </thead>\n",
       "  <tbody>\n",
       "    <tr>\n",
       "      <th>negative</th>\n",
       "      <td>1568</td>\n",
       "      <td>56.77</td>\n",
       "    </tr>\n",
       "    <tr>\n",
       "      <th>neutral</th>\n",
       "      <td>699</td>\n",
       "      <td>25.31</td>\n",
       "    </tr>\n",
       "    <tr>\n",
       "      <th>positive</th>\n",
       "      <td>495</td>\n",
       "      <td>17.92</td>\n",
       "    </tr>\n",
       "  </tbody>\n",
       "</table>\n",
       "</div>"
      ],
      "text/plain": [
       "          Total  Percentage\n",
       "negative   1568       56.77\n",
       "neutral     699       25.31\n",
       "positive    495       17.92"
      ]
     },
     "execution_count": 46,
     "metadata": {},
     "output_type": "execute_result"
    }
   ],
   "source": [
    "def count_values_in_column(data,feature):\n",
    "\n",
    "    total=data.loc[:,feature].value_counts(dropna=False)\n",
    "    percentage=round(data.loc[:,feature].value_counts(dropna=False,normalize=True)*100,2)\n",
    "    \n",
    "    return pd.concat([total,percentage],axis=1,keys=['Total', 'Percentage'])#Count_values for sentiment\n",
    "\n",
    "count_values_in_column(tweet_list,'sentiment')"
   ]
  },
  {
   "cell_type": "markdown",
   "id": "87bb98b3",
   "metadata": {},
   "source": [
    "Creamos un gráfico utilizando los datos y la informacion del analisis de sentimientos de los tweets."
   ]
  },
  {
   "cell_type": "code",
   "execution_count": 47,
   "id": "81e7db68",
   "metadata": {},
   "outputs": [
    {
     "data": {
      "image/png": "[encoded data removed]",
      "text/plain": [
       "<Figure size 432x288 with 1 Axes>"
      ]
     },
     "metadata": {},
     "output_type": "display_data"
    }
   ],
   "source": [
    "# create data for Pie Chart\n",
    "pc = count_values_in_column(tweet_list,'sentiment')\n",
    "names= pc.index\n",
    "size=pc['Percentage']\n",
    " \n",
    "# Create a circle for the center of the plot\n",
    "my_circle=plt.Circle( (0,0), 0.7, color='white')\n",
    "plt.pie(size, labels=names, colors=['green','blue','red'])\n",
    "p=plt.gcf()\n",
    "p.gca().add_artist(my_circle)\n",
    "plt.show()"
   ]
  },
  {
   "cell_type": "markdown",
   "id": "8b3aac18",
   "metadata": {},
   "source": [
    "## Conclusiones\n",
    "Nosotros esperabamos una diferencia más grande en los keywords y poder establecer una relación a partir de eso. Sin embargo, no fue así, siguen habiendo tweets con keywords como \"chemical reaction\" que aparecen en tweets que no son de desastres naturales. \n",
    "\n",
    "Una diferencia que puede ayudarnos para establecer una relación entre si es un desastre natural o no. Como pudo observarse en el sentiment analysis el numero de tweets negativos tanto en los de si desastre o no desastre es muy similar. \n",
    "\n",
    "Para poder tener mejores resultados se recomienda hacer un analisis del tipo de cuenta que esta poniendo el tweet y el tipo de comentarios que se tienen. Este analisis incluira en el resultado si es un tweet escrito por alguien que suele compartir tweets de desastres naturales y si los comentarios se relacionan a una tragedia."
   ]
  },
  {
   "cell_type": "markdown",
   "id": "e0811553",
   "metadata": {},
   "source": [
    "# Modeling\n",
    "Nuestro primer approach al problema era el de usar un analisis de sentimientos para poder clasificar los tweets basandonos en la polaridad del tweet a entrar. Sin embargo, del apartado anterior nos dimos cuenta que en términos de polaridad, los que son de tweets reales y los que no tienen un porcentaje similar de positivos, negativos y neutrales. Por lo que decidimos buscar otros modelos para poder clasificar nuestros tweets. \n",
    "\n",
    "## Vectorizer +Multinomial NB\n",
    "El primer modelo a probar es el modelo de vectorizer con una mezcla de naive bayes para conocer si este logra clasificar bien los datos. Importamos los datos. Primero importamos los datos y las librerias pertinentes para realizar esto. "
   ]
  },
  {
   "cell_type": "code",
   "execution_count": 48,
   "id": "8d3c25d3",
   "metadata": {},
   "outputs": [
    {
     "name": "stdout",
     "output_type": "stream",
     "text": [
      "<class 'pandas.core.frame.DataFrame'>\n",
      "RangeIndex: 7613 entries, 0 to 7612\n",
      "Data columns (total 5 columns):\n",
      " #   Column    Non-Null Count  Dtype \n",
      "---  ------    --------------  ----- \n",
      " 0   id        7613 non-null   int64 \n",
      " 1   keyword   7552 non-null   object\n",
      " 2   location  5080 non-null   object\n",
      " 3   text      7613 non-null   object\n",
      " 4   target    7613 non-null   int64 \n",
      "dtypes: int64(2), object(3)\n",
      "memory usage: 297.5+ KB\n"
     ]
    }
   ],
   "source": [
    "import numpy as np\n",
    "import pandas as pd\n",
    "import matplotlib.pyplot as plt\n",
    "import seaborn as sns\n",
    "train_df = pd.read_csv('train (1).csv')\n",
    "train_df.info()\n"
   ]
  },
  {
   "cell_type": "markdown",
   "id": "bc7f4dee",
   "metadata": {},
   "source": [
    "Hacemos los cmabios necesarios para poder realizar lo que se necesita para vecotrizar el texto. Primero tenemos que hacer una limpieza acerca de la eliminacion de los Na's presentes en el dataset, luego poder encontrar la manera de reunir todo el texto disponible del tweet bajo una sola columna para pdoer vectorizar los más posible. "
   ]
  },
  {
   "cell_type": "code",
   "execution_count": 49,
   "id": "9d10885e",
   "metadata": {},
   "outputs": [
    {
     "data": {
      "text/html": [
       "<div>\n",
       "<style scoped>\n",
       "    .dataframe tbody tr th:only-of-type {\n",
       "        vertical-align: middle;\n",
       "    }\n",
       "\n",
       "    .dataframe tbody tr th {\n",
       "        vertical-align: top;\n",
       "    }\n",
       "\n",
       "    .dataframe thead th {\n",
       "        text-align: right;\n",
       "    }\n",
       "</style>\n",
       "<table border=\"1\" class=\"dataframe\">\n",
       "  <thead>\n",
       "    <tr style=\"text-align: right;\">\n",
       "      <th></th>\n",
       "      <th>id</th>\n",
       "      <th>keyword</th>\n",
       "      <th>location</th>\n",
       "      <th>text</th>\n",
       "      <th>target</th>\n",
       "      <th>text length</th>\n",
       "      <th>new text</th>\n",
       "    </tr>\n",
       "  </thead>\n",
       "  <tbody>\n",
       "    <tr>\n",
       "      <th>0</th>\n",
       "      <td>1</td>\n",
       "      <td>fatalities</td>\n",
       "      <td>USA</td>\n",
       "      <td>Our Deeds are the Reason of this #earthquake M...</td>\n",
       "      <td>1</td>\n",
       "      <td>69</td>\n",
       "      <td>Our Deeds are the Reason of this  earthquake M...</td>\n",
       "    </tr>\n",
       "    <tr>\n",
       "      <th>1</th>\n",
       "      <td>4</td>\n",
       "      <td>fatalities</td>\n",
       "      <td>USA</td>\n",
       "      <td>Forest fire near La Ronge Sask. Canada</td>\n",
       "      <td>1</td>\n",
       "      <td>38</td>\n",
       "      <td>Forest fire near La Ronge Sask. Canada USA fat...</td>\n",
       "    </tr>\n",
       "    <tr>\n",
       "      <th>2</th>\n",
       "      <td>5</td>\n",
       "      <td>fatalities</td>\n",
       "      <td>USA</td>\n",
       "      <td>All residents asked to 'shelter in place' are ...</td>\n",
       "      <td>1</td>\n",
       "      <td>133</td>\n",
       "      <td>All residents asked to 'shelter in place' are ...</td>\n",
       "    </tr>\n",
       "    <tr>\n",
       "      <th>3</th>\n",
       "      <td>6</td>\n",
       "      <td>fatalities</td>\n",
       "      <td>USA</td>\n",
       "      <td>13,000 people receive #wildfires evacuation or...</td>\n",
       "      <td>1</td>\n",
       "      <td>65</td>\n",
       "      <td>13,000 people receive  wildfires evacuation or...</td>\n",
       "    </tr>\n",
       "    <tr>\n",
       "      <th>4</th>\n",
       "      <td>7</td>\n",
       "      <td>fatalities</td>\n",
       "      <td>USA</td>\n",
       "      <td>Just got sent this photo from Ruby #Alaska as ...</td>\n",
       "      <td>1</td>\n",
       "      <td>88</td>\n",
       "      <td>Just got sent this photo from Ruby  Alaska as ...</td>\n",
       "    </tr>\n",
       "  </tbody>\n",
       "</table>\n",
       "</div>"
      ],
      "text/plain": [
       "   id     keyword location                                               text  \\\n",
       "0   1  fatalities      USA  Our Deeds are the Reason of this #earthquake M...   \n",
       "1   4  fatalities      USA             Forest fire near La Ronge Sask. Canada   \n",
       "2   5  fatalities      USA  All residents asked to 'shelter in place' are ...   \n",
       "3   6  fatalities      USA  13,000 people receive #wildfires evacuation or...   \n",
       "4   7  fatalities      USA  Just got sent this photo from Ruby #Alaska as ...   \n",
       "\n",
       "   target  text length                                           new text  \n",
       "0       1           69  Our Deeds are the Reason of this  earthquake M...  \n",
       "1       1           38  Forest fire near La Ronge Sask. Canada USA fat...  \n",
       "2       1          133  All residents asked to 'shelter in place' are ...  \n",
       "3       1           65  13,000 people receive  wildfires evacuation or...  \n",
       "4       1           88  Just got sent this photo from Ruby  Alaska as ...  "
      ]
     },
     "execution_count": 49,
     "metadata": {},
     "output_type": "execute_result"
    }
   ],
   "source": [
    "train_df['text length'] = train_df['text'].apply(len)\n",
    "train_df['location'].isnull().sum()\n",
    "train_df['keyword'].isnull().sum()\n",
    "train_df['keyword'].unique()\n",
    "train_df['keyword'] = train_df['keyword'].str.replace('%20', ' ')\n",
    "train_df['keyword'].nunique()\n",
    "train_df['keyword'] = train_df['keyword'].fillna(train_df['keyword'].mode()[0])\n",
    "train_df['location'] = train_df['location'].fillna(train_df['location'].mode()[0])\n",
    "train_df['new text'] = train_df['text'] +' '+ train_df['location'] +' '+ train_df['keyword']\n",
    "train_df['new text'] = train_df['new text'].str.replace('#', ' ')\n",
    "train_df.head()"
   ]
  },
  {
   "cell_type": "markdown",
   "id": "d629464a",
   "metadata": {},
   "source": [
    "Creamos los datasets de train y test para la clasificacion de los tweets apartir del train, esto apr apoder ver un accuracy de nuestro algoritmo y poder ver si lo hizo correctamente. Tenemos que el train consistira del 70% de los datos totales, mientras que el test es del 30%."
   ]
  },
  {
   "cell_type": "code",
   "execution_count": 50,
   "id": "9533263f",
   "metadata": {},
   "outputs": [],
   "source": [
    "from sklearn.model_selection import train_test_split\n",
    "\n",
    "X = train_df\n",
    "train, test = train_test_split(X, test_size=0.3,train_size=0.7)\n"
   ]
  },
  {
   "cell_type": "code",
   "execution_count": 51,
   "id": "57e6cdff",
   "metadata": {},
   "outputs": [
    {
     "data": {
      "text/html": [
       "<div>\n",
       "<style scoped>\n",
       "    .dataframe tbody tr th:only-of-type {\n",
       "        vertical-align: middle;\n",
       "    }\n",
       "\n",
       "    .dataframe tbody tr th {\n",
       "        vertical-align: top;\n",
       "    }\n",
       "\n",
       "    .dataframe thead th {\n",
       "        text-align: right;\n",
       "    }\n",
       "</style>\n",
       "<table border=\"1\" class=\"dataframe\">\n",
       "  <thead>\n",
       "    <tr style=\"text-align: right;\">\n",
       "      <th></th>\n",
       "      <th>id</th>\n",
       "      <th>keyword</th>\n",
       "      <th>location</th>\n",
       "      <th>text</th>\n",
       "      <th>target</th>\n",
       "      <th>text length</th>\n",
       "      <th>new text</th>\n",
       "    </tr>\n",
       "  </thead>\n",
       "  <tbody>\n",
       "    <tr>\n",
       "      <th>4156</th>\n",
       "      <td>5905</td>\n",
       "      <td>harm</td>\n",
       "      <td>WORLD WIDE</td>\n",
       "      <td>ÛÏFor I know the plans I have for youÛ decl...</td>\n",
       "      <td>0</td>\n",
       "      <td>138</td>\n",
       "      <td>ÛÏFor I know the plans I have for youÛ decl...</td>\n",
       "    </tr>\n",
       "    <tr>\n",
       "      <th>3978</th>\n",
       "      <td>5654</td>\n",
       "      <td>flooding</td>\n",
       "      <td>USA</td>\n",
       "      <td>Wen I finally get the girl I want I'm flooding...</td>\n",
       "      <td>0</td>\n",
       "      <td>77</td>\n",
       "      <td>Wen I finally get the girl I want I'm flooding...</td>\n",
       "    </tr>\n",
       "    <tr>\n",
       "      <th>5066</th>\n",
       "      <td>7223</td>\n",
       "      <td>natural disaster</td>\n",
       "      <td>America of Founding Fathers</td>\n",
       "      <td>This is the natural and unavoidable consequenc...</td>\n",
       "      <td>1</td>\n",
       "      <td>116</td>\n",
       "      <td>This is the natural and unavoidable consequenc...</td>\n",
       "    </tr>\n",
       "    <tr>\n",
       "      <th>7478</th>\n",
       "      <td>10696</td>\n",
       "      <td>wreck</td>\n",
       "      <td>Victoria, BC</td>\n",
       "      <td>@Memenaar But the design decision to 'Let's ma...</td>\n",
       "      <td>0</td>\n",
       "      <td>140</td>\n",
       "      <td>@Memenaar But the design decision to 'Let's ma...</td>\n",
       "    </tr>\n",
       "    <tr>\n",
       "      <th>741</th>\n",
       "      <td>1072</td>\n",
       "      <td>bleeding</td>\n",
       "      <td>Alberta Pack</td>\n",
       "      <td>@ColoicCarnality You were bleeding my instinct...</td>\n",
       "      <td>0</td>\n",
       "      <td>110</td>\n",
       "      <td>@ColoicCarnality You were bleeding my instinct...</td>\n",
       "    </tr>\n",
       "  </tbody>\n",
       "</table>\n",
       "</div>"
      ],
      "text/plain": [
       "         id           keyword                     location  \\\n",
       "4156   5905              harm                   WORLD WIDE   \n",
       "3978   5654          flooding                          USA   \n",
       "5066   7223  natural disaster  America of Founding Fathers   \n",
       "7478  10696             wreck                 Victoria, BC   \n",
       "741    1072          bleeding                 Alberta Pack   \n",
       "\n",
       "                                                   text  target  text length  \\\n",
       "4156  ÛÏFor I know the plans I have for youÛ decl...       0          138   \n",
       "3978  Wen I finally get the girl I want I'm flooding...       0           77   \n",
       "5066  This is the natural and unavoidable consequenc...       1          116   \n",
       "7478  @Memenaar But the design decision to 'Let's ma...       0          140   \n",
       "741   @ColoicCarnality You were bleeding my instinct...       0          110   \n",
       "\n",
       "                                               new text  \n",
       "4156  ÛÏFor I know the plans I have for youÛ decl...  \n",
       "3978  Wen I finally get the girl I want I'm flooding...  \n",
       "5066  This is the natural and unavoidable consequenc...  \n",
       "7478  @Memenaar But the design decision to 'Let's ma...  \n",
       "741   @ColoicCarnality You were bleeding my instinct...  "
      ]
     },
     "execution_count": 51,
     "metadata": {},
     "output_type": "execute_result"
    }
   ],
   "source": [
    "train.head()"
   ]
  },
  {
   "cell_type": "code",
   "execution_count": 52,
   "id": "c98496f4",
   "metadata": {},
   "outputs": [
    {
     "data": {
      "text/html": [
       "<div>\n",
       "<style scoped>\n",
       "    .dataframe tbody tr th:only-of-type {\n",
       "        vertical-align: middle;\n",
       "    }\n",
       "\n",
       "    .dataframe tbody tr th {\n",
       "        vertical-align: top;\n",
       "    }\n",
       "\n",
       "    .dataframe thead th {\n",
       "        text-align: right;\n",
       "    }\n",
       "</style>\n",
       "<table border=\"1\" class=\"dataframe\">\n",
       "  <thead>\n",
       "    <tr style=\"text-align: right;\">\n",
       "      <th></th>\n",
       "      <th>id</th>\n",
       "      <th>keyword</th>\n",
       "      <th>location</th>\n",
       "      <th>text</th>\n",
       "      <th>target</th>\n",
       "      <th>text length</th>\n",
       "      <th>new text</th>\n",
       "    </tr>\n",
       "  </thead>\n",
       "  <tbody>\n",
       "    <tr>\n",
       "      <th>3671</th>\n",
       "      <td>5226</td>\n",
       "      <td>fatality</td>\n",
       "      <td>USA</td>\n",
       "      <td>Wow fatality on 101 big rig hit motorcyclist b...</td>\n",
       "      <td>1</td>\n",
       "      <td>79</td>\n",
       "      <td>Wow fatality on 101 big rig hit motorcyclist b...</td>\n",
       "    </tr>\n",
       "    <tr>\n",
       "      <th>4387</th>\n",
       "      <td>6233</td>\n",
       "      <td>hijacker</td>\n",
       "      <td>USA</td>\n",
       "      <td>How to Remove Softenza Hijacker? Softenza Anth...</td>\n",
       "      <td>0</td>\n",
       "      <td>87</td>\n",
       "      <td>How to Remove Softenza Hijacker? Softenza Anth...</td>\n",
       "    </tr>\n",
       "    <tr>\n",
       "      <th>555</th>\n",
       "      <td>804</td>\n",
       "      <td>battle</td>\n",
       "      <td>San Jose, CA</td>\n",
       "      <td>Kelby Tomlinson mild-mannered 2nd baseman for ...</td>\n",
       "      <td>0</td>\n",
       "      <td>136</td>\n",
       "      <td>Kelby Tomlinson mild-mannered 2nd baseman for ...</td>\n",
       "    </tr>\n",
       "    <tr>\n",
       "      <th>7387</th>\n",
       "      <td>10571</td>\n",
       "      <td>windstorm</td>\n",
       "      <td>USA</td>\n",
       "      <td>School Of Seven Bells - Windstorm  http://t.co...</td>\n",
       "      <td>0</td>\n",
       "      <td>69</td>\n",
       "      <td>School Of Seven Bells - Windstorm  http://t.co...</td>\n",
       "    </tr>\n",
       "    <tr>\n",
       "      <th>4176</th>\n",
       "      <td>5932</td>\n",
       "      <td>harm</td>\n",
       "      <td>USA</td>\n",
       "      <td>@RJG0789 idk....I feel like his movies have do...</td>\n",
       "      <td>0</td>\n",
       "      <td>137</td>\n",
       "      <td>@RJG0789 idk....I feel like his movies have do...</td>\n",
       "    </tr>\n",
       "  </tbody>\n",
       "</table>\n",
       "</div>"
      ],
      "text/plain": [
       "         id    keyword      location  \\\n",
       "3671   5226   fatality           USA   \n",
       "4387   6233   hijacker           USA   \n",
       "555     804     battle  San Jose, CA   \n",
       "7387  10571  windstorm           USA   \n",
       "4176   5932       harm           USA   \n",
       "\n",
       "                                                   text  target  text length  \\\n",
       "3671  Wow fatality on 101 big rig hit motorcyclist b...       1           79   \n",
       "4387  How to Remove Softenza Hijacker? Softenza Anth...       0           87   \n",
       "555   Kelby Tomlinson mild-mannered 2nd baseman for ...       0          136   \n",
       "7387  School Of Seven Bells - Windstorm  http://t.co...       0           69   \n",
       "4176  @RJG0789 idk....I feel like his movies have do...       0          137   \n",
       "\n",
       "                                               new text  \n",
       "3671  Wow fatality on 101 big rig hit motorcyclist b...  \n",
       "4387  How to Remove Softenza Hijacker? Softenza Anth...  \n",
       "555   Kelby Tomlinson mild-mannered 2nd baseman for ...  \n",
       "7387  School Of Seven Bells - Windstorm  http://t.co...  \n",
       "4176  @RJG0789 idk....I feel like his movies have do...  "
      ]
     },
     "execution_count": 52,
     "metadata": {},
     "output_type": "execute_result"
    }
   ],
   "source": [
    "test.head()"
   ]
  },
  {
   "cell_type": "code",
   "execution_count": 53,
   "id": "b2d83ee2",
   "metadata": {},
   "outputs": [
    {
     "data": {
      "text/plain": [
       "MultinomialNB()"
      ]
     },
     "execution_count": 53,
     "metadata": {},
     "output_type": "execute_result"
    }
   ],
   "source": [
    "from sklearn.feature_extraction.text import CountVectorizer\n",
    "from sklearn.naive_bayes import MultinomialNB\n",
    "from sklearn.pipeline import Pipeline\n",
    "\n",
    "X_train = train['new text']\n",
    "y_train = train['target']\n",
    "X_test = test['new text']\n",
    "\n",
    "vectorizer = CountVectorizer()\n",
    "X_train = vectorizer.fit_transform(X_train)\n",
    "X_test = vectorizer.transform(X_test)\n",
    "\n",
    "nb = MultinomialNB()\n",
    "nb.fit(X_train, y_train)"
   ]
  },
  {
   "cell_type": "code",
   "execution_count": 54,
   "id": "2de045ae",
   "metadata": {},
   "outputs": [
    {
     "data": {
      "text/plain": [
       "Pipeline(steps=[('bow', CountVectorizer()), ('classifier', MultinomialNB())])"
      ]
     },
     "execution_count": 54,
     "metadata": {},
     "output_type": "execute_result"
    }
   ],
   "source": [
    "pipeline = Pipeline([\n",
    "    ('bow', CountVectorizer()),  # strings to token integ\n",
    "    ('classifier', MultinomialNB()),  # train on TF-IDF vectors w/ Naive Bayes classifier\n",
    "])\n",
    "pipeline"
   ]
  },
  {
   "cell_type": "code",
   "execution_count": 55,
   "id": "1b87670f",
   "metadata": {},
   "outputs": [
    {
     "data": {
      "text/plain": [
       "Pipeline(steps=[('bow', CountVectorizer()), ('classifier', MultinomialNB())])"
      ]
     },
     "execution_count": 55,
     "metadata": {},
     "output_type": "execute_result"
    }
   ],
   "source": [
    "X_train = train['new text']\n",
    "y_train = train['target']\n",
    "X_test = test['new text']\n",
    "pipeline.fit(X_train, y_train)\n"
   ]
  },
  {
   "cell_type": "code",
   "execution_count": 56,
   "id": "051a26a5",
   "metadata": {},
   "outputs": [
    {
     "data": {
      "text/plain": [
       "array([0, 0, 0, ..., 0, 1, 0], dtype=int64)"
      ]
     },
     "execution_count": 56,
     "metadata": {},
     "output_type": "execute_result"
    }
   ],
   "source": [
    "y_test = pipeline.predict(X_test)\n",
    "y_test"
   ]
  },
  {
   "cell_type": "code",
   "execution_count": 57,
   "id": "1cafc76c",
   "metadata": {},
   "outputs": [
    {
     "data": {
      "text/html": [
       "<div>\n",
       "<style scoped>\n",
       "    .dataframe tbody tr th:only-of-type {\n",
       "        vertical-align: middle;\n",
       "    }\n",
       "\n",
       "    .dataframe tbody tr th {\n",
       "        vertical-align: top;\n",
       "    }\n",
       "\n",
       "    .dataframe thead th {\n",
       "        text-align: right;\n",
       "    }\n",
       "</style>\n",
       "<table border=\"1\" class=\"dataframe\">\n",
       "  <thead>\n",
       "    <tr style=\"text-align: right;\">\n",
       "      <th></th>\n",
       "      <th>id</th>\n",
       "      <th>keyword</th>\n",
       "      <th>location</th>\n",
       "      <th>text</th>\n",
       "      <th>target</th>\n",
       "      <th>text length</th>\n",
       "      <th>new text</th>\n",
       "      <th>pred_targVec</th>\n",
       "    </tr>\n",
       "  </thead>\n",
       "  <tbody>\n",
       "    <tr>\n",
       "      <th>3671</th>\n",
       "      <td>5226</td>\n",
       "      <td>fatality</td>\n",
       "      <td>USA</td>\n",
       "      <td>Wow fatality on 101 big rig hit motorcyclist b...</td>\n",
       "      <td>1</td>\n",
       "      <td>79</td>\n",
       "      <td>Wow fatality on 101 big rig hit motorcyclist b...</td>\n",
       "      <td>0</td>\n",
       "    </tr>\n",
       "    <tr>\n",
       "      <th>4387</th>\n",
       "      <td>6233</td>\n",
       "      <td>hijacker</td>\n",
       "      <td>USA</td>\n",
       "      <td>How to Remove Softenza Hijacker? Softenza Anth...</td>\n",
       "      <td>0</td>\n",
       "      <td>87</td>\n",
       "      <td>How to Remove Softenza Hijacker? Softenza Anth...</td>\n",
       "      <td>0</td>\n",
       "    </tr>\n",
       "    <tr>\n",
       "      <th>555</th>\n",
       "      <td>804</td>\n",
       "      <td>battle</td>\n",
       "      <td>San Jose, CA</td>\n",
       "      <td>Kelby Tomlinson mild-mannered 2nd baseman for ...</td>\n",
       "      <td>0</td>\n",
       "      <td>136</td>\n",
       "      <td>Kelby Tomlinson mild-mannered 2nd baseman for ...</td>\n",
       "      <td>0</td>\n",
       "    </tr>\n",
       "    <tr>\n",
       "      <th>7387</th>\n",
       "      <td>10571</td>\n",
       "      <td>windstorm</td>\n",
       "      <td>USA</td>\n",
       "      <td>School Of Seven Bells - Windstorm  http://t.co...</td>\n",
       "      <td>0</td>\n",
       "      <td>69</td>\n",
       "      <td>School Of Seven Bells - Windstorm  http://t.co...</td>\n",
       "      <td>0</td>\n",
       "    </tr>\n",
       "    <tr>\n",
       "      <th>4176</th>\n",
       "      <td>5932</td>\n",
       "      <td>harm</td>\n",
       "      <td>USA</td>\n",
       "      <td>@RJG0789 idk....I feel like his movies have do...</td>\n",
       "      <td>0</td>\n",
       "      <td>137</td>\n",
       "      <td>@RJG0789 idk....I feel like his movies have do...</td>\n",
       "      <td>0</td>\n",
       "    </tr>\n",
       "  </tbody>\n",
       "</table>\n",
       "</div>"
      ],
      "text/plain": [
       "         id    keyword      location  \\\n",
       "3671   5226   fatality           USA   \n",
       "4387   6233   hijacker           USA   \n",
       "555     804     battle  San Jose, CA   \n",
       "7387  10571  windstorm           USA   \n",
       "4176   5932       harm           USA   \n",
       "\n",
       "                                                   text  target  text length  \\\n",
       "3671  Wow fatality on 101 big rig hit motorcyclist b...       1           79   \n",
       "4387  How to Remove Softenza Hijacker? Softenza Anth...       0           87   \n",
       "555   Kelby Tomlinson mild-mannered 2nd baseman for ...       0          136   \n",
       "7387  School Of Seven Bells - Windstorm  http://t.co...       0           69   \n",
       "4176  @RJG0789 idk....I feel like his movies have do...       0          137   \n",
       "\n",
       "                                               new text  pred_targVec  \n",
       "3671  Wow fatality on 101 big rig hit motorcyclist b...             0  \n",
       "4387  How to Remove Softenza Hijacker? Softenza Anth...             0  \n",
       "555   Kelby Tomlinson mild-mannered 2nd baseman for ...             0  \n",
       "7387  School Of Seven Bells - Windstorm  http://t.co...             0  \n",
       "4176  @RJG0789 idk....I feel like his movies have do...             0  "
      ]
     },
     "execution_count": 57,
     "metadata": {},
     "output_type": "execute_result"
    }
   ],
   "source": [
    "\n",
    "test['pred_targVec'] = y_test\n",
    "test.head()\n"
   ]
  },
  {
   "cell_type": "code",
   "execution_count": 58,
   "id": "338a4e87",
   "metadata": {},
   "outputs": [
    {
     "name": "stdout",
     "output_type": "stream",
     "text": [
      "coincidencias: 1842\n",
      "accuracy del algoritmo: 80.64798598949213%\n"
     ]
    }
   ],
   "source": [
    "coin = 0\n",
    "total = len(test)\n",
    "for i in range(total):\n",
    "    targ = test.iloc[i,4]\n",
    "    predtarg = test.iloc[i,7]\n",
    "    if (targ == predtarg):\n",
    "        coin += 1\n",
    "print('coincidencias: ' + str(coin))\n",
    "accV = (coin / total)*100\n",
    "print('accuracy del algoritmo: ' + str(accV)+'%')"
   ]
  },
  {
   "cell_type": "code",
   "execution_count": 59,
   "id": "df8d9409",
   "metadata": {},
   "outputs": [
    {
     "data": {
      "text/html": [
       "<div>\n",
       "<style scoped>\n",
       "    .dataframe tbody tr th:only-of-type {\n",
       "        vertical-align: middle;\n",
       "    }\n",
       "\n",
       "    .dataframe tbody tr th {\n",
       "        vertical-align: top;\n",
       "    }\n",
       "\n",
       "    .dataframe thead th {\n",
       "        text-align: right;\n",
       "    }\n",
       "</style>\n",
       "<table border=\"1\" class=\"dataframe\">\n",
       "  <thead>\n",
       "    <tr style=\"text-align: right;\">\n",
       "      <th>col_0</th>\n",
       "      <th>count</th>\n",
       "    </tr>\n",
       "    <tr>\n",
       "      <th>target</th>\n",
       "      <th></th>\n",
       "    </tr>\n",
       "  </thead>\n",
       "  <tbody>\n",
       "    <tr>\n",
       "      <th>0</th>\n",
       "      <td>1303</td>\n",
       "    </tr>\n",
       "    <tr>\n",
       "      <th>1</th>\n",
       "      <td>981</td>\n",
       "    </tr>\n",
       "  </tbody>\n",
       "</table>\n",
       "</div>"
      ],
      "text/plain": [
       "col_0   count\n",
       "target       \n",
       "0        1303\n",
       "1         981"
      ]
     },
     "execution_count": 59,
     "metadata": {},
     "output_type": "execute_result"
    }
   ],
   "source": [
    "pd.crosstab(index=test['target'], columns='count')\n"
   ]
  },
  {
   "cell_type": "code",
   "execution_count": 60,
   "id": "4119fbda",
   "metadata": {},
   "outputs": [
    {
     "data": {
      "text/plain": [
       "<AxesSubplot:xlabel='target', ylabel='count'>"
      ]
     },
     "execution_count": 60,
     "metadata": {},
     "output_type": "execute_result"
    },
    {
     "data": {
      "image/png": "[encoded data removed]",
      "text/plain": [
       "<Figure size 432x288 with 1 Axes>"
      ]
     },
     "metadata": {
      "needs_background": "light"
     },
     "output_type": "display_data"
    }
   ],
   "source": [
    "sns.countplot(data=test, x='target')\n",
    "\n"
   ]
  },
  {
   "cell_type": "code",
   "execution_count": 61,
   "id": "8c184a10",
   "metadata": {},
   "outputs": [
    {
     "data": {
      "text/html": [
       "<div>\n",
       "<style scoped>\n",
       "    .dataframe tbody tr th:only-of-type {\n",
       "        vertical-align: middle;\n",
       "    }\n",
       "\n",
       "    .dataframe tbody tr th {\n",
       "        vertical-align: top;\n",
       "    }\n",
       "\n",
       "    .dataframe thead th {\n",
       "        text-align: right;\n",
       "    }\n",
       "</style>\n",
       "<table border=\"1\" class=\"dataframe\">\n",
       "  <thead>\n",
       "    <tr style=\"text-align: right;\">\n",
       "      <th>col_0</th>\n",
       "      <th>count</th>\n",
       "    </tr>\n",
       "    <tr>\n",
       "      <th>pred_targVec</th>\n",
       "      <th></th>\n",
       "    </tr>\n",
       "  </thead>\n",
       "  <tbody>\n",
       "    <tr>\n",
       "      <th>0</th>\n",
       "      <td>1355</td>\n",
       "    </tr>\n",
       "    <tr>\n",
       "      <th>1</th>\n",
       "      <td>929</td>\n",
       "    </tr>\n",
       "  </tbody>\n",
       "</table>\n",
       "</div>"
      ],
      "text/plain": [
       "col_0         count\n",
       "pred_targVec       \n",
       "0              1355\n",
       "1               929"
      ]
     },
     "execution_count": 61,
     "metadata": {},
     "output_type": "execute_result"
    }
   ],
   "source": [
    "pd.crosstab(index=test['pred_targVec'], columns='count')\n"
   ]
  },
  {
   "cell_type": "code",
   "execution_count": 62,
   "id": "f5047886",
   "metadata": {},
   "outputs": [
    {
     "data": {
      "text/plain": [
       "<AxesSubplot:xlabel='pred_targVec', ylabel='count'>"
      ]
     },
     "execution_count": 62,
     "metadata": {},
     "output_type": "execute_result"
    },
    {
     "data": {
      "image/png": "[encoded data removed]",
      "text/plain": [
       "<Figure size 432x288 with 1 Axes>"
      ]
     },
     "metadata": {
      "needs_background": "light"
     },
     "output_type": "display_data"
    }
   ],
   "source": [
    "sns.countplot(data=test, x='pred_targVec')\n"
   ]
  },
  {
   "cell_type": "markdown",
   "id": "40d80480",
   "metadata": {},
   "source": [
    "Como podemos ver el modelo generado tiene un accuracy del 79%, lo cual no esta mal, sin embargo, tal vez con otro algoritmo podemos llegar a una mejor cantidad de accuracy. Aqui como podemos observar, el modelo predijo que mas tweets tratabn de desastres naturales reales, cuando realmente no lo eran."
   ]
  },
  {
   "cell_type": "markdown",
   "id": "4dc72488",
   "metadata": {},
   "source": [
    "## Vectorizer Tfidf\n"
   ]
  },
  {
   "cell_type": "code",
   "execution_count": 63,
   "id": "f92e8caa",
   "metadata": {},
   "outputs": [],
   "source": [
    "import pandas as pd\n",
    "import numpy as np\n",
    "from sklearn.feature_extraction.text import TfidfVectorizer\n",
    "from sklearn.neural_network import MLPClassifier"
   ]
  },
  {
   "cell_type": "code",
   "execution_count": 64,
   "id": "55072d4e",
   "metadata": {},
   "outputs": [
    {
     "data": {
      "text/html": [
       "<div>\n",
       "<style scoped>\n",
       "    .dataframe tbody tr th:only-of-type {\n",
       "        vertical-align: middle;\n",
       "    }\n",
       "\n",
       "    .dataframe tbody tr th {\n",
       "        vertical-align: top;\n",
       "    }\n",
       "\n",
       "    .dataframe thead th {\n",
       "        text-align: right;\n",
       "    }\n",
       "</style>\n",
       "<table border=\"1\" class=\"dataframe\">\n",
       "  <thead>\n",
       "    <tr style=\"text-align: right;\">\n",
       "      <th></th>\n",
       "      <th>id</th>\n",
       "      <th>keyword</th>\n",
       "      <th>location</th>\n",
       "      <th>text</th>\n",
       "      <th>target</th>\n",
       "      <th>text length</th>\n",
       "      <th>new text</th>\n",
       "    </tr>\n",
       "  </thead>\n",
       "  <tbody>\n",
       "    <tr>\n",
       "      <th>4156</th>\n",
       "      <td>5905</td>\n",
       "      <td>harm</td>\n",
       "      <td>WORLD WIDE</td>\n",
       "      <td>ÛÏFor I know the plans I have for youÛ decl...</td>\n",
       "      <td>0</td>\n",
       "      <td>138</td>\n",
       "      <td>ÛÏFor I know the plans I have for youÛ decl...</td>\n",
       "    </tr>\n",
       "    <tr>\n",
       "      <th>3978</th>\n",
       "      <td>5654</td>\n",
       "      <td>flooding</td>\n",
       "      <td>USA</td>\n",
       "      <td>Wen I finally get the girl I want I'm flooding...</td>\n",
       "      <td>0</td>\n",
       "      <td>77</td>\n",
       "      <td>Wen I finally get the girl I want I'm flooding...</td>\n",
       "    </tr>\n",
       "    <tr>\n",
       "      <th>5066</th>\n",
       "      <td>7223</td>\n",
       "      <td>natural disaster</td>\n",
       "      <td>America of Founding Fathers</td>\n",
       "      <td>This is the natural and unavoidable consequenc...</td>\n",
       "      <td>1</td>\n",
       "      <td>116</td>\n",
       "      <td>This is the natural and unavoidable consequenc...</td>\n",
       "    </tr>\n",
       "    <tr>\n",
       "      <th>7478</th>\n",
       "      <td>10696</td>\n",
       "      <td>wreck</td>\n",
       "      <td>Victoria, BC</td>\n",
       "      <td>@Memenaar But the design decision to 'Let's ma...</td>\n",
       "      <td>0</td>\n",
       "      <td>140</td>\n",
       "      <td>@Memenaar But the design decision to 'Let's ma...</td>\n",
       "    </tr>\n",
       "    <tr>\n",
       "      <th>741</th>\n",
       "      <td>1072</td>\n",
       "      <td>bleeding</td>\n",
       "      <td>Alberta Pack</td>\n",
       "      <td>@ColoicCarnality You were bleeding my instinct...</td>\n",
       "      <td>0</td>\n",
       "      <td>110</td>\n",
       "      <td>@ColoicCarnality You were bleeding my instinct...</td>\n",
       "    </tr>\n",
       "  </tbody>\n",
       "</table>\n",
       "</div>"
      ],
      "text/plain": [
       "         id           keyword                     location  \\\n",
       "4156   5905              harm                   WORLD WIDE   \n",
       "3978   5654          flooding                          USA   \n",
       "5066   7223  natural disaster  America of Founding Fathers   \n",
       "7478  10696             wreck                 Victoria, BC   \n",
       "741    1072          bleeding                 Alberta Pack   \n",
       "\n",
       "                                                   text  target  text length  \\\n",
       "4156  ÛÏFor I know the plans I have for youÛ decl...       0          138   \n",
       "3978  Wen I finally get the girl I want I'm flooding...       0           77   \n",
       "5066  This is the natural and unavoidable consequenc...       1          116   \n",
       "7478  @Memenaar But the design decision to 'Let's ma...       0          140   \n",
       "741   @ColoicCarnality You were bleeding my instinct...       0          110   \n",
       "\n",
       "                                               new text  \n",
       "4156  ÛÏFor I know the plans I have for youÛ decl...  \n",
       "3978  Wen I finally get the girl I want I'm flooding...  \n",
       "5066  This is the natural and unavoidable consequenc...  \n",
       "7478  @Memenaar But the design decision to 'Let's ma...  \n",
       "741   @ColoicCarnality You were bleeding my instinct...  "
      ]
     },
     "execution_count": 64,
     "metadata": {},
     "output_type": "execute_result"
    }
   ],
   "source": [
    "train.head()"
   ]
  },
  {
   "cell_type": "code",
   "execution_count": 65,
   "id": "de9c5c2f",
   "metadata": {},
   "outputs": [
    {
     "data": {
      "text/html": [
       "<div>\n",
       "<style scoped>\n",
       "    .dataframe tbody tr th:only-of-type {\n",
       "        vertical-align: middle;\n",
       "    }\n",
       "\n",
       "    .dataframe tbody tr th {\n",
       "        vertical-align: top;\n",
       "    }\n",
       "\n",
       "    .dataframe thead th {\n",
       "        text-align: right;\n",
       "    }\n",
       "</style>\n",
       "<table border=\"1\" class=\"dataframe\">\n",
       "  <thead>\n",
       "    <tr style=\"text-align: right;\">\n",
       "      <th></th>\n",
       "      <th>id</th>\n",
       "      <th>keyword</th>\n",
       "      <th>location</th>\n",
       "      <th>text</th>\n",
       "      <th>target</th>\n",
       "      <th>text length</th>\n",
       "      <th>new text</th>\n",
       "      <th>pred_targVec</th>\n",
       "    </tr>\n",
       "  </thead>\n",
       "  <tbody>\n",
       "    <tr>\n",
       "      <th>3671</th>\n",
       "      <td>5226</td>\n",
       "      <td>fatality</td>\n",
       "      <td>USA</td>\n",
       "      <td>Wow fatality on 101 big rig hit motorcyclist b...</td>\n",
       "      <td>1</td>\n",
       "      <td>79</td>\n",
       "      <td>Wow fatality on 101 big rig hit motorcyclist b...</td>\n",
       "      <td>0</td>\n",
       "    </tr>\n",
       "    <tr>\n",
       "      <th>4387</th>\n",
       "      <td>6233</td>\n",
       "      <td>hijacker</td>\n",
       "      <td>USA</td>\n",
       "      <td>How to Remove Softenza Hijacker? Softenza Anth...</td>\n",
       "      <td>0</td>\n",
       "      <td>87</td>\n",
       "      <td>How to Remove Softenza Hijacker? Softenza Anth...</td>\n",
       "      <td>0</td>\n",
       "    </tr>\n",
       "    <tr>\n",
       "      <th>555</th>\n",
       "      <td>804</td>\n",
       "      <td>battle</td>\n",
       "      <td>San Jose, CA</td>\n",
       "      <td>Kelby Tomlinson mild-mannered 2nd baseman for ...</td>\n",
       "      <td>0</td>\n",
       "      <td>136</td>\n",
       "      <td>Kelby Tomlinson mild-mannered 2nd baseman for ...</td>\n",
       "      <td>0</td>\n",
       "    </tr>\n",
       "    <tr>\n",
       "      <th>7387</th>\n",
       "      <td>10571</td>\n",
       "      <td>windstorm</td>\n",
       "      <td>USA</td>\n",
       "      <td>School Of Seven Bells - Windstorm  http://t.co...</td>\n",
       "      <td>0</td>\n",
       "      <td>69</td>\n",
       "      <td>School Of Seven Bells - Windstorm  http://t.co...</td>\n",
       "      <td>0</td>\n",
       "    </tr>\n",
       "    <tr>\n",
       "      <th>4176</th>\n",
       "      <td>5932</td>\n",
       "      <td>harm</td>\n",
       "      <td>USA</td>\n",
       "      <td>@RJG0789 idk....I feel like his movies have do...</td>\n",
       "      <td>0</td>\n",
       "      <td>137</td>\n",
       "      <td>@RJG0789 idk....I feel like his movies have do...</td>\n",
       "      <td>0</td>\n",
       "    </tr>\n",
       "  </tbody>\n",
       "</table>\n",
       "</div>"
      ],
      "text/plain": [
       "         id    keyword      location  \\\n",
       "3671   5226   fatality           USA   \n",
       "4387   6233   hijacker           USA   \n",
       "555     804     battle  San Jose, CA   \n",
       "7387  10571  windstorm           USA   \n",
       "4176   5932       harm           USA   \n",
       "\n",
       "                                                   text  target  text length  \\\n",
       "3671  Wow fatality on 101 big rig hit motorcyclist b...       1           79   \n",
       "4387  How to Remove Softenza Hijacker? Softenza Anth...       0           87   \n",
       "555   Kelby Tomlinson mild-mannered 2nd baseman for ...       0          136   \n",
       "7387  School Of Seven Bells - Windstorm  http://t.co...       0           69   \n",
       "4176  @RJG0789 idk....I feel like his movies have do...       0          137   \n",
       "\n",
       "                                               new text  pred_targVec  \n",
       "3671  Wow fatality on 101 big rig hit motorcyclist b...             0  \n",
       "4387  How to Remove Softenza Hijacker? Softenza Anth...             0  \n",
       "555   Kelby Tomlinson mild-mannered 2nd baseman for ...             0  \n",
       "7387  School Of Seven Bells - Windstorm  http://t.co...             0  \n",
       "4176  @RJG0789 idk....I feel like his movies have do...             0  "
      ]
     },
     "execution_count": 65,
     "metadata": {},
     "output_type": "execute_result"
    }
   ],
   "source": [
    "test.head()"
   ]
  },
  {
   "cell_type": "code",
   "execution_count": 66,
   "id": "0b059437",
   "metadata": {},
   "outputs": [
    {
     "name": "stdout",
     "output_type": "stream",
     "text": [
      "Iteration 1, loss = 0.66561707\n",
      "Iteration 2, loss = 0.56062319\n",
      "Iteration 3, loss = 0.43562520\n",
      "Iteration 4, loss = 0.33458378\n",
      "Iteration 5, loss = 0.26097842\n",
      "Iteration 6, loss = 0.20738448\n",
      "Iteration 7, loss = 0.16673955\n",
      "Iteration 8, loss = 0.13630136\n",
      "Iteration 9, loss = 0.11259105\n",
      "Iteration 10, loss = 0.09408069\n",
      "Iteration 11, loss = 0.07956276\n",
      "Iteration 12, loss = 0.06803276\n",
      "Iteration 13, loss = 0.05892268\n",
      "Iteration 14, loss = 0.05133803\n",
      "Iteration 15, loss = 0.04511636\n",
      "Iteration 16, loss = 0.04027684\n",
      "Iteration 17, loss = 0.03593755\n",
      "Iteration 18, loss = 0.03259591\n",
      "Iteration 19, loss = 0.02944246\n",
      "Iteration 20, loss = 0.02699766\n",
      "Iteration 21, loss = 0.02493171\n",
      "Iteration 22, loss = 0.02312808\n",
      "Iteration 23, loss = 0.02171236\n",
      "Iteration 24, loss = 0.02019204\n",
      "Iteration 25, loss = 0.01910837\n",
      "Iteration 26, loss = 0.01810192\n",
      "Iteration 27, loss = 0.01726552\n",
      "Iteration 28, loss = 0.01628425\n",
      "Iteration 29, loss = 0.01564961\n",
      "Iteration 30, loss = 0.01495671\n",
      "Iteration 31, loss = 0.01464754\n",
      "Iteration 32, loss = 0.01382268\n",
      "Iteration 33, loss = 0.01355909\n",
      "Iteration 34, loss = 0.01320146\n",
      "Iteration 35, loss = 0.01276245\n",
      "Iteration 36, loss = 0.01250360\n",
      "Iteration 37, loss = 0.01216911\n",
      "Iteration 38, loss = 0.01175485\n",
      "Iteration 39, loss = 0.01145316\n",
      "Iteration 40, loss = 0.01128885\n",
      "Iteration 41, loss = 0.01096743\n",
      "Iteration 42, loss = 0.01078596\n",
      "Iteration 43, loss = 0.01071367\n",
      "Iteration 44, loss = 0.01063818\n",
      "Iteration 45, loss = 0.01026442\n",
      "Iteration 46, loss = 0.01021582\n",
      "Iteration 47, loss = 0.01011063\n",
      "Iteration 48, loss = 0.01008719\n",
      "Iteration 49, loss = 0.00979911\n",
      "Iteration 50, loss = 0.00978515\n",
      "Iteration 51, loss = 0.00949021\n",
      "Iteration 52, loss = 0.00934951\n",
      "Iteration 53, loss = 0.00947188\n",
      "Iteration 54, loss = 0.00921220\n",
      "Iteration 55, loss = 0.00929785\n",
      "Iteration 56, loss = 0.00903353\n",
      "Iteration 57, loss = 0.00896014\n",
      "Iteration 58, loss = 0.00892237\n",
      "Iteration 59, loss = 0.00904330\n",
      "Iteration 60, loss = 0.00894802\n",
      "Iteration 61, loss = 0.00885697\n",
      "Iteration 62, loss = 0.00896468\n",
      "Iteration 63, loss = 0.00904712\n",
      "Iteration 64, loss = 0.00859326\n",
      "Iteration 65, loss = 0.00891329\n",
      "Iteration 66, loss = 0.00845414\n",
      "Iteration 67, loss = 0.00867536\n",
      "Iteration 68, loss = 0.00905318\n",
      "Iteration 69, loss = 0.00850991\n",
      "Iteration 70, loss = 0.00849754\n",
      "Iteration 71, loss = 0.00817745\n",
      "Iteration 72, loss = 0.00837782\n",
      "Iteration 73, loss = 0.00841140\n",
      "Iteration 74, loss = 0.00821264\n",
      "Iteration 75, loss = 0.00823288\n",
      "Iteration 76, loss = 0.00819051\n",
      "Iteration 77, loss = 0.00800346\n",
      "Iteration 78, loss = 0.00797653\n",
      "Iteration 79, loss = 0.00819919\n",
      "Iteration 80, loss = 0.00806295\n",
      "Iteration 81, loss = 0.00795394\n",
      "Iteration 82, loss = 0.00802939\n",
      "Iteration 83, loss = 0.00803277\n",
      "Iteration 84, loss = 0.00786935\n",
      "Iteration 85, loss = 0.00810056\n",
      "Iteration 86, loss = 0.00808198\n",
      "Iteration 87, loss = 0.00780965\n",
      "Iteration 88, loss = 0.00799943\n",
      "Training loss did not improve more than tol=0.000100 for 10 consecutive epochs. Stopping.\n"
     ]
    },
    {
     "data": {
      "text/plain": [
       "MLPClassifier(max_iter=300, random_state=1, verbose=True)"
      ]
     },
     "execution_count": 66,
     "metadata": {},
     "output_type": "execute_result"
    }
   ],
   "source": [
    "testn = test[[\"id\",\"text\"]]\n",
    "trainn = train[[\"text\", \"target\"]]\n",
    "X_train = trainn.text\n",
    "y_train = trainn.target\n",
    "X_test = testn.text\n",
    "vectorizer = TfidfVectorizer(use_idf=True)\n",
    "vectorizer = vectorizer.fit(X_train)\n",
    "X_train = vectorizer.transform(X_train)\n",
    "clf = MLPClassifier(random_state=1, \n",
    "                    max_iter=300, \n",
    "                    verbose=True)\n",
    "clf.fit(X_train, y_train)"
   ]
  },
  {
   "cell_type": "code",
   "execution_count": 67,
   "id": "2410413e",
   "metadata": {},
   "outputs": [
    {
     "data": {
      "text/html": [
       "<div>\n",
       "<style scoped>\n",
       "    .dataframe tbody tr th:only-of-type {\n",
       "        vertical-align: middle;\n",
       "    }\n",
       "\n",
       "    .dataframe tbody tr th {\n",
       "        vertical-align: top;\n",
       "    }\n",
       "\n",
       "    .dataframe thead th {\n",
       "        text-align: right;\n",
       "    }\n",
       "</style>\n",
       "<table border=\"1\" class=\"dataframe\">\n",
       "  <thead>\n",
       "    <tr style=\"text-align: right;\">\n",
       "      <th></th>\n",
       "      <th>id</th>\n",
       "      <th>keyword</th>\n",
       "      <th>location</th>\n",
       "      <th>text</th>\n",
       "      <th>target</th>\n",
       "      <th>text length</th>\n",
       "      <th>new text</th>\n",
       "      <th>pred_targVec</th>\n",
       "      <th>pred_targTFIDF</th>\n",
       "    </tr>\n",
       "  </thead>\n",
       "  <tbody>\n",
       "    <tr>\n",
       "      <th>3671</th>\n",
       "      <td>5226</td>\n",
       "      <td>fatality</td>\n",
       "      <td>USA</td>\n",
       "      <td>Wow fatality on 101 big rig hit motorcyclist b...</td>\n",
       "      <td>1</td>\n",
       "      <td>79</td>\n",
       "      <td>Wow fatality on 101 big rig hit motorcyclist b...</td>\n",
       "      <td>0</td>\n",
       "      <td>1</td>\n",
       "    </tr>\n",
       "    <tr>\n",
       "      <th>4387</th>\n",
       "      <td>6233</td>\n",
       "      <td>hijacker</td>\n",
       "      <td>USA</td>\n",
       "      <td>How to Remove Softenza Hijacker? Softenza Anth...</td>\n",
       "      <td>0</td>\n",
       "      <td>87</td>\n",
       "      <td>How to Remove Softenza Hijacker? Softenza Anth...</td>\n",
       "      <td>0</td>\n",
       "      <td>0</td>\n",
       "    </tr>\n",
       "    <tr>\n",
       "      <th>555</th>\n",
       "      <td>804</td>\n",
       "      <td>battle</td>\n",
       "      <td>San Jose, CA</td>\n",
       "      <td>Kelby Tomlinson mild-mannered 2nd baseman for ...</td>\n",
       "      <td>0</td>\n",
       "      <td>136</td>\n",
       "      <td>Kelby Tomlinson mild-mannered 2nd baseman for ...</td>\n",
       "      <td>0</td>\n",
       "      <td>0</td>\n",
       "    </tr>\n",
       "    <tr>\n",
       "      <th>7387</th>\n",
       "      <td>10571</td>\n",
       "      <td>windstorm</td>\n",
       "      <td>USA</td>\n",
       "      <td>School Of Seven Bells - Windstorm  http://t.co...</td>\n",
       "      <td>0</td>\n",
       "      <td>69</td>\n",
       "      <td>School Of Seven Bells - Windstorm  http://t.co...</td>\n",
       "      <td>0</td>\n",
       "      <td>0</td>\n",
       "    </tr>\n",
       "    <tr>\n",
       "      <th>4176</th>\n",
       "      <td>5932</td>\n",
       "      <td>harm</td>\n",
       "      <td>USA</td>\n",
       "      <td>@RJG0789 idk....I feel like his movies have do...</td>\n",
       "      <td>0</td>\n",
       "      <td>137</td>\n",
       "      <td>@RJG0789 idk....I feel like his movies have do...</td>\n",
       "      <td>0</td>\n",
       "      <td>0</td>\n",
       "    </tr>\n",
       "  </tbody>\n",
       "</table>\n",
       "</div>"
      ],
      "text/plain": [
       "         id    keyword      location  \\\n",
       "3671   5226   fatality           USA   \n",
       "4387   6233   hijacker           USA   \n",
       "555     804     battle  San Jose, CA   \n",
       "7387  10571  windstorm           USA   \n",
       "4176   5932       harm           USA   \n",
       "\n",
       "                                                   text  target  text length  \\\n",
       "3671  Wow fatality on 101 big rig hit motorcyclist b...       1           79   \n",
       "4387  How to Remove Softenza Hijacker? Softenza Anth...       0           87   \n",
       "555   Kelby Tomlinson mild-mannered 2nd baseman for ...       0          136   \n",
       "7387  School Of Seven Bells - Windstorm  http://t.co...       0           69   \n",
       "4176  @RJG0789 idk....I feel like his movies have do...       0          137   \n",
       "\n",
       "                                               new text  pred_targVec  \\\n",
       "3671  Wow fatality on 101 big rig hit motorcyclist b...             0   \n",
       "4387  How to Remove Softenza Hijacker? Softenza Anth...             0   \n",
       "555   Kelby Tomlinson mild-mannered 2nd baseman for ...             0   \n",
       "7387  School Of Seven Bells - Windstorm  http://t.co...             0   \n",
       "4176  @RJG0789 idk....I feel like his movies have do...             0   \n",
       "\n",
       "      pred_targTFIDF  \n",
       "3671               1  \n",
       "4387               0  \n",
       "555                0  \n",
       "7387               0  \n",
       "4176               0  "
      ]
     },
     "execution_count": 67,
     "metadata": {},
     "output_type": "execute_result"
    }
   ],
   "source": [
    "X_test = vectorizer.transform(X_test)\n",
    "pred = clf.predict(X_test)\n",
    "test['pred_targTFIDF'] = pred\n",
    "test.head()"
   ]
  },
  {
   "cell_type": "code",
   "execution_count": 68,
   "id": "d03270ee",
   "metadata": {},
   "outputs": [
    {
     "name": "stdout",
     "output_type": "stream",
     "text": [
      "coincidencias: 1768\n",
      "accuracy del algoritmo: 77.40805604203153%\n"
     ]
    }
   ],
   "source": [
    "coin = 0\n",
    "total = len(test)\n",
    "for i in range(total):\n",
    "    targ = test.iloc[i,4]\n",
    "    predtarg = test.iloc[i,8]\n",
    "    if (targ == predtarg):\n",
    "        coin += 1\n",
    "print('coincidencias: ' + str(coin))\n",
    "acc = (coin / total)*100\n",
    "print('accuracy del algoritmo: ' + str(acc)+'%')"
   ]
  },
  {
   "cell_type": "code",
   "execution_count": 69,
   "id": "010b76c1",
   "metadata": {},
   "outputs": [
    {
     "data": {
      "image/png": "[encoded data removed]",
      "text/plain": [
       "<Figure size 432x288 with 1 Axes>"
      ]
     },
     "metadata": {
      "needs_background": "light"
     },
     "output_type": "display_data"
    }
   ],
   "source": [
    "import matplotlib.pyplot as plt\n",
    "fig = plt.figure()\n",
    "ax = fig.add_axes([0,0,1,1])\n",
    "langs = ['Vectorizer NB', 'TFIDFV']\n",
    "students = [accV, acc]\n",
    "ax.bar(langs,students)\n",
    "plt.show()"
   ]
  },
  {
   "cell_type": "markdown",
   "id": "53849316",
   "metadata": {},
   "source": [
    "### Discusión"
   ]
  },
  {
   "cell_type": "markdown",
   "id": "2a55fe9b",
   "metadata": {},
   "source": [
    "Se trabajóo el algoritmo Vectorizer +Multinomial NB y el algoritmo Vectorizer Tfidf. Se obtuvo un accuracy de 80% y 77% respectivamente. Podemos apreciar que con ambos modelos se obtuvo un porcentaje de accuracy similar, sin embargo, Vectorizer +Multinomial NB se adapta mejor a nuestro conjunto de datos, siendo este el mas efectivo. "
   ]
  },
  {
   "cell_type": "markdown",
   "id": "6b728dfd",
   "metadata": {},
   "source": [
    "### Referencias"
   ]
  },
  {
   "cell_type": "code",
   "execution_count": null,
   "id": "7496eb96",
   "metadata": {},
   "outputs": [],
   "source": []
  },
  {
   "cell_type": "markdown",
   "id": "071d0739",
   "metadata": {},
   "source": [
    "## Avances 3 de Proyecto 2"
   ]
  },
  {
   "cell_type": "markdown",
   "id": "d0d88373",
   "metadata": {},
   "source": [
    "En este proyecto contamos con datos valiosos e interesantes a los son necesarios acceder y analizar. Para facilitar esto se utilizara una herramienta para realizar paneles dinámicos donde se puedan ejecutar consultas fácilmente y ver visualizaciones interactivas personalizadas."
   ]
  },
  {
   "cell_type": "markdown",
   "id": "16ef73c5",
   "metadata": {},
   "source": [
    "Un tablero de datos consta de muchos componentes diferentes. Dentro de estos se pueden mencionar los siguientes:"
   ]
  },
  {
   "cell_type": "markdown",
   "id": "9be0e6f1",
   "metadata": {},
   "source": [
    "* Analizar: manipular datos utilizando, por ejemplo, Pandas.\n",
    "* Visualizar: crear diagramas de los datos utilizando, por ejemplo, Bokeh.\n",
    "* Interactuar: aceptar la input del usuario utilizando una interfaz como React.\n",
    "* Servir: manejar solicitudes de los usuarios y retornar páginas web utilizando un servidor web como Flask."
   ]
  },
  {
   "cell_type": "markdown",
   "id": "83932b64",
   "metadata": {},
   "source": [
    "Dentro de las herramientas a utilizar en este proyecto se proponen las siguientes:\n",
    "    \n",
    "    - Dash\n",
    "    - Streamlit\n",
    "    - Voila\n",
    "    - Panel\n",
    "    \n",
    "No todas las bibliotecas son directamente comparables.Sin embargo, cada biblioteca se centra en un área distinta."
   ]
  },
  {
   "cell_type": "markdown",
   "id": "12e3b0ed",
   "metadata": {},
   "source": [
    "Cuando hablamos de Streamlit, Dash o Panel se trata de soluciones completas de panel de control, centradas en el análisis de datos basado en Python y que se ejecutan en los marcos web Tornado y Flask. Mientras que Voila es una biblioteca que convierte los cuadernos individuales de Jupyter en páginas web interactivas."
   ]
  },
  {
   "cell_type": "markdown",
   "id": "0c8653dd",
   "metadata": {},
   "source": []
  }
 ],
 "metadata": {
  "kernelspec": {
   "display_name": "Python 3 (ipykernel)",
   "language": "python",
   "name": "python3"
  },
  "language_info": {
   "codemirror_mode": {
    "name": "ipython",
    "version": 3
   },
   "file_extension": ".py",
   "mimetype": "text/x-python",
   "name": "python",
   "nbconvert_exporter": "python",
   "pygments_lexer": "ipython3",
   "version": "3.7.0"
  }
 },
 "nbformat": 4,
 "nbformat_minor": 5
}
