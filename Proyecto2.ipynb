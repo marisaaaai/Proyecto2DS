{
 "cells": [
  {
   "cell_type": "markdown",
   "id": "b867886a",
   "metadata": {},
   "source": [
    "# Proyecto 2.\n",
    "## Avances.\n",
    "\n",
    "---\n",
    "Participantes:\n",
    "\n",
    "\n",
    "*   María Isabel Montoya Valladares 19169\n",
    "*   Luis Pedro García Salazar 19344\n",
    "* María José Morales Reichenbach 19145\n",
    "* Juan Fernando de Leon Quezada  17822\n",
    "\n",
    "### Investigación de  las técnicas que se usan para detectar patrones en lenguaje escrito\n",
    "La necesidad del uso de machine learning para detectar patrones y extraer información útil en lenguaje natural o escrito ha aumentado en correlación con el crecimiento de las redes sociales, críticas en linea, encuestas y la cantidad enorme de datos que se generan hoy en día en general. Para esto, se han diseñado diversas técnicas que facilitan la detección de patrones en estos datos, para que mediante interpretaciones, se puedan sacar conclusiones que ayuden económicamente a empresas o socialmente a la población.\n",
    "\n",
    "Entre las principales técnicas que su usan para detectar patrones en lenguaje escrito se encuentran las siguientes:\n",
    "    \n",
    "<ins>Reconocimiento de entidades nombradas:<ins/> \n",
    "    \n",
    "Entre las técnicas mas útiles para analizar lenguaje escrito se encuentra la acción de extraer entidades en el texto. Con esta técnica se busca identificar y clasificar entidades en categorías predefinidas así como personas, lugares, organizaciones, fechas, etc. Estas técnicas se basan en reglas de gramámatica y modelos supervisados\n",
    "\n",
    "    \n",
    "<ins>Análisis de sentimiento:<ins/> \n",
    "\n",
    "Es la técnica de procesamiento de lenguaje natural mas usada y su mayor utilidad viene en el área de encuestas, críticas, comentarios, y cualquier lugar donde los usuarios puedan presentar sus opiniones o dar retroalimentación sobre un producto. Se basa en el proceso de determinar el tono emocional detrás de una serie de palabras para extraer información imporante sobre los cientes y sus actitudes, emociones y opiniones.  \n",
    "    \n",
    "\n",
    "<ins>Resumen de texto:<ins/> \n",
    "    \n",
    "Como el nombre sugiere, esta técnica se usa para resumir grandes cuerpos de texto y se usa especialmente en artículos, noticias y artículos de investigación. Dentro de esta, existe el método de  extracción, en el cuál se hace un resumen mediante la extracción de partes del texto y la abstracción, donde se hace el resumen mediante la generación de nuevas palabras que transmiten la idea original.\n",
    "\n",
    "<ins>Tokenización:<ins/>  \n",
    "    \n",
    "La tokenización en esencia, es la acción de dividir el texto entero en \"tokens\", que pueden existir en la forma de palabras, letras, números, puntuación, etc. con el fin de que la computadora lo entienda de una manera más eficiente. \n",
    "\n",
    "### Situación Problemática\n",
    "Hoy en día las redes sociales ya no son plataformas que simplemente nos ayuda a conectar a personas que se encuentran en países lejanos, sino que también pueden ser usados como plataformas para establacer estrategias de diversas indoles. Twitter es una de las plataformas más populares y es usada para compartir pensamientos, situaciones, problemas, etc., por toda la población y esto tiene la importante aplicación de ser un canal de comunicación en tiempos de emergencia.\n",
    "\n",
    "La publicación en tiempo de real de tweets provenientes de personas que se encuentran en un aprieto puede ayudar a que las autoridades puedan programar equipos de ayuda y poder salvar un mayor número de personas. Sin embargo, al ser twitter, una persona tiene toda la libertad de expresión y cada quién tiene una manera en la cuál se expresa, se pueden usar métaforas que en vez de describir algo de un desastre natural, puede que sea solo sobre algo que \"is the bomb ;)\" por lo que poder identificar si se está hablando de un desastre natural cierto o no es importante para poder llevar a cabo esta aplicación ya mencionada.\n",
    "\n",
    "\n",
    "### Problema Ciéntifico \n",
    "El uso de metáforas que pueden confundir un analizador de texto acerca de si se encuentra analizando un tweet de un desastre natural o no. \n",
    "\n",
    "### Objetivos\n",
    "#### Objetivo general\n",
    "* Identificar palabras o frases que son frecuentes en un tweet acerca de un desastre natural real y en un tweet acerca de algo que no es un desastre natural\n",
    "\n",
    "#### Objetivos Específicos\n",
    "\n",
    "1. Establecer una relación entre el keyword, frases del tweet y si es un desastre natural o no (variable target).\n",
    "2. Utilizar nubes de palabras para analizar las expresiones comunes en tweets de desastres.\n",
    "3. Clasificar los desastres naturales por categoría y brindar prioridad.\n",
    "\n",
    "### Descripción de los datos\n",
    "Los datos se nos presentan en un dataframe que contiene las siguientes variables:\n",
    "* id: el cuál es unico para cada tweet\n",
    "* keyword: palabra clave para cada tweet\n",
    "* location: ubicación del tweet\n",
    "* text: cuerpo del tweet\n",
    "* target: si es sobre un desastre natural o no\n",
    "\n",
    "A continuación se muestra los 10 primeros tweets para visualizar la información. "
   ]
  },
  {
   "cell_type": "code",
   "execution_count": 68,
   "id": "0bb73f7d",
   "metadata": {},
   "outputs": [
    {
     "name": "stderr",
     "output_type": "stream",
     "text": [
      "[nltk_data] Downloading package vader_lexicon to\n",
      "[nltk_data]     C:\\Users\\jfdel\\AppData\\Roaming\\nltk_data...\n",
      "[nltk_data]   Package vader_lexicon is already up-to-date!\n"
     ]
    },
    {
     "data": {
      "text/html": [
       "<div>\n",
       "<style scoped>\n",
       "    .dataframe tbody tr th:only-of-type {\n",
       "        vertical-align: middle;\n",
       "    }\n",
       "\n",
       "    .dataframe tbody tr th {\n",
       "        vertical-align: top;\n",
       "    }\n",
       "\n",
       "    .dataframe thead th {\n",
       "        text-align: right;\n",
       "    }\n",
       "</style>\n",
       "<table border=\"1\" class=\"dataframe\">\n",
       "  <thead>\n",
       "    <tr style=\"text-align: right;\">\n",
       "      <th></th>\n",
       "      <th>id</th>\n",
       "      <th>keyword</th>\n",
       "      <th>location</th>\n",
       "      <th>text</th>\n",
       "      <th>target</th>\n",
       "    </tr>\n",
       "  </thead>\n",
       "  <tbody>\n",
       "    <tr>\n",
       "      <th>0</th>\n",
       "      <td>1</td>\n",
       "      <td>NaN</td>\n",
       "      <td>NaN</td>\n",
       "      <td>Our Deeds are the Reason of this #earthquake M...</td>\n",
       "      <td>1</td>\n",
       "    </tr>\n",
       "    <tr>\n",
       "      <th>1</th>\n",
       "      <td>4</td>\n",
       "      <td>NaN</td>\n",
       "      <td>NaN</td>\n",
       "      <td>Forest fire near La Ronge Sask. Canada</td>\n",
       "      <td>1</td>\n",
       "    </tr>\n",
       "    <tr>\n",
       "      <th>2</th>\n",
       "      <td>5</td>\n",
       "      <td>NaN</td>\n",
       "      <td>NaN</td>\n",
       "      <td>All residents asked to 'shelter in place' are ...</td>\n",
       "      <td>1</td>\n",
       "    </tr>\n",
       "    <tr>\n",
       "      <th>3</th>\n",
       "      <td>6</td>\n",
       "      <td>NaN</td>\n",
       "      <td>NaN</td>\n",
       "      <td>13,000 people receive #wildfires evacuation or...</td>\n",
       "      <td>1</td>\n",
       "    </tr>\n",
       "    <tr>\n",
       "      <th>4</th>\n",
       "      <td>7</td>\n",
       "      <td>NaN</td>\n",
       "      <td>NaN</td>\n",
       "      <td>Just got sent this photo from Ruby #Alaska as ...</td>\n",
       "      <td>1</td>\n",
       "    </tr>\n",
       "    <tr>\n",
       "      <th>5</th>\n",
       "      <td>8</td>\n",
       "      <td>NaN</td>\n",
       "      <td>NaN</td>\n",
       "      <td>#RockyFire Update =&gt; California Hwy. 20 closed...</td>\n",
       "      <td>1</td>\n",
       "    </tr>\n",
       "    <tr>\n",
       "      <th>6</th>\n",
       "      <td>10</td>\n",
       "      <td>NaN</td>\n",
       "      <td>NaN</td>\n",
       "      <td>#flood #disaster Heavy rain causes flash flood...</td>\n",
       "      <td>1</td>\n",
       "    </tr>\n",
       "    <tr>\n",
       "      <th>7</th>\n",
       "      <td>13</td>\n",
       "      <td>NaN</td>\n",
       "      <td>NaN</td>\n",
       "      <td>I'm on top of the hill and I can see a fire in...</td>\n",
       "      <td>1</td>\n",
       "    </tr>\n",
       "    <tr>\n",
       "      <th>8</th>\n",
       "      <td>14</td>\n",
       "      <td>NaN</td>\n",
       "      <td>NaN</td>\n",
       "      <td>There's an emergency evacuation happening now ...</td>\n",
       "      <td>1</td>\n",
       "    </tr>\n",
       "    <tr>\n",
       "      <th>9</th>\n",
       "      <td>15</td>\n",
       "      <td>NaN</td>\n",
       "      <td>NaN</td>\n",
       "      <td>I'm afraid that the tornado is coming to our a...</td>\n",
       "      <td>1</td>\n",
       "    </tr>\n",
       "  </tbody>\n",
       "</table>\n",
       "</div>"
      ],
      "text/plain": [
       "   id keyword location                                               text  \\\n",
       "0   1     NaN      NaN  Our Deeds are the Reason of this #earthquake M...   \n",
       "1   4     NaN      NaN             Forest fire near La Ronge Sask. Canada   \n",
       "2   5     NaN      NaN  All residents asked to 'shelter in place' are ...   \n",
       "3   6     NaN      NaN  13,000 people receive #wildfires evacuation or...   \n",
       "4   7     NaN      NaN  Just got sent this photo from Ruby #Alaska as ...   \n",
       "5   8     NaN      NaN  #RockyFire Update => California Hwy. 20 closed...   \n",
       "6  10     NaN      NaN  #flood #disaster Heavy rain causes flash flood...   \n",
       "7  13     NaN      NaN  I'm on top of the hill and I can see a fire in...   \n",
       "8  14     NaN      NaN  There's an emergency evacuation happening now ...   \n",
       "9  15     NaN      NaN  I'm afraid that the tornado is coming to our a...   \n",
       "\n",
       "   target  \n",
       "0       1  \n",
       "1       1  \n",
       "2       1  \n",
       "3       1  \n",
       "4       1  \n",
       "5       1  \n",
       "6       1  \n",
       "7       1  \n",
       "8       1  \n",
       "9       1  "
      ]
     },
     "execution_count": 68,
     "metadata": {},
     "output_type": "execute_result"
    }
   ],
   "source": [
    "import pandas as pd #libreria de visualizacion de texto\n",
    "import numpy as np #libreria de operaciones matematicas\n",
    "import matplotlib.pyplot as plt\n",
    "import seaborn as sns\n",
    "%matplotlib inline\n",
    "import re\n",
    "import string\n",
    "from nltk.corpus import stopwords #limpieza de datos\n",
    "\n",
    "from wordcloud import WordCloud #graficas\n",
    "\n",
    "from textblob import TextBlob\n",
    "from nltk.sentiment.vader import SentimentIntensityAnalyzer\n",
    "import nltk\n",
    "nltk.download('vader_lexicon')\n",
    "\n",
    "\n",
    "\n",
    "datos=pd.read_csv('train (1).csv')\n",
    "datos.head(10)"
   ]
  },
  {
   "cell_type": "code",
   "execution_count": 69,
   "id": "c0036023",
   "metadata": {},
   "outputs": [
    {
     "data": {
      "text/plain": [
       "7613"
      ]
     },
     "execution_count": 69,
     "metadata": {},
     "output_type": "execute_result"
    }
   ],
   "source": [
    "datos.id.count()\n"
   ]
  },
  {
   "cell_type": "markdown",
   "id": "e4b7cb4e",
   "metadata": {},
   "source": [
    "En el archivo podemos ver que los tipos de las columnas son los siguientes."
   ]
  },
  {
   "cell_type": "code",
   "execution_count": 70,
   "id": "32724f64",
   "metadata": {},
   "outputs": [
    {
     "data": {
      "text/plain": [
       "id           int64\n",
       "keyword     object\n",
       "location    object\n",
       "text        object\n",
       "target       int64\n",
       "dtype: object"
      ]
     },
     "execution_count": 70,
     "metadata": {},
     "output_type": "execute_result"
    }
   ],
   "source": [
    "datos.dtypes\n"
   ]
  },
  {
   "cell_type": "markdown",
   "id": "b82cbc79",
   "metadata": {},
   "source": [
    "En el dataset nos encontramos  con 7613 datos iniciales. Como se puede observar, en la tabla se nos muestran muchos NaN por lo que veremos cuantos y cuáles son las columnas que los contienen."
   ]
  },
  {
   "cell_type": "code",
   "execution_count": 71,
   "id": "d68352f0",
   "metadata": {},
   "outputs": [
    {
     "data": {
      "text/plain": [
       "id             0\n",
       "keyword       61\n",
       "location    2533\n",
       "text           0\n",
       "target         0\n",
       "dtype: int64"
      ]
     },
     "execution_count": 71,
     "metadata": {},
     "output_type": "execute_result"
    }
   ],
   "source": [
    "datos.isnull().sum()"
   ]
  },
  {
   "cell_type": "markdown",
   "id": "d380088c",
   "metadata": {},
   "source": [
    "Los Nan en location no son relevantes en el estudio que queremos hacer ahora por lo que estos se dejarán. Sin embargo, creemos importante los Nan en keyword por lo que los eliminaremos. "
   ]
  },
  {
   "cell_type": "code",
   "execution_count": 72,
   "id": "18fd59dc",
   "metadata": {},
   "outputs": [
    {
     "data": {
      "text/html": [
       "<div>\n",
       "<style scoped>\n",
       "    .dataframe tbody tr th:only-of-type {\n",
       "        vertical-align: middle;\n",
       "    }\n",
       "\n",
       "    .dataframe tbody tr th {\n",
       "        vertical-align: top;\n",
       "    }\n",
       "\n",
       "    .dataframe thead th {\n",
       "        text-align: right;\n",
       "    }\n",
       "</style>\n",
       "<table border=\"1\" class=\"dataframe\">\n",
       "  <thead>\n",
       "    <tr style=\"text-align: right;\">\n",
       "      <th></th>\n",
       "      <th>id</th>\n",
       "      <th>keyword</th>\n",
       "      <th>location</th>\n",
       "      <th>text</th>\n",
       "      <th>target</th>\n",
       "    </tr>\n",
       "  </thead>\n",
       "  <tbody>\n",
       "    <tr>\n",
       "      <th>31</th>\n",
       "      <td>48</td>\n",
       "      <td>ablaze</td>\n",
       "      <td>Birmingham</td>\n",
       "      <td>@bbcmtd Wholesale Markets ablaze http://t.co/l...</td>\n",
       "      <td>1</td>\n",
       "    </tr>\n",
       "    <tr>\n",
       "      <th>32</th>\n",
       "      <td>49</td>\n",
       "      <td>ablaze</td>\n",
       "      <td>Est. September 2012 - Bristol</td>\n",
       "      <td>We always try to bring the heavy. #metal #RT h...</td>\n",
       "      <td>0</td>\n",
       "    </tr>\n",
       "    <tr>\n",
       "      <th>33</th>\n",
       "      <td>50</td>\n",
       "      <td>ablaze</td>\n",
       "      <td>AFRICA</td>\n",
       "      <td>#AFRICANBAZE: Breaking news:Nigeria flag set a...</td>\n",
       "      <td>1</td>\n",
       "    </tr>\n",
       "    <tr>\n",
       "      <th>34</th>\n",
       "      <td>52</td>\n",
       "      <td>ablaze</td>\n",
       "      <td>Philadelphia, PA</td>\n",
       "      <td>Crying out for more! Set me ablaze</td>\n",
       "      <td>0</td>\n",
       "    </tr>\n",
       "    <tr>\n",
       "      <th>35</th>\n",
       "      <td>53</td>\n",
       "      <td>ablaze</td>\n",
       "      <td>London, UK</td>\n",
       "      <td>On plus side LOOK AT THE SKY LAST NIGHT IT WAS...</td>\n",
       "      <td>0</td>\n",
       "    </tr>\n",
       "    <tr>\n",
       "      <th>36</th>\n",
       "      <td>54</td>\n",
       "      <td>ablaze</td>\n",
       "      <td>Pretoria</td>\n",
       "      <td>@PhDSquares #mufc they've built so much hype a...</td>\n",
       "      <td>0</td>\n",
       "    </tr>\n",
       "    <tr>\n",
       "      <th>37</th>\n",
       "      <td>55</td>\n",
       "      <td>ablaze</td>\n",
       "      <td>World Wide!!</td>\n",
       "      <td>INEC Office in Abia Set Ablaze - http://t.co/3...</td>\n",
       "      <td>1</td>\n",
       "    </tr>\n",
       "    <tr>\n",
       "      <th>38</th>\n",
       "      <td>56</td>\n",
       "      <td>ablaze</td>\n",
       "      <td>NaN</td>\n",
       "      <td>Barbados #Bridgetown JAMAICA ÛÒ Two cars set ...</td>\n",
       "      <td>1</td>\n",
       "    </tr>\n",
       "    <tr>\n",
       "      <th>39</th>\n",
       "      <td>57</td>\n",
       "      <td>ablaze</td>\n",
       "      <td>Paranaque City</td>\n",
       "      <td>Ablaze for you Lord :D</td>\n",
       "      <td>0</td>\n",
       "    </tr>\n",
       "    <tr>\n",
       "      <th>40</th>\n",
       "      <td>59</td>\n",
       "      <td>ablaze</td>\n",
       "      <td>Live On Webcam</td>\n",
       "      <td>Check these out: http://t.co/rOI2NSmEJJ http:/...</td>\n",
       "      <td>0</td>\n",
       "    </tr>\n",
       "  </tbody>\n",
       "</table>\n",
       "</div>"
      ],
      "text/plain": [
       "    id keyword                       location  \\\n",
       "31  48  ablaze                     Birmingham   \n",
       "32  49  ablaze  Est. September 2012 - Bristol   \n",
       "33  50  ablaze                         AFRICA   \n",
       "34  52  ablaze               Philadelphia, PA   \n",
       "35  53  ablaze                     London, UK   \n",
       "36  54  ablaze                       Pretoria   \n",
       "37  55  ablaze                   World Wide!!   \n",
       "38  56  ablaze                            NaN   \n",
       "39  57  ablaze                 Paranaque City   \n",
       "40  59  ablaze                 Live On Webcam   \n",
       "\n",
       "                                                 text  target  \n",
       "31  @bbcmtd Wholesale Markets ablaze http://t.co/l...       1  \n",
       "32  We always try to bring the heavy. #metal #RT h...       0  \n",
       "33  #AFRICANBAZE: Breaking news:Nigeria flag set a...       1  \n",
       "34                 Crying out for more! Set me ablaze       0  \n",
       "35  On plus side LOOK AT THE SKY LAST NIGHT IT WAS...       0  \n",
       "36  @PhDSquares #mufc they've built so much hype a...       0  \n",
       "37  INEC Office in Abia Set Ablaze - http://t.co/3...       1  \n",
       "38  Barbados #Bridgetown JAMAICA ÛÒ Two cars set ...       1  \n",
       "39                             Ablaze for you Lord :D       0  \n",
       "40  Check these out: http://t.co/rOI2NSmEJJ http:/...       0  "
      ]
     },
     "execution_count": 72,
     "metadata": {},
     "output_type": "execute_result"
    }
   ],
   "source": [
    "datos = datos.dropna(subset=['keyword'])\n",
    "datos.isnull().sum()\n",
    "datos.head(10)\n"
   ]
  },
  {
   "cell_type": "code",
   "execution_count": 73,
   "id": "9f8ba5a6",
   "metadata": {},
   "outputs": [
    {
     "data": {
      "text/plain": [
       "7552"
      ]
     },
     "execution_count": 73,
     "metadata": {},
     "output_type": "execute_result"
    }
   ],
   "source": [
    "datos.id.count()"
   ]
  },
  {
   "cell_type": "markdown",
   "id": "d7ff74d9",
   "metadata": {},
   "source": [
    "Finalizando con 7613 observaciones finales, donde las únicas variables cuantitativas son id y target. Sin embargo, se conoce que id es un valor único y que target solo puede tomar dos valores posibles, por lo que hacer gráficas estadisticas en estas variables no es útil. Por lo que se procede a hacer una tabla de frecuencias de target, location y keyword.\n",
    "\n",
    "##### Target"
   ]
  },
  {
   "cell_type": "code",
   "execution_count": 74,
   "id": "68c03e34",
   "metadata": {},
   "outputs": [
    {
     "data": {
      "text/html": [
       "<div>\n",
       "<style scoped>\n",
       "    .dataframe tbody tr th:only-of-type {\n",
       "        vertical-align: middle;\n",
       "    }\n",
       "\n",
       "    .dataframe tbody tr th {\n",
       "        vertical-align: top;\n",
       "    }\n",
       "\n",
       "    .dataframe thead th {\n",
       "        text-align: right;\n",
       "    }\n",
       "</style>\n",
       "<table border=\"1\" class=\"dataframe\">\n",
       "  <thead>\n",
       "    <tr style=\"text-align: right;\">\n",
       "      <th>col_0</th>\n",
       "      <th>count</th>\n",
       "    </tr>\n",
       "    <tr>\n",
       "      <th>target</th>\n",
       "      <th></th>\n",
       "    </tr>\n",
       "  </thead>\n",
       "  <tbody>\n",
       "    <tr>\n",
       "      <th>0</th>\n",
       "      <td>4323</td>\n",
       "    </tr>\n",
       "    <tr>\n",
       "      <th>1</th>\n",
       "      <td>3229</td>\n",
       "    </tr>\n",
       "  </tbody>\n",
       "</table>\n",
       "</div>"
      ],
      "text/plain": [
       "col_0   count\n",
       "target       \n",
       "0        4323\n",
       "1        3229"
      ]
     },
     "execution_count": 74,
     "metadata": {},
     "output_type": "execute_result"
    }
   ],
   "source": [
    "pd.crosstab(index=datos['target'], columns='count')\n"
   ]
  },
  {
   "cell_type": "code",
   "execution_count": 75,
   "id": "92bf0e1c",
   "metadata": {},
   "outputs": [
    {
     "data": {
      "text/plain": [
       "<AxesSubplot:>"
      ]
     },
     "execution_count": 75,
     "metadata": {},
     "output_type": "execute_result"
    },
    {
     "data": {
      "image/png": "[encoded data removed]",
      "text/plain": [
       "<Figure size 432x288 with 1 Axes>"
      ]
     },
     "metadata": {
      "needs_background": "light"
     },
     "output_type": "display_data"
    }
   ],
   "source": [
    "datos['target'].value_counts().plot(kind='bar')\n",
    "\n"
   ]
  },
  {
   "cell_type": "markdown",
   "id": "e9036280",
   "metadata": {},
   "source": [
    "Aquí podemos observar que estamos tratando con más tweets 'falsos' de desastre natural que tweets ciertos. Sin embargo, la diferencia no es tan grande entre estos dos.\n",
    "\n",
    "##### keywords"
   ]
  },
  {
   "cell_type": "code",
   "execution_count": 76,
   "id": "b66b441a",
   "metadata": {},
   "outputs": [
    {
     "data": {
      "text/html": [
       "<div>\n",
       "<style scoped>\n",
       "    .dataframe tbody tr th:only-of-type {\n",
       "        vertical-align: middle;\n",
       "    }\n",
       "\n",
       "    .dataframe tbody tr th {\n",
       "        vertical-align: top;\n",
       "    }\n",
       "\n",
       "    .dataframe thead th {\n",
       "        text-align: right;\n",
       "    }\n",
       "</style>\n",
       "<table border=\"1\" class=\"dataframe\">\n",
       "  <thead>\n",
       "    <tr style=\"text-align: right;\">\n",
       "      <th>col_0</th>\n",
       "      <th>count</th>\n",
       "    </tr>\n",
       "    <tr>\n",
       "      <th>keyword</th>\n",
       "      <th></th>\n",
       "    </tr>\n",
       "  </thead>\n",
       "  <tbody>\n",
       "    <tr>\n",
       "      <th>ablaze</th>\n",
       "      <td>36</td>\n",
       "    </tr>\n",
       "    <tr>\n",
       "      <th>accident</th>\n",
       "      <td>35</td>\n",
       "    </tr>\n",
       "    <tr>\n",
       "      <th>aftershock</th>\n",
       "      <td>34</td>\n",
       "    </tr>\n",
       "    <tr>\n",
       "      <th>airplane%20accident</th>\n",
       "      <td>35</td>\n",
       "    </tr>\n",
       "    <tr>\n",
       "      <th>ambulance</th>\n",
       "      <td>38</td>\n",
       "    </tr>\n",
       "    <tr>\n",
       "      <th>...</th>\n",
       "      <td>...</td>\n",
       "    </tr>\n",
       "    <tr>\n",
       "      <th>wounded</th>\n",
       "      <td>37</td>\n",
       "    </tr>\n",
       "    <tr>\n",
       "      <th>wounds</th>\n",
       "      <td>33</td>\n",
       "    </tr>\n",
       "    <tr>\n",
       "      <th>wreck</th>\n",
       "      <td>37</td>\n",
       "    </tr>\n",
       "    <tr>\n",
       "      <th>wreckage</th>\n",
       "      <td>39</td>\n",
       "    </tr>\n",
       "    <tr>\n",
       "      <th>wrecked</th>\n",
       "      <td>39</td>\n",
       "    </tr>\n",
       "  </tbody>\n",
       "</table>\n",
       "<p>221 rows × 1 columns</p>\n",
       "</div>"
      ],
      "text/plain": [
       "col_0                count\n",
       "keyword                   \n",
       "ablaze                  36\n",
       "accident                35\n",
       "aftershock              34\n",
       "airplane%20accident     35\n",
       "ambulance               38\n",
       "...                    ...\n",
       "wounded                 37\n",
       "wounds                  33\n",
       "wreck                   37\n",
       "wreckage                39\n",
       "wrecked                 39\n",
       "\n",
       "[221 rows x 1 columns]"
      ]
     },
     "execution_count": 76,
     "metadata": {},
     "output_type": "execute_result"
    }
   ],
   "source": [
    "pd.crosstab(index=datos['keyword'], columns='count')\n"
   ]
  },
  {
   "cell_type": "code",
   "execution_count": 77,
   "id": "7f512578",
   "metadata": {},
   "outputs": [
    {
     "data": {
      "text/plain": [
       "<AxesSubplot:>"
      ]
     },
     "execution_count": 77,
     "metadata": {},
     "output_type": "execute_result"
    },
    {
     "data": {
      "image/png": "[encoded data removed]",
      "text/plain": [
       "<Figure size 432x288 with 1 Axes>"
      ]
     },
     "metadata": {
      "needs_background": "light"
     },
     "output_type": "display_data"
    }
   ],
   "source": [
    "datos['keyword'].value_counts().plot(kind='bar')\n"
   ]
  },
  {
   "cell_type": "markdown",
   "id": "1c4770a9",
   "metadata": {},
   "source": [
    "De la gráfica podemos ver que hay keywords muy comunes como fatalities o muy poco común como radiation emergency. Algo que también nos demuestra esto es que muchos keywords tienen %20 como separador de palabras por lo que se requiere hacer limpieza de eso en esta columna. \n",
    "\n",
    "##### Location"
   ]
  },
  {
   "cell_type": "code",
   "execution_count": 78,
   "id": "40888fa8",
   "metadata": {},
   "outputs": [
    {
     "data": {
      "text/html": [
       "<div>\n",
       "<style scoped>\n",
       "    .dataframe tbody tr th:only-of-type {\n",
       "        vertical-align: middle;\n",
       "    }\n",
       "\n",
       "    .dataframe tbody tr th {\n",
       "        vertical-align: top;\n",
       "    }\n",
       "\n",
       "    .dataframe thead th {\n",
       "        text-align: right;\n",
       "    }\n",
       "</style>\n",
       "<table border=\"1\" class=\"dataframe\">\n",
       "  <thead>\n",
       "    <tr style=\"text-align: right;\">\n",
       "      <th>col_0</th>\n",
       "      <th>count</th>\n",
       "    </tr>\n",
       "    <tr>\n",
       "      <th>location</th>\n",
       "      <th></th>\n",
       "    </tr>\n",
       "  </thead>\n",
       "  <tbody>\n",
       "    <tr>\n",
       "      <th></th>\n",
       "      <td>1</td>\n",
       "    </tr>\n",
       "    <tr>\n",
       "      <th>Glasgow</th>\n",
       "      <td>1</td>\n",
       "    </tr>\n",
       "    <tr>\n",
       "      <th>Melbourne, Australia</th>\n",
       "      <td>1</td>\n",
       "    </tr>\n",
       "    <tr>\n",
       "      <th>News</th>\n",
       "      <td>1</td>\n",
       "    </tr>\n",
       "    <tr>\n",
       "      <th>å_</th>\n",
       "      <td>1</td>\n",
       "    </tr>\n",
       "    <tr>\n",
       "      <th>...</th>\n",
       "      <td>...</td>\n",
       "    </tr>\n",
       "    <tr>\n",
       "      <th>å_: ?? ÌÑ ? : ?</th>\n",
       "      <td>1</td>\n",
       "    </tr>\n",
       "    <tr>\n",
       "      <th>å_å_Los Mina Cityã¢</th>\n",
       "      <td>1</td>\n",
       "    </tr>\n",
       "    <tr>\n",
       "      <th>å¡å¡Midwest Û¢Û¢</th>\n",
       "      <td>1</td>\n",
       "    </tr>\n",
       "    <tr>\n",
       "      <th>åÊ(?Û¢`?Û¢å«)??</th>\n",
       "      <td>1</td>\n",
       "    </tr>\n",
       "    <tr>\n",
       "      <th>åø\\_(?)_/åø</th>\n",
       "      <td>1</td>\n",
       "    </tr>\n",
       "  </tbody>\n",
       "</table>\n",
       "<p>3341 rows × 1 columns</p>\n",
       "</div>"
      ],
      "text/plain": [
       "col_0                   count\n",
       "location                     \n",
       "                            1\n",
       "  Glasgow                   1\n",
       "  Melbourne, Australia      1\n",
       "  News                      1\n",
       "  å_                        1\n",
       "...                       ...\n",
       "å_: ?? ÌÑ ? : ?             1\n",
       "å_å_Los Mina Cityã¢        1\n",
       "å¡å¡Midwest Û¢Û¢          1\n",
       "åÊ(?Û¢`?Û¢å«)??           1\n",
       "åø\\_(?)_/åø                 1\n",
       "\n",
       "[3341 rows x 1 columns]"
      ]
     },
     "execution_count": 78,
     "metadata": {},
     "output_type": "execute_result"
    }
   ],
   "source": [
    "pd.crosstab(index=datos['location'], columns='count')\n"
   ]
  },
  {
   "cell_type": "markdown",
   "id": "d64a407f",
   "metadata": {},
   "source": [
    "De lo que podemos observar es que la columna de location también requiere de limpieza. Pero que puede que no sea útil para un análisis de este tipo. \n",
    "\n",
    "#### Limpieza de datos\n",
    "Ya se eliminaron los NaN de las columnas importantes y en las tablas y gráficas visto anteriormente nos dimos que cuenta que en lass columnas de location y keyword también se necesitan procesos de limpieza, no solo en tweets. Por lo que se hace primero la eliminacion de letras mayúsculas y se pasan a minúsculas."
   ]
  },
  {
   "cell_type": "code",
   "execution_count": 79,
   "id": "0444fe2b",
   "metadata": {},
   "outputs": [
    {
     "data": {
      "text/html": [
       "<div>\n",
       "<style scoped>\n",
       "    .dataframe tbody tr th:only-of-type {\n",
       "        vertical-align: middle;\n",
       "    }\n",
       "\n",
       "    .dataframe tbody tr th {\n",
       "        vertical-align: top;\n",
       "    }\n",
       "\n",
       "    .dataframe thead th {\n",
       "        text-align: right;\n",
       "    }\n",
       "</style>\n",
       "<table border=\"1\" class=\"dataframe\">\n",
       "  <thead>\n",
       "    <tr style=\"text-align: right;\">\n",
       "      <th></th>\n",
       "      <th>id</th>\n",
       "      <th>keyword</th>\n",
       "      <th>location</th>\n",
       "      <th>text</th>\n",
       "      <th>target</th>\n",
       "    </tr>\n",
       "  </thead>\n",
       "  <tbody>\n",
       "    <tr>\n",
       "      <th>31</th>\n",
       "      <td>48</td>\n",
       "      <td>ablaze</td>\n",
       "      <td>birmingham</td>\n",
       "      <td>@bbcmtd wholesale markets ablaze http://t.co/l...</td>\n",
       "      <td>1</td>\n",
       "    </tr>\n",
       "    <tr>\n",
       "      <th>32</th>\n",
       "      <td>49</td>\n",
       "      <td>ablaze</td>\n",
       "      <td>est. september 2012 - bristol</td>\n",
       "      <td>we always try to bring the heavy. #metal #rt h...</td>\n",
       "      <td>0</td>\n",
       "    </tr>\n",
       "    <tr>\n",
       "      <th>33</th>\n",
       "      <td>50</td>\n",
       "      <td>ablaze</td>\n",
       "      <td>africa</td>\n",
       "      <td>#africanbaze: breaking news:nigeria flag set a...</td>\n",
       "      <td>1</td>\n",
       "    </tr>\n",
       "    <tr>\n",
       "      <th>34</th>\n",
       "      <td>52</td>\n",
       "      <td>ablaze</td>\n",
       "      <td>philadelphia, pa</td>\n",
       "      <td>crying out for more! set me ablaze</td>\n",
       "      <td>0</td>\n",
       "    </tr>\n",
       "    <tr>\n",
       "      <th>35</th>\n",
       "      <td>53</td>\n",
       "      <td>ablaze</td>\n",
       "      <td>london, uk</td>\n",
       "      <td>on plus side look at the sky last night it was...</td>\n",
       "      <td>0</td>\n",
       "    </tr>\n",
       "  </tbody>\n",
       "</table>\n",
       "</div>"
      ],
      "text/plain": [
       "    id keyword                       location  \\\n",
       "31  48  ablaze                     birmingham   \n",
       "32  49  ablaze  est. september 2012 - bristol   \n",
       "33  50  ablaze                         africa   \n",
       "34  52  ablaze               philadelphia, pa   \n",
       "35  53  ablaze                     london, uk   \n",
       "\n",
       "                                                 text  target  \n",
       "31  @bbcmtd wholesale markets ablaze http://t.co/l...       1  \n",
       "32  we always try to bring the heavy. #metal #rt h...       0  \n",
       "33  #africanbaze: breaking news:nigeria flag set a...       1  \n",
       "34                 crying out for more! set me ablaze       0  \n",
       "35  on plus side look at the sky last night it was...       0  "
      ]
     },
     "execution_count": 79,
     "metadata": {},
     "output_type": "execute_result"
    }
   ],
   "source": [
    "datos['keyword'] = datos['keyword'].str.lower()\n",
    "datos['location'] = datos['location'].str.lower()\n",
    "datos['text'] = datos['text'].str.lower()\n",
    "\n",
    "datos.head()"
   ]
  },
  {
   "cell_type": "markdown",
   "id": "470418d3",
   "metadata": {},
   "source": [
    "Se remplaza los %20 de la columna keywords por espacios."
   ]
  },
  {
   "cell_type": "code",
   "execution_count": 80,
   "id": "b8f9d0cd",
   "metadata": {},
   "outputs": [
    {
     "data": {
      "text/plain": [
       "<AxesSubplot:>"
      ]
     },
     "execution_count": 80,
     "metadata": {},
     "output_type": "execute_result"
    },
    {
     "data": {
      "image/png": "[encoded data removed]",
      "text/plain": [
       "<Figure size 432x288 with 1 Axes>"
      ]
     },
     "metadata": {
      "needs_background": "light"
     },
     "output_type": "display_data"
    }
   ],
   "source": [
    "datos['keyword'] = datos['keyword'].str.replace('%20',' ')\n",
    "datos['keyword'].value_counts().plot(kind='bar')\n"
   ]
  },
  {
   "cell_type": "markdown",
   "id": "90bbfcb1",
   "metadata": {},
   "source": [
    "Eliminamos los elementos que son componentes de URLs para no tener más signos que nos interferan en el manejo de los datos durante el análisis. "
   ]
  },
  {
   "cell_type": "code",
   "execution_count": 81,
   "id": "d46ab087",
   "metadata": {},
   "outputs": [
    {
     "data": {
      "text/html": [
       "<div>\n",
       "<style scoped>\n",
       "    .dataframe tbody tr th:only-of-type {\n",
       "        vertical-align: middle;\n",
       "    }\n",
       "\n",
       "    .dataframe tbody tr th {\n",
       "        vertical-align: top;\n",
       "    }\n",
       "\n",
       "    .dataframe thead th {\n",
       "        text-align: right;\n",
       "    }\n",
       "</style>\n",
       "<table border=\"1\" class=\"dataframe\">\n",
       "  <thead>\n",
       "    <tr style=\"text-align: right;\">\n",
       "      <th></th>\n",
       "      <th>id</th>\n",
       "      <th>keyword</th>\n",
       "      <th>location</th>\n",
       "      <th>text</th>\n",
       "      <th>target</th>\n",
       "    </tr>\n",
       "  </thead>\n",
       "  <tbody>\n",
       "    <tr>\n",
       "      <th>31</th>\n",
       "      <td>48</td>\n",
       "      <td>ablaze</td>\n",
       "      <td>birmingham</td>\n",
       "      <td>@bbcmtd wholesale markets ablaze</td>\n",
       "      <td>1</td>\n",
       "    </tr>\n",
       "    <tr>\n",
       "      <th>32</th>\n",
       "      <td>49</td>\n",
       "      <td>ablaze</td>\n",
       "      <td>est. september 2012 - bristol</td>\n",
       "      <td>we always try to bring the heavy. #metal #rt</td>\n",
       "      <td>0</td>\n",
       "    </tr>\n",
       "    <tr>\n",
       "      <th>33</th>\n",
       "      <td>50</td>\n",
       "      <td>ablaze</td>\n",
       "      <td>africa</td>\n",
       "      <td>#africanbaze: breaking news:nigeria flag set a...</td>\n",
       "      <td>1</td>\n",
       "    </tr>\n",
       "    <tr>\n",
       "      <th>34</th>\n",
       "      <td>52</td>\n",
       "      <td>ablaze</td>\n",
       "      <td>philadelphia, pa</td>\n",
       "      <td>crying out for more! set me ablaze</td>\n",
       "      <td>0</td>\n",
       "    </tr>\n",
       "    <tr>\n",
       "      <th>35</th>\n",
       "      <td>53</td>\n",
       "      <td>ablaze</td>\n",
       "      <td>london, uk</td>\n",
       "      <td>on plus side look at the sky last night it was...</td>\n",
       "      <td>0</td>\n",
       "    </tr>\n",
       "  </tbody>\n",
       "</table>\n",
       "</div>"
      ],
      "text/plain": [
       "    id keyword                       location  \\\n",
       "31  48  ablaze                     birmingham   \n",
       "32  49  ablaze  est. september 2012 - bristol   \n",
       "33  50  ablaze                         africa   \n",
       "34  52  ablaze               philadelphia, pa   \n",
       "35  53  ablaze                     london, uk   \n",
       "\n",
       "                                                 text  target  \n",
       "31                  @bbcmtd wholesale markets ablaze        1  \n",
       "32      we always try to bring the heavy. #metal #rt        0  \n",
       "33  #africanbaze: breaking news:nigeria flag set a...       1  \n",
       "34                 crying out for more! set me ablaze       0  \n",
       "35  on plus side look at the sky last night it was...       0  "
      ]
     },
     "execution_count": 81,
     "metadata": {},
     "output_type": "execute_result"
    }
   ],
   "source": [
    "datos['text'] = datos['text'].apply(lambda x: re.split('https:\\/\\/.*', str(x))[0])\n",
    "datos['text'] = datos['text'].apply(lambda x: re.split('http:\\/\\/.*', str(x))[0])\n",
    "\n",
    "datos.head()"
   ]
  },
  {
   "cell_type": "markdown",
   "id": "5069bed8",
   "metadata": {},
   "source": [
    "Se remueve los caracteres especiales de las columna de text para poder hacer un analisis de texto."
   ]
  },
  {
   "cell_type": "code",
   "execution_count": 82,
   "id": "9447873e",
   "metadata": {},
   "outputs": [
    {
     "data": {
      "text/html": [
       "<div>\n",
       "<style scoped>\n",
       "    .dataframe tbody tr th:only-of-type {\n",
       "        vertical-align: middle;\n",
       "    }\n",
       "\n",
       "    .dataframe tbody tr th {\n",
       "        vertical-align: top;\n",
       "    }\n",
       "\n",
       "    .dataframe thead th {\n",
       "        text-align: right;\n",
       "    }\n",
       "</style>\n",
       "<table border=\"1\" class=\"dataframe\">\n",
       "  <thead>\n",
       "    <tr style=\"text-align: right;\">\n",
       "      <th></th>\n",
       "      <th>id</th>\n",
       "      <th>keyword</th>\n",
       "      <th>location</th>\n",
       "      <th>text</th>\n",
       "      <th>target</th>\n",
       "    </tr>\n",
       "  </thead>\n",
       "  <tbody>\n",
       "    <tr>\n",
       "      <th>31</th>\n",
       "      <td>48</td>\n",
       "      <td>ablaze</td>\n",
       "      <td>birmingham</td>\n",
       "      <td>bbcmtd wholesale markets ablaze</td>\n",
       "      <td>1</td>\n",
       "    </tr>\n",
       "    <tr>\n",
       "      <th>32</th>\n",
       "      <td>49</td>\n",
       "      <td>ablaze</td>\n",
       "      <td>est. september 2012 - bristol</td>\n",
       "      <td>we always try to bring the heavy metal rt</td>\n",
       "      <td>0</td>\n",
       "    </tr>\n",
       "    <tr>\n",
       "      <th>33</th>\n",
       "      <td>50</td>\n",
       "      <td>ablaze</td>\n",
       "      <td>africa</td>\n",
       "      <td>africanbaze breaking newsnigeria flag set abla...</td>\n",
       "      <td>1</td>\n",
       "    </tr>\n",
       "    <tr>\n",
       "      <th>34</th>\n",
       "      <td>52</td>\n",
       "      <td>ablaze</td>\n",
       "      <td>philadelphia, pa</td>\n",
       "      <td>crying out for more set me ablaze</td>\n",
       "      <td>0</td>\n",
       "    </tr>\n",
       "    <tr>\n",
       "      <th>35</th>\n",
       "      <td>53</td>\n",
       "      <td>ablaze</td>\n",
       "      <td>london, uk</td>\n",
       "      <td>on plus side look at the sky last night it was...</td>\n",
       "      <td>0</td>\n",
       "    </tr>\n",
       "  </tbody>\n",
       "</table>\n",
       "</div>"
      ],
      "text/plain": [
       "    id keyword                       location  \\\n",
       "31  48  ablaze                     birmingham   \n",
       "32  49  ablaze  est. september 2012 - bristol   \n",
       "33  50  ablaze                         africa   \n",
       "34  52  ablaze               philadelphia, pa   \n",
       "35  53  ablaze                     london, uk   \n",
       "\n",
       "                                                 text  target  \n",
       "31                   bbcmtd wholesale markets ablaze        1  \n",
       "32         we always try to bring the heavy metal rt        0  \n",
       "33  africanbaze breaking newsnigeria flag set abla...       1  \n",
       "34                  crying out for more set me ablaze       0  \n",
       "35  on plus side look at the sky last night it was...       0  "
      ]
     },
     "execution_count": 82,
     "metadata": {},
     "output_type": "execute_result"
    }
   ],
   "source": [
    "def remove_punctuations(text):\n",
    "    for punctuation in string.punctuation:\n",
    "        text = text.replace(punctuation, '')\n",
    "    return text\n",
    "datos['text'] = datos['text'].apply(remove_punctuations)\n",
    "datos.head()"
   ]
  },
  {
   "cell_type": "markdown",
   "id": "5538deab",
   "metadata": {},
   "source": [
    "En este tipo de análisis emojis pueden ser caracteres que pueden confundir más a la computadora por lo que se eliminaran estos de la columna de tweets."
   ]
  },
  {
   "cell_type": "code",
   "execution_count": 83,
   "id": "3d46404c",
   "metadata": {},
   "outputs": [
    {
     "data": {
      "text/html": [
       "<div>\n",
       "<style scoped>\n",
       "    .dataframe tbody tr th:only-of-type {\n",
       "        vertical-align: middle;\n",
       "    }\n",
       "\n",
       "    .dataframe tbody tr th {\n",
       "        vertical-align: top;\n",
       "    }\n",
       "\n",
       "    .dataframe thead th {\n",
       "        text-align: right;\n",
       "    }\n",
       "</style>\n",
       "<table border=\"1\" class=\"dataframe\">\n",
       "  <thead>\n",
       "    <tr style=\"text-align: right;\">\n",
       "      <th></th>\n",
       "      <th>id</th>\n",
       "      <th>keyword</th>\n",
       "      <th>location</th>\n",
       "      <th>text</th>\n",
       "      <th>target</th>\n",
       "    </tr>\n",
       "  </thead>\n",
       "  <tbody>\n",
       "    <tr>\n",
       "      <th>31</th>\n",
       "      <td>48</td>\n",
       "      <td>ablaze</td>\n",
       "      <td>birmingham</td>\n",
       "      <td>bbcmtd wholesale markets ablaze</td>\n",
       "      <td>1</td>\n",
       "    </tr>\n",
       "    <tr>\n",
       "      <th>32</th>\n",
       "      <td>49</td>\n",
       "      <td>ablaze</td>\n",
       "      <td>est. september 2012 - bristol</td>\n",
       "      <td>we always try to bring the heavy metal rt</td>\n",
       "      <td>0</td>\n",
       "    </tr>\n",
       "    <tr>\n",
       "      <th>33</th>\n",
       "      <td>50</td>\n",
       "      <td>ablaze</td>\n",
       "      <td>africa</td>\n",
       "      <td>africanbaze breaking newsnigeria flag set abla...</td>\n",
       "      <td>1</td>\n",
       "    </tr>\n",
       "    <tr>\n",
       "      <th>34</th>\n",
       "      <td>52</td>\n",
       "      <td>ablaze</td>\n",
       "      <td>philadelphia, pa</td>\n",
       "      <td>crying out for more set me ablaze</td>\n",
       "      <td>0</td>\n",
       "    </tr>\n",
       "    <tr>\n",
       "      <th>35</th>\n",
       "      <td>53</td>\n",
       "      <td>ablaze</td>\n",
       "      <td>london, uk</td>\n",
       "      <td>on plus side look at the sky last night it was...</td>\n",
       "      <td>0</td>\n",
       "    </tr>\n",
       "  </tbody>\n",
       "</table>\n",
       "</div>"
      ],
      "text/plain": [
       "    id keyword                       location  \\\n",
       "31  48  ablaze                     birmingham   \n",
       "32  49  ablaze  est. september 2012 - bristol   \n",
       "33  50  ablaze                         africa   \n",
       "34  52  ablaze               philadelphia, pa   \n",
       "35  53  ablaze                     london, uk   \n",
       "\n",
       "                                                 text  target  \n",
       "31                   bbcmtd wholesale markets ablaze        1  \n",
       "32         we always try to bring the heavy metal rt        0  \n",
       "33  africanbaze breaking newsnigeria flag set abla...       1  \n",
       "34                  crying out for more set me ablaze       0  \n",
       "35  on plus side look at the sky last night it was...       0  "
      ]
     },
     "execution_count": 83,
     "metadata": {},
     "output_type": "execute_result"
    }
   ],
   "source": [
    "datos.astype(str).apply(lambda x: x.str.encode('ascii', 'ignore').str.decode('ascii'))\n",
    "datos.head()"
   ]
  },
  {
   "cell_type": "markdown",
   "id": "46b5c54c",
   "metadata": {},
   "source": [
    "Se remueven los stopwords de text."
   ]
  },
  {
   "cell_type": "code",
   "execution_count": 84,
   "id": "06373592",
   "metadata": {},
   "outputs": [],
   "source": [
    "stop = stopwords.words('english')\n",
    "\n",
    "datos['text'] = datos['text'].str.lower().str.split() \n",
    "\n",
    "datos['text'] = datos['text'].apply(lambda x: [item for item in x if item not in stop])\n",
    "datos['text'] = [' '.join(map(str, l)) for l in datos['text']]\n",
    "\n",
    "datos.head()\n",
    "datos.to_csv('clean.csv')"
   ]
  },
  {
   "cell_type": "markdown",
   "id": "c33a97ab",
   "metadata": {},
   "source": [
    "#### Análisis\n",
    "\n",
    "Se comienza a hacer un gráfico de correlación entre las variables enteras de nuestro dataset. "
   ]
  },
  {
   "cell_type": "code",
   "execution_count": 85,
   "id": "b98723d8",
   "metadata": {},
   "outputs": [
    {
     "data": {
      "text/plain": [
       "<AxesSubplot:>"
      ]
     },
     "execution_count": 85,
     "metadata": {},
     "output_type": "execute_result"
    },
    {
     "data": {
      "image/png": "[encoded data removed]",
      "text/plain": [
       "<Figure size 720x360 with 2 Axes>"
      ]
     },
     "metadata": {
      "needs_background": "light"
     },
     "output_type": "display_data"
    }
   ],
   "source": [
    "corr = datos.corr()\n",
    "f, ax = plt.subplots(figsize=(10, 5))\n",
    "sns.heatmap(corr, cbar=True, annot=True,\n",
    "            xticklabels=corr.columns.values,\n",
    "            yticklabels=corr.columns.values)"
   ]
  },
  {
   "cell_type": "markdown",
   "id": "ceaa0a73",
   "metadata": {},
   "source": [
    "Como podemos ver, la verdad es que estas dos variables no se relacionan en nada por lo que no tiene sentido tener cruzar estas variables, sin embargo, si es de suma importancia y nos puede dar 'Insights' hacer gráficas de palabras dependiendo si si es un desastre natural o no. Por lo que se prosigue a dividir la base de datos en dos. "
   ]
  },
  {
   "cell_type": "code",
   "execution_count": 86,
   "id": "bf289893",
   "metadata": {},
   "outputs": [],
   "source": [
    "noDesastre = datos.loc[datos['target'] == 0]\n",
    "siDesastre = datos.loc[datos['target'] == 1]\n",
    "\n",
    "noDesastre.head(5)\n",
    "noDesastre.to_csv('noDesastre.csv')"
   ]
  },
  {
   "cell_type": "code",
   "execution_count": 87,
   "id": "ecec59e8",
   "metadata": {},
   "outputs": [],
   "source": [
    "siDesastre.head(5)\n",
    "siDesastre.to_csv('siDesastre.csv')"
   ]
  },
  {
   "cell_type": "markdown",
   "id": "e8507a99",
   "metadata": {},
   "source": [
    "Se obtiene un wordcloud de los desastres naturales que no son desastres naturales."
   ]
  },
  {
   "cell_type": "code",
   "execution_count": 88,
   "id": "af3680fa",
   "metadata": {},
   "outputs": [
    {
     "data": {
      "text/plain": [
       "id             0\n",
       "keyword        0\n",
       "location    1439\n",
       "text           0\n",
       "target         0\n",
       "dtype: int64"
      ]
     },
     "execution_count": 88,
     "metadata": {},
     "output_type": "execute_result"
    }
   ],
   "source": [
    "noDesastre.isna().sum()"
   ]
  },
  {
   "cell_type": "code",
   "execution_count": 89,
   "id": "80dbff9d",
   "metadata": {},
   "outputs": [
    {
     "data": {
      "image/png": "[encoded data removed]",
      "text/plain": [
       "<Figure size 432x288 with 1 Axes>"
      ]
     },
     "metadata": {
      "needs_background": "light"
     },
     "output_type": "display_data"
    }
   ],
   "source": [
    "tc = {} #dic con counters\n",
    "    \n",
    "for review in noDesastre['text']:\n",
    "    text = review.split(' ')\n",
    "    for word in text:\n",
    "        counter = tc.get(word)\n",
    "        if counter:\n",
    "            tc[word] = counter + 1\n",
    "        else:\n",
    "            tc[word] = 1\n",
    "\n",
    "# create the WordCloud object\n",
    "wordcloud = WordCloud(background_color=\"white\",max_words=50,max_font_size=40,scale=3,random_state=1)\n",
    "\n",
    "# generate the word cloud\n",
    "wordcloud.generate_from_frequencies(tc)\n",
    "\n",
    "plt.imshow(wordcloud, interpolation='bilinear')\n",
    "plt.axis('off')\n",
    "plt.show()"
   ]
  },
  {
   "cell_type": "markdown",
   "id": "b6e4c6bb",
   "metadata": {},
   "source": [
    "Aquí podemos ver que los tweets que no son desastres naturales poseen varias veces palabras consideradas como 'positivas' entonces se puede hacer un sentiment analysis y probar que los tweets sobre desastres naturales usan palabras positivas en ellos.\n",
    "\n",
    "Se obtiene un wordcloud del dataframe que si es de desastres."
   ]
  },
  {
   "cell_type": "code",
   "execution_count": 90,
   "id": "509d8b34",
   "metadata": {},
   "outputs": [
    {
     "data": {
      "image/png": "[encoded data removed]",
      "text/plain": [
       "<Figure size 432x288 with 1 Axes>"
      ]
     },
     "metadata": {
      "needs_background": "light"
     },
     "output_type": "display_data"
    }
   ],
   "source": [
    "ntc = {} #dic con counters\n",
    "    \n",
    "for review in siDesastre['text']:\n",
    "    text = review.split(' ')\n",
    "    for word in text:\n",
    "        counter = tc.get(word)\n",
    "        if counter:\n",
    "            ntc[word] = counter + 1\n",
    "        else:\n",
    "            ntc[word] = 1\n",
    "\n",
    "# create the WordCloud object\n",
    "wordcloud = WordCloud(background_color=\"white\",max_words=50,max_font_size=40,scale=3,random_state=1)\n",
    "\n",
    "# generate the word cloud\n",
    "wordcloud.generate_from_frequencies(ntc)\n",
    "\n",
    "plt.imshow(wordcloud, interpolation='bilinear')\n",
    "plt.axis('off')\n",
    "plt.show()"
   ]
  },
  {
   "cell_type": "markdown",
   "id": "8467149d",
   "metadata": {},
   "source": [
    "De este wordcloud podemos ver que nuestra impresión es incorrecta y estos tweets si tiene palabras positivas en esa dataframe."
   ]
  },
  {
   "cell_type": "markdown",
   "id": "20ecd494",
   "metadata": {},
   "source": [
    "##### Keywords de no desastres y de desastres"
   ]
  },
  {
   "cell_type": "code",
   "execution_count": 91,
   "id": "6ad6cc50",
   "metadata": {},
   "outputs": [
    {
     "data": {
      "text/plain": [
       "<AxesSubplot:>"
      ]
     },
     "execution_count": 91,
     "metadata": {},
     "output_type": "execute_result"
    },
    {
     "data": {
      "image/png": "[encoded data removed]",
      "text/plain": [
       "<Figure size 432x288 with 1 Axes>"
      ]
     },
     "metadata": {
      "needs_background": "light"
     },
     "output_type": "display_data"
    }
   ],
   "source": [
    "noDesastre['keyword'].value_counts().plot(kind='bar')\n"
   ]
  },
  {
   "cell_type": "code",
   "execution_count": 92,
   "id": "d53869ff",
   "metadata": {},
   "outputs": [
    {
     "data": {
      "text/plain": [
       "<AxesSubplot:>"
      ]
     },
     "execution_count": 92,
     "metadata": {},
     "output_type": "execute_result"
    },
    {
     "data": {
      "image/png": "[encoded data removed]",
      "text/plain": [
       "<Figure size 432x288 with 1 Axes>"
      ]
     },
     "metadata": {
      "needs_background": "light"
     },
     "output_type": "display_data"
    }
   ],
   "source": [
    "siDesastre['keyword'].value_counts().plot(kind='bar')\n"
   ]
  },
  {
   "cell_type": "markdown",
   "id": "16497f21",
   "metadata": {},
   "source": [
    "## Sentiment Analysis\n",
    "Se busca hacer un sentiment analysis de ambas bases de datos creadas para descubrir si la base de no desastres posee tweets con más palabras positivas que negativas y si en la base de si desastres pasa totalmente lo contrario\n",
    "\n",
    "#### noDesastre"
   ]
  },
  {
   "cell_type": "code",
   "execution_count": 93,
   "id": "7c4ca34c",
   "metadata": {},
   "outputs": [],
   "source": [
    "# Tweet sentiment Counters\n",
    "positive = 0\n",
    "negative = 0\n",
    "neutral = 0\n",
    "\n",
    "polarity = 0\n",
    "\n",
    "# Tweet sentiment Lists\n",
    "tweet_list = []\n",
    "neutral_list = []\n",
    "negative_list = []\n",
    "positive_list = []"
   ]
  },
  {
   "cell_type": "code",
   "execution_count": 94,
   "id": "7fd78d72",
   "metadata": {},
   "outputs": [],
   "source": [
    "for tweet in noDesastre.text:\n",
    "    \n",
    "    tweet_list.append(tweet)\n",
    "    analysis = TextBlob(tweet)\n",
    "    score = SentimentIntensityAnalyzer().polarity_scores(tweet)\n",
    "    neg = score['neg']\n",
    "    neu = score['neu']\n",
    "    pos = score['pos']\n",
    "    comp = score['compound']\n",
    "    polarity += analysis.sentiment.polarity\n",
    "    \n",
    "    if neg > pos:\n",
    "        negative_list.append(tweet)\n",
    "        negative += 1\n",
    "    elif pos > neg:\n",
    "        positive_list.append(tweet)\n",
    "        positive += 1\n",
    "    elif pos == neg:\n",
    "        neutral_list.append(tweet)\n",
    "        neutral += 1"
   ]
  },
  {
   "cell_type": "code",
   "execution_count": 95,
   "id": "e51e853e",
   "metadata": {},
   "outputs": [],
   "source": [
    "def percentage(part,whole):\n",
    "    return 100 * float(part)/float(whole)\n",
    "\n",
    "noOfTweet = len(noDesastre.text)\n",
    "\n",
    "positive = percentage(positive, noOfTweet)\n",
    "negative = percentage(negative, noOfTweet)\n",
    "neutral = percentage(neutral, noOfTweet)\n",
    "polarity = percentage(polarity, noOfTweet)\n",
    "\n",
    "positive = format(positive, '.1f')\n",
    "negative = format(negative, '.1f')\n",
    "neutral = format(neutral, '.1f')"
   ]
  },
  {
   "cell_type": "markdown",
   "id": "e23cdc9c",
   "metadata": {},
   "source": [
    "Miremos la cantidad de tweets y sus sentimientos"
   ]
  },
  {
   "cell_type": "code",
   "execution_count": 96,
   "id": "9f1038ea",
   "metadata": {},
   "outputs": [
    {
     "name": "stdout",
     "output_type": "stream",
     "text": [
      "total number:  4323\n",
      "positive number:  1397\n",
      "negative number:  1798\n",
      "neutral number:  1128\n"
     ]
    }
   ],
   "source": [
    "#Number of Tweets (Total, Positive, Negative, Neutral)tweet_list = pd.DataFrame(tweet_list)\n",
    "\n",
    "tweet_list = pd.DataFrame(tweet_list)\n",
    "\n",
    "neutral_list = pd.DataFrame(neutral_list)\n",
    "negative_list = pd.DataFrame(negative_list)\n",
    "positive_list = pd.DataFrame(positive_list)\n",
    "\n",
    "print('total number: ', len(tweet_list))\n",
    "print('positive number: ',len(positive_list))\n",
    "print('negative number: ', len(negative_list))\n",
    "print('neutral number: ',len(neutral_list))"
   ]
  },
  {
   "cell_type": "markdown",
   "id": "4438e3a6",
   "metadata": {},
   "source": [
    "Es probable que algunos tweets esten duplicados, por lo que se deben eliminar los duplicados utilizando la función drop_duplicates."
   ]
  },
  {
   "cell_type": "code",
   "execution_count": 97,
   "id": "a535a01f",
   "metadata": {},
   "outputs": [],
   "source": [
    "tweet_list.drop_duplicates(inplace = True)"
   ]
  },
  {
   "cell_type": "code",
   "execution_count": 98,
   "id": "3ed6483c",
   "metadata": {},
   "outputs": [
    {
     "data": {
      "text/html": [
       "<div>\n",
       "<style scoped>\n",
       "    .dataframe tbody tr th:only-of-type {\n",
       "        vertical-align: middle;\n",
       "    }\n",
       "\n",
       "    .dataframe tbody tr th {\n",
       "        vertical-align: top;\n",
       "    }\n",
       "\n",
       "    .dataframe thead th {\n",
       "        text-align: right;\n",
       "    }\n",
       "</style>\n",
       "<table border=\"1\" class=\"dataframe\">\n",
       "  <thead>\n",
       "    <tr style=\"text-align: right;\">\n",
       "      <th></th>\n",
       "      <th>0</th>\n",
       "    </tr>\n",
       "  </thead>\n",
       "  <tbody>\n",
       "    <tr>\n",
       "      <th>0</th>\n",
       "      <td>always try bring heavy metal rt</td>\n",
       "    </tr>\n",
       "    <tr>\n",
       "      <th>1</th>\n",
       "      <td>crying set ablaze</td>\n",
       "    </tr>\n",
       "    <tr>\n",
       "      <th>2</th>\n",
       "      <td>plus side look sky last night ablaze</td>\n",
       "    </tr>\n",
       "    <tr>\n",
       "      <th>3</th>\n",
       "      <td>phdsquares mufc theyve built much hype around ...</td>\n",
       "    </tr>\n",
       "    <tr>\n",
       "      <th>4</th>\n",
       "      <td>ablaze lord</td>\n",
       "    </tr>\n",
       "    <tr>\n",
       "      <th>...</th>\n",
       "      <td>...</td>\n",
       "    </tr>\n",
       "    <tr>\n",
       "      <th>4318</th>\n",
       "      <td>jtruff23 cameronhacker wrecked</td>\n",
       "    </tr>\n",
       "    <tr>\n",
       "      <th>4319</th>\n",
       "      <td>three days work theyve pretty much wrecked hah...</td>\n",
       "    </tr>\n",
       "    <tr>\n",
       "      <th>4320</th>\n",
       "      <td>fx forex trading cramer igers 3 words wrecked ...</td>\n",
       "    </tr>\n",
       "    <tr>\n",
       "      <th>4321</th>\n",
       "      <td>engineshed great atmosphere british lion gig t...</td>\n",
       "    </tr>\n",
       "    <tr>\n",
       "      <th>4322</th>\n",
       "      <td>cramer igers 3 words wrecked disneys stock cnbc</td>\n",
       "    </tr>\n",
       "  </tbody>\n",
       "</table>\n",
       "<p>4024 rows × 1 columns</p>\n",
       "</div>"
      ],
      "text/plain": [
       "                                                      0\n",
       "0                       always try bring heavy metal rt\n",
       "1                                     crying set ablaze\n",
       "2                  plus side look sky last night ablaze\n",
       "3     phdsquares mufc theyve built much hype around ...\n",
       "4                                           ablaze lord\n",
       "...                                                 ...\n",
       "4318                     jtruff23 cameronhacker wrecked\n",
       "4319  three days work theyve pretty much wrecked hah...\n",
       "4320  fx forex trading cramer igers 3 words wrecked ...\n",
       "4321  engineshed great atmosphere british lion gig t...\n",
       "4322    cramer igers 3 words wrecked disneys stock cnbc\n",
       "\n",
       "[4024 rows x 1 columns]"
      ]
     },
     "execution_count": 98,
     "metadata": {},
     "output_type": "execute_result"
    }
   ],
   "source": [
    "tweet_list"
   ]
  },
  {
   "cell_type": "markdown",
   "id": "5faed6e6",
   "metadata": {},
   "source": [
    "Ahora, con los datos limpios se puede calcular los parámetros de polaridad, subjetividad, sentimiento, negativos, positivos, neutros y compuestos. Para todos los parámetros calculados, se crean nuevas columnas en el data frame."
   ]
  },
  {
   "cell_type": "code",
   "execution_count": 99,
   "id": "7e0e1bb9",
   "metadata": {},
   "outputs": [
    {
     "data": {
      "text/html": [
       "<div>\n",
       "<style scoped>\n",
       "    .dataframe tbody tr th:only-of-type {\n",
       "        vertical-align: middle;\n",
       "    }\n",
       "\n",
       "    .dataframe tbody tr th {\n",
       "        vertical-align: top;\n",
       "    }\n",
       "\n",
       "    .dataframe thead th {\n",
       "        text-align: right;\n",
       "    }\n",
       "</style>\n",
       "<table border=\"1\" class=\"dataframe\">\n",
       "  <thead>\n",
       "    <tr style=\"text-align: right;\">\n",
       "      <th></th>\n",
       "      <th>0</th>\n",
       "      <th>polarity</th>\n",
       "      <th>subjectivity</th>\n",
       "      <th>sentiment</th>\n",
       "      <th>neg</th>\n",
       "      <th>neu</th>\n",
       "      <th>pos</th>\n",
       "      <th>compound</th>\n",
       "    </tr>\n",
       "  </thead>\n",
       "  <tbody>\n",
       "    <tr>\n",
       "      <th>0</th>\n",
       "      <td>always try bring heavy metal rt</td>\n",
       "      <td>-0.200000</td>\n",
       "      <td>0.500000</td>\n",
       "      <td>neutral</td>\n",
       "      <td>0.000</td>\n",
       "      <td>1.000</td>\n",
       "      <td>0.000</td>\n",
       "      <td>0.0000</td>\n",
       "    </tr>\n",
       "    <tr>\n",
       "      <th>1</th>\n",
       "      <td>crying set ablaze</td>\n",
       "      <td>-0.200000</td>\n",
       "      <td>0.600000</td>\n",
       "      <td>negative</td>\n",
       "      <td>0.608</td>\n",
       "      <td>0.392</td>\n",
       "      <td>0.000</td>\n",
       "      <td>-0.4767</td>\n",
       "    </tr>\n",
       "    <tr>\n",
       "      <th>2</th>\n",
       "      <td>plus side look sky last night ablaze</td>\n",
       "      <td>0.000000</td>\n",
       "      <td>0.066667</td>\n",
       "      <td>neutral</td>\n",
       "      <td>0.000</td>\n",
       "      <td>1.000</td>\n",
       "      <td>0.000</td>\n",
       "      <td>0.0000</td>\n",
       "    </tr>\n",
       "    <tr>\n",
       "      <th>3</th>\n",
       "      <td>phdsquares mufc theyve built much hype around ...</td>\n",
       "      <td>0.168182</td>\n",
       "      <td>0.327273</td>\n",
       "      <td>negative</td>\n",
       "      <td>0.161</td>\n",
       "      <td>0.839</td>\n",
       "      <td>0.000</td>\n",
       "      <td>-0.3612</td>\n",
       "    </tr>\n",
       "    <tr>\n",
       "      <th>4</th>\n",
       "      <td>ablaze lord</td>\n",
       "      <td>0.000000</td>\n",
       "      <td>0.000000</td>\n",
       "      <td>neutral</td>\n",
       "      <td>0.000</td>\n",
       "      <td>1.000</td>\n",
       "      <td>0.000</td>\n",
       "      <td>0.0000</td>\n",
       "    </tr>\n",
       "    <tr>\n",
       "      <th>...</th>\n",
       "      <td>...</td>\n",
       "      <td>...</td>\n",
       "      <td>...</td>\n",
       "      <td>...</td>\n",
       "      <td>...</td>\n",
       "      <td>...</td>\n",
       "      <td>...</td>\n",
       "      <td>...</td>\n",
       "    </tr>\n",
       "    <tr>\n",
       "      <th>4318</th>\n",
       "      <td>jtruff23 cameronhacker wrecked</td>\n",
       "      <td>0.000000</td>\n",
       "      <td>0.000000</td>\n",
       "      <td>neutral</td>\n",
       "      <td>0.000</td>\n",
       "      <td>1.000</td>\n",
       "      <td>0.000</td>\n",
       "      <td>0.0000</td>\n",
       "    </tr>\n",
       "    <tr>\n",
       "      <th>4319</th>\n",
       "      <td>three days work theyve pretty much wrecked hah...</td>\n",
       "      <td>0.216667</td>\n",
       "      <td>0.533333</td>\n",
       "      <td>positive</td>\n",
       "      <td>0.000</td>\n",
       "      <td>0.570</td>\n",
       "      <td>0.430</td>\n",
       "      <td>0.7783</td>\n",
       "    </tr>\n",
       "    <tr>\n",
       "      <th>4320</th>\n",
       "      <td>fx forex trading cramer igers 3 words wrecked ...</td>\n",
       "      <td>0.000000</td>\n",
       "      <td>0.000000</td>\n",
       "      <td>neutral</td>\n",
       "      <td>0.000</td>\n",
       "      <td>1.000</td>\n",
       "      <td>0.000</td>\n",
       "      <td>0.0000</td>\n",
       "    </tr>\n",
       "    <tr>\n",
       "      <th>4321</th>\n",
       "      <td>engineshed great atmosphere british lion gig t...</td>\n",
       "      <td>0.400000</td>\n",
       "      <td>0.375000</td>\n",
       "      <td>positive</td>\n",
       "      <td>0.000</td>\n",
       "      <td>0.661</td>\n",
       "      <td>0.339</td>\n",
       "      <td>0.6249</td>\n",
       "    </tr>\n",
       "    <tr>\n",
       "      <th>4322</th>\n",
       "      <td>cramer igers 3 words wrecked disneys stock cnbc</td>\n",
       "      <td>0.000000</td>\n",
       "      <td>0.000000</td>\n",
       "      <td>neutral</td>\n",
       "      <td>0.000</td>\n",
       "      <td>1.000</td>\n",
       "      <td>0.000</td>\n",
       "      <td>0.0000</td>\n",
       "    </tr>\n",
       "  </tbody>\n",
       "</table>\n",
       "<p>4024 rows × 8 columns</p>\n",
       "</div>"
      ],
      "text/plain": [
       "                                                      0  polarity  \\\n",
       "0                       always try bring heavy metal rt -0.200000   \n",
       "1                                     crying set ablaze -0.200000   \n",
       "2                  plus side look sky last night ablaze  0.000000   \n",
       "3     phdsquares mufc theyve built much hype around ...  0.168182   \n",
       "4                                           ablaze lord  0.000000   \n",
       "...                                                 ...       ...   \n",
       "4318                     jtruff23 cameronhacker wrecked  0.000000   \n",
       "4319  three days work theyve pretty much wrecked hah...  0.216667   \n",
       "4320  fx forex trading cramer igers 3 words wrecked ...  0.000000   \n",
       "4321  engineshed great atmosphere british lion gig t...  0.400000   \n",
       "4322    cramer igers 3 words wrecked disneys stock cnbc  0.000000   \n",
       "\n",
       "      subjectivity sentiment    neg    neu    pos  compound  \n",
       "0         0.500000   neutral  0.000  1.000  0.000    0.0000  \n",
       "1         0.600000  negative  0.608  0.392  0.000   -0.4767  \n",
       "2         0.066667   neutral  0.000  1.000  0.000    0.0000  \n",
       "3         0.327273  negative  0.161  0.839  0.000   -0.3612  \n",
       "4         0.000000   neutral  0.000  1.000  0.000    0.0000  \n",
       "...            ...       ...    ...    ...    ...       ...  \n",
       "4318      0.000000   neutral  0.000  1.000  0.000    0.0000  \n",
       "4319      0.533333  positive  0.000  0.570  0.430    0.7783  \n",
       "4320      0.000000   neutral  0.000  1.000  0.000    0.0000  \n",
       "4321      0.375000  positive  0.000  0.661  0.339    0.6249  \n",
       "4322      0.000000   neutral  0.000  1.000  0.000    0.0000  \n",
       "\n",
       "[4024 rows x 8 columns]"
      ]
     },
     "execution_count": 99,
     "metadata": {},
     "output_type": "execute_result"
    }
   ],
   "source": [
    "#Calculating Negative, Positive, Neutral and Compound values\n",
    "\n",
    "tweet_list[['polarity', 'subjectivity']] = tweet_list[0].apply(lambda Text: pd.Series(TextBlob(Text).sentiment))\n",
    "\n",
    "for index, row in tweet_list[0].iteritems():\n",
    "    \n",
    "    score = SentimentIntensityAnalyzer().polarity_scores(row)\n",
    "    \n",
    "    neg = score['neg']\n",
    "    neu = score['neu']\n",
    "    pos = score['pos']\n",
    "    comp = score['compound']\n",
    "    \n",
    "    if neg > pos:\n",
    "        tweet_list.loc[index, 'sentiment'] = 'negative'\n",
    "    elif pos > neg:\n",
    "        tweet_list.loc[index, 'sentiment'] = 'positive'\n",
    "    else:\n",
    "        tweet_list.loc[index, 'sentiment'] = 'neutral'\n",
    "    \n",
    "    tweet_list.loc[index, 'neg'] = neg\n",
    "    tweet_list.loc[index, 'neu'] = neu\n",
    "    tweet_list.loc[index, 'pos'] = pos\n",
    "    tweet_list.loc[index, 'compound'] = comp\n",
    "\n",
    "tweet_list"
   ]
  },
  {
   "cell_type": "markdown",
   "id": "f1cd9c19",
   "metadata": {},
   "source": [
    "Separamos 3 grupos según el sentimiento."
   ]
  },
  {
   "cell_type": "code",
   "execution_count": 100,
   "id": "60ed14f4",
   "metadata": {},
   "outputs": [],
   "source": [
    "#Creating new data frames for all sentiments (positive, negative and neutral)\n",
    "tw_list_negative = tweet_list[tweet_list['sentiment']=='negative']\n",
    "tw_list_positive = tweet_list[tweet_list['sentiment']=='positive']\n",
    "tw_list_neutral = tweet_list[tweet_list['sentiment']=='neutral']"
   ]
  },
  {
   "cell_type": "markdown",
   "id": "6f527877",
   "metadata": {},
   "source": [
    "Vamos a contar los valores y ver el porcentaje total."
   ]
  },
  {
   "cell_type": "code",
   "execution_count": 101,
   "id": "3e770355",
   "metadata": {},
   "outputs": [
    {
     "data": {
      "text/html": [
       "<div>\n",
       "<style scoped>\n",
       "    .dataframe tbody tr th:only-of-type {\n",
       "        vertical-align: middle;\n",
       "    }\n",
       "\n",
       "    .dataframe tbody tr th {\n",
       "        vertical-align: top;\n",
       "    }\n",
       "\n",
       "    .dataframe thead th {\n",
       "        text-align: right;\n",
       "    }\n",
       "</style>\n",
       "<table border=\"1\" class=\"dataframe\">\n",
       "  <thead>\n",
       "    <tr style=\"text-align: right;\">\n",
       "      <th></th>\n",
       "      <th>Total</th>\n",
       "      <th>Percentage</th>\n",
       "    </tr>\n",
       "  </thead>\n",
       "  <tbody>\n",
       "    <tr>\n",
       "      <th>negative</th>\n",
       "      <td>1698</td>\n",
       "      <td>42.20</td>\n",
       "    </tr>\n",
       "    <tr>\n",
       "      <th>positive</th>\n",
       "      <td>1330</td>\n",
       "      <td>33.05</td>\n",
       "    </tr>\n",
       "    <tr>\n",
       "      <th>neutral</th>\n",
       "      <td>996</td>\n",
       "      <td>24.75</td>\n",
       "    </tr>\n",
       "  </tbody>\n",
       "</table>\n",
       "</div>"
      ],
      "text/plain": [
       "          Total  Percentage\n",
       "negative   1698       42.20\n",
       "positive   1330       33.05\n",
       "neutral     996       24.75"
      ]
     },
     "execution_count": 101,
     "metadata": {},
     "output_type": "execute_result"
    }
   ],
   "source": [
    "def count_values_in_column(data,feature):\n",
    "\n",
    "    total=data.loc[:,feature].value_counts(dropna=False)\n",
    "    percentage=round(data.loc[:,feature].value_counts(dropna=False,normalize=True)*100,2)\n",
    "    \n",
    "    return pd.concat([total,percentage],axis=1,keys=['Total', 'Percentage'])#Count_values for sentiment\n",
    "\n",
    "count_values_in_column(tweet_list,'sentiment')"
   ]
  },
  {
   "cell_type": "markdown",
   "id": "a8627a08",
   "metadata": {},
   "source": [
    "Creamos un gráfico utilizando los datos y la informacion del analisis de sentimientos de los tweets."
   ]
  },
  {
   "cell_type": "code",
   "execution_count": 102,
   "id": "1a01f8fa",
   "metadata": {},
   "outputs": [
    {
     "data": {
      "image/png": "[encoded data removed]",
      "text/plain": [
       "<Figure size 432x288 with 1 Axes>"
      ]
     },
     "metadata": {},
     "output_type": "display_data"
    }
   ],
   "source": [
    "# create data for Pie Chart\n",
    "pc = count_values_in_column(tweet_list,'sentiment')\n",
    "names= pc.index\n",
    "size=pc['Percentage']\n",
    " \n",
    "# Create a circle for the center of the plot\n",
    "my_circle=plt.Circle( (0,0), 0.7, color='white')\n",
    "plt.pie(size, labels=names, colors=['green','blue','red'])\n",
    "p=plt.gcf()\n",
    "p.gca().add_artist(my_circle)\n",
    "plt.show()"
   ]
  },
  {
   "cell_type": "markdown",
   "id": "ee1a72d7",
   "metadata": {},
   "source": [
    "#### siDesastres"
   ]
  },
  {
   "cell_type": "code",
   "execution_count": 103,
   "id": "51a5986b",
   "metadata": {},
   "outputs": [],
   "source": [
    "# Tweet sentiment Counters\n",
    "positive = 0\n",
    "negative = 0\n",
    "neutral = 0\n",
    "\n",
    "polarity = 0\n",
    "\n",
    "# Tweet sentiment Lists\n",
    "tweet_list = []\n",
    "neutral_list = []\n",
    "negative_list = []\n",
    "positive_list = []"
   ]
  },
  {
   "cell_type": "code",
   "execution_count": 104,
   "id": "c1913902",
   "metadata": {},
   "outputs": [],
   "source": [
    "for tweet in siDesastre.text:\n",
    "    \n",
    "    tweet_list.append(tweet)\n",
    "    analysis = TextBlob(tweet)\n",
    "    score = SentimentIntensityAnalyzer().polarity_scores(tweet)\n",
    "    neg = score['neg']\n",
    "    neu = score['neu']\n",
    "    pos = score['pos']\n",
    "    comp = score['compound']\n",
    "    polarity += analysis.sentiment.polarity\n",
    "    \n",
    "    if neg > pos:\n",
    "        negative_list.append(tweet)\n",
    "        negative += 1\n",
    "    elif pos > neg:\n",
    "        positive_list.append(tweet)\n",
    "        positive += 1\n",
    "    elif pos == neg:\n",
    "        neutral_list.append(tweet)\n",
    "        neutral += 1"
   ]
  },
  {
   "cell_type": "code",
   "execution_count": 105,
   "id": "24acda6c",
   "metadata": {},
   "outputs": [],
   "source": [
    "def percentage(part,whole):\n",
    "    return 100 * float(part)/float(whole)\n",
    "\n",
    "noOfTweet = len(siDesastre.text)\n",
    "\n",
    "positive = percentage(positive, noOfTweet)\n",
    "negative = percentage(negative, noOfTweet)\n",
    "neutral = percentage(neutral, noOfTweet)\n",
    "polarity = percentage(polarity, noOfTweet)\n",
    "\n",
    "positive = format(positive, '.1f')\n",
    "negative = format(negative, '.1f')\n",
    "neutral = format(neutral, '.1f')"
   ]
  },
  {
   "cell_type": "markdown",
   "id": "9cef06a1",
   "metadata": {},
   "source": [
    "Miremos la cantidad de tweets y sus sentimientos"
   ]
  },
  {
   "cell_type": "code",
   "execution_count": 106,
   "id": "978efcf7",
   "metadata": {},
   "outputs": [
    {
     "name": "stdout",
     "output_type": "stream",
     "text": [
      "total number:  3229\n",
      "positive number:  538\n",
      "negative number:  1807\n",
      "neutral number:  884\n"
     ]
    }
   ],
   "source": [
    "#Number of Tweets (Total, Positive, Negative, Neutral)tweet_list = pd.DataFrame(tweet_list)\n",
    "\n",
    "tweet_list = pd.DataFrame(tweet_list)\n",
    "\n",
    "neutral_list = pd.DataFrame(neutral_list)\n",
    "negative_list = pd.DataFrame(negative_list)\n",
    "positive_list = pd.DataFrame(positive_list)\n",
    "\n",
    "print('total number: ', len(tweet_list))\n",
    "print('positive number: ',len(positive_list))\n",
    "print('negative number: ', len(negative_list))\n",
    "print('neutral number: ',len(neutral_list))"
   ]
  },
  {
   "cell_type": "markdown",
   "id": "8ebeb6ba",
   "metadata": {},
   "source": [
    "Es probable que algunos tweets esten duplicados, por lo que se deben eliminar los duplicados utilizando la función drop_duplicates."
   ]
  },
  {
   "cell_type": "code",
   "execution_count": 107,
   "id": "e1027396",
   "metadata": {},
   "outputs": [],
   "source": [
    "tweet_list.drop_duplicates(inplace = True)"
   ]
  },
  {
   "cell_type": "code",
   "execution_count": 108,
   "id": "99acb2c1",
   "metadata": {},
   "outputs": [
    {
     "data": {
      "text/html": [
       "<div>\n",
       "<style scoped>\n",
       "    .dataframe tbody tr th:only-of-type {\n",
       "        vertical-align: middle;\n",
       "    }\n",
       "\n",
       "    .dataframe tbody tr th {\n",
       "        vertical-align: top;\n",
       "    }\n",
       "\n",
       "    .dataframe thead th {\n",
       "        text-align: right;\n",
       "    }\n",
       "</style>\n",
       "<table border=\"1\" class=\"dataframe\">\n",
       "  <thead>\n",
       "    <tr style=\"text-align: right;\">\n",
       "      <th></th>\n",
       "      <th>0</th>\n",
       "    </tr>\n",
       "  </thead>\n",
       "  <tbody>\n",
       "    <tr>\n",
       "      <th>0</th>\n",
       "      <td>bbcmtd wholesale markets ablaze</td>\n",
       "    </tr>\n",
       "    <tr>\n",
       "      <th>1</th>\n",
       "      <td>africanbaze breaking newsnigeria flag set abla...</td>\n",
       "    </tr>\n",
       "    <tr>\n",
       "      <th>2</th>\n",
       "      <td>inec office abia set ablaze</td>\n",
       "    </tr>\n",
       "    <tr>\n",
       "      <th>3</th>\n",
       "      <td>barbados bridgetown jamaica ûò two cars set a...</td>\n",
       "    </tr>\n",
       "    <tr>\n",
       "      <th>4</th>\n",
       "      <td>west burned thousands wildfires ablaze califor...</td>\n",
       "    </tr>\n",
       "    <tr>\n",
       "      <th>...</th>\n",
       "      <td>...</td>\n",
       "    </tr>\n",
       "    <tr>\n",
       "      <th>3213</th>\n",
       "      <td>check malaysia confirms plane wreckage flight ...</td>\n",
       "    </tr>\n",
       "    <tr>\n",
       "      <th>3224</th>\n",
       "      <td>wreckage conclusively confirmed missing flight...</td>\n",
       "    </tr>\n",
       "    <tr>\n",
       "      <th>3226</th>\n",
       "      <td>israel wrecked home wants land</td>\n",
       "    </tr>\n",
       "    <tr>\n",
       "      <th>3227</th>\n",
       "      <td>300k exotic car wrecked train accident</td>\n",
       "    </tr>\n",
       "    <tr>\n",
       "      <th>3228</th>\n",
       "      <td>kirafrog mountwario get wrecked</td>\n",
       "    </tr>\n",
       "  </tbody>\n",
       "</table>\n",
       "<p>2762 rows × 1 columns</p>\n",
       "</div>"
      ],
      "text/plain": [
       "                                                      0\n",
       "0                       bbcmtd wholesale markets ablaze\n",
       "1     africanbaze breaking newsnigeria flag set abla...\n",
       "2                           inec office abia set ablaze\n",
       "3     barbados bridgetown jamaica ûò two cars set a...\n",
       "4     west burned thousands wildfires ablaze califor...\n",
       "...                                                 ...\n",
       "3213  check malaysia confirms plane wreckage flight ...\n",
       "3224  wreckage conclusively confirmed missing flight...\n",
       "3226                     israel wrecked home wants land\n",
       "3227             300k exotic car wrecked train accident\n",
       "3228                    kirafrog mountwario get wrecked\n",
       "\n",
       "[2762 rows x 1 columns]"
      ]
     },
     "execution_count": 108,
     "metadata": {},
     "output_type": "execute_result"
    }
   ],
   "source": [
    "tweet_list"
   ]
  },
  {
   "cell_type": "markdown",
   "id": "07678ffb",
   "metadata": {},
   "source": [
    "Ahora, con los datos limpios se puede calcular los parámetros de polaridad, subjetividad, sentimiento, negativos, positivos, neutros y compuestos. Para todos los parámetros calculados, se crean nuevas columnas en el data frame."
   ]
  },
  {
   "cell_type": "code",
   "execution_count": 109,
   "id": "6f99315d",
   "metadata": {},
   "outputs": [
    {
     "data": {
      "text/html": [
       "<div>\n",
       "<style scoped>\n",
       "    .dataframe tbody tr th:only-of-type {\n",
       "        vertical-align: middle;\n",
       "    }\n",
       "\n",
       "    .dataframe tbody tr th {\n",
       "        vertical-align: top;\n",
       "    }\n",
       "\n",
       "    .dataframe thead th {\n",
       "        text-align: right;\n",
       "    }\n",
       "</style>\n",
       "<table border=\"1\" class=\"dataframe\">\n",
       "  <thead>\n",
       "    <tr style=\"text-align: right;\">\n",
       "      <th></th>\n",
       "      <th>0</th>\n",
       "      <th>polarity</th>\n",
       "      <th>subjectivity</th>\n",
       "      <th>sentiment</th>\n",
       "      <th>neg</th>\n",
       "      <th>neu</th>\n",
       "      <th>pos</th>\n",
       "      <th>compound</th>\n",
       "    </tr>\n",
       "  </thead>\n",
       "  <tbody>\n",
       "    <tr>\n",
       "      <th>0</th>\n",
       "      <td>bbcmtd wholesale markets ablaze</td>\n",
       "      <td>0.0</td>\n",
       "      <td>0.000</td>\n",
       "      <td>neutral</td>\n",
       "      <td>0.000</td>\n",
       "      <td>1.000</td>\n",
       "      <td>0.0</td>\n",
       "      <td>0.0000</td>\n",
       "    </tr>\n",
       "    <tr>\n",
       "      <th>1</th>\n",
       "      <td>africanbaze breaking newsnigeria flag set abla...</td>\n",
       "      <td>0.0</td>\n",
       "      <td>0.000</td>\n",
       "      <td>neutral</td>\n",
       "      <td>0.000</td>\n",
       "      <td>1.000</td>\n",
       "      <td>0.0</td>\n",
       "      <td>0.0000</td>\n",
       "    </tr>\n",
       "    <tr>\n",
       "      <th>2</th>\n",
       "      <td>inec office abia set ablaze</td>\n",
       "      <td>0.0</td>\n",
       "      <td>0.000</td>\n",
       "      <td>neutral</td>\n",
       "      <td>0.000</td>\n",
       "      <td>1.000</td>\n",
       "      <td>0.0</td>\n",
       "      <td>0.0000</td>\n",
       "    </tr>\n",
       "    <tr>\n",
       "      <th>3</th>\n",
       "      <td>barbados bridgetown jamaica ûò two cars set a...</td>\n",
       "      <td>0.0</td>\n",
       "      <td>0.000</td>\n",
       "      <td>neutral</td>\n",
       "      <td>0.000</td>\n",
       "      <td>1.000</td>\n",
       "      <td>0.0</td>\n",
       "      <td>0.0000</td>\n",
       "    </tr>\n",
       "    <tr>\n",
       "      <th>4</th>\n",
       "      <td>west burned thousands wildfires ablaze califor...</td>\n",
       "      <td>0.0</td>\n",
       "      <td>0.000</td>\n",
       "      <td>negative</td>\n",
       "      <td>0.250</td>\n",
       "      <td>0.750</td>\n",
       "      <td>0.0</td>\n",
       "      <td>-0.2500</td>\n",
       "    </tr>\n",
       "    <tr>\n",
       "      <th>...</th>\n",
       "      <td>...</td>\n",
       "      <td>...</td>\n",
       "      <td>...</td>\n",
       "      <td>...</td>\n",
       "      <td>...</td>\n",
       "      <td>...</td>\n",
       "      <td>...</td>\n",
       "      <td>...</td>\n",
       "    </tr>\n",
       "    <tr>\n",
       "      <th>3213</th>\n",
       "      <td>check malaysia confirms plane wreckage flight ...</td>\n",
       "      <td>0.0</td>\n",
       "      <td>0.000</td>\n",
       "      <td>neutral</td>\n",
       "      <td>0.000</td>\n",
       "      <td>1.000</td>\n",
       "      <td>0.0</td>\n",
       "      <td>0.0000</td>\n",
       "    </tr>\n",
       "    <tr>\n",
       "      <th>3224</th>\n",
       "      <td>wreckage conclusively confirmed missing flight...</td>\n",
       "      <td>0.1</td>\n",
       "      <td>0.525</td>\n",
       "      <td>negative</td>\n",
       "      <td>0.239</td>\n",
       "      <td>0.761</td>\n",
       "      <td>0.0</td>\n",
       "      <td>-0.2960</td>\n",
       "    </tr>\n",
       "    <tr>\n",
       "      <th>3226</th>\n",
       "      <td>israel wrecked home wants land</td>\n",
       "      <td>0.2</td>\n",
       "      <td>0.100</td>\n",
       "      <td>neutral</td>\n",
       "      <td>0.000</td>\n",
       "      <td>1.000</td>\n",
       "      <td>0.0</td>\n",
       "      <td>0.0000</td>\n",
       "    </tr>\n",
       "    <tr>\n",
       "      <th>3227</th>\n",
       "      <td>300k exotic car wrecked train accident</td>\n",
       "      <td>0.5</td>\n",
       "      <td>1.000</td>\n",
       "      <td>negative</td>\n",
       "      <td>0.383</td>\n",
       "      <td>0.617</td>\n",
       "      <td>0.0</td>\n",
       "      <td>-0.4767</td>\n",
       "    </tr>\n",
       "    <tr>\n",
       "      <th>3228</th>\n",
       "      <td>kirafrog mountwario get wrecked</td>\n",
       "      <td>0.0</td>\n",
       "      <td>0.000</td>\n",
       "      <td>neutral</td>\n",
       "      <td>0.000</td>\n",
       "      <td>1.000</td>\n",
       "      <td>0.0</td>\n",
       "      <td>0.0000</td>\n",
       "    </tr>\n",
       "  </tbody>\n",
       "</table>\n",
       "<p>2762 rows × 8 columns</p>\n",
       "</div>"
      ],
      "text/plain": [
       "                                                      0  polarity  \\\n",
       "0                       bbcmtd wholesale markets ablaze       0.0   \n",
       "1     africanbaze breaking newsnigeria flag set abla...       0.0   \n",
       "2                           inec office abia set ablaze       0.0   \n",
       "3     barbados bridgetown jamaica ûò two cars set a...       0.0   \n",
       "4     west burned thousands wildfires ablaze califor...       0.0   \n",
       "...                                                 ...       ...   \n",
       "3213  check malaysia confirms plane wreckage flight ...       0.0   \n",
       "3224  wreckage conclusively confirmed missing flight...       0.1   \n",
       "3226                     israel wrecked home wants land       0.2   \n",
       "3227             300k exotic car wrecked train accident       0.5   \n",
       "3228                    kirafrog mountwario get wrecked       0.0   \n",
       "\n",
       "      subjectivity sentiment    neg    neu  pos  compound  \n",
       "0            0.000   neutral  0.000  1.000  0.0    0.0000  \n",
       "1            0.000   neutral  0.000  1.000  0.0    0.0000  \n",
       "2            0.000   neutral  0.000  1.000  0.0    0.0000  \n",
       "3            0.000   neutral  0.000  1.000  0.0    0.0000  \n",
       "4            0.000  negative  0.250  0.750  0.0   -0.2500  \n",
       "...            ...       ...    ...    ...  ...       ...  \n",
       "3213         0.000   neutral  0.000  1.000  0.0    0.0000  \n",
       "3224         0.525  negative  0.239  0.761  0.0   -0.2960  \n",
       "3226         0.100   neutral  0.000  1.000  0.0    0.0000  \n",
       "3227         1.000  negative  0.383  0.617  0.0   -0.4767  \n",
       "3228         0.000   neutral  0.000  1.000  0.0    0.0000  \n",
       "\n",
       "[2762 rows x 8 columns]"
      ]
     },
     "execution_count": 109,
     "metadata": {},
     "output_type": "execute_result"
    }
   ],
   "source": [
    "#Calculating Negative, Positive, Neutral and Compound values\n",
    "\n",
    "tweet_list[['polarity', 'subjectivity']] = tweet_list[0].apply(lambda Text: pd.Series(TextBlob(Text).sentiment))\n",
    "\n",
    "for index, row in tweet_list[0].iteritems():\n",
    "    \n",
    "    score = SentimentIntensityAnalyzer().polarity_scores(row)\n",
    "    \n",
    "    neg = score['neg']\n",
    "    neu = score['neu']\n",
    "    pos = score['pos']\n",
    "    comp = score['compound']\n",
    "    \n",
    "    if neg > pos:\n",
    "        tweet_list.loc[index, 'sentiment'] = 'negative'\n",
    "    elif pos > neg:\n",
    "        tweet_list.loc[index, 'sentiment'] = 'positive'\n",
    "    else:\n",
    "        tweet_list.loc[index, 'sentiment'] = 'neutral'\n",
    "    \n",
    "    tweet_list.loc[index, 'neg'] = neg\n",
    "    tweet_list.loc[index, 'neu'] = neu\n",
    "    tweet_list.loc[index, 'pos'] = pos\n",
    "    tweet_list.loc[index, 'compound'] = comp\n",
    "\n",
    "tweet_list"
   ]
  },
  {
   "cell_type": "markdown",
   "id": "e15d344a",
   "metadata": {},
   "source": [
    "Separamos 3 grupos según el sentimiento."
   ]
  },
  {
   "cell_type": "code",
   "execution_count": 110,
   "id": "31045853",
   "metadata": {},
   "outputs": [],
   "source": [
    "#Creating new data frames for all sentiments (positive, negative and neutral)\n",
    "tw_list_negative = tweet_list[tweet_list['sentiment']=='negative']\n",
    "tw_list_positive = tweet_list[tweet_list['sentiment']=='positive']\n",
    "tw_list_neutral = tweet_list[tweet_list['sentiment']=='neutral']"
   ]
  },
  {
   "cell_type": "markdown",
   "id": "c9c94ad8",
   "metadata": {},
   "source": [
    "Vamos a contar los valores y ver el porcentaje total."
   ]
  },
  {
   "cell_type": "code",
   "execution_count": 111,
   "id": "6c9ac01e",
   "metadata": {},
   "outputs": [
    {
     "data": {
      "text/html": [
       "<div>\n",
       "<style scoped>\n",
       "    .dataframe tbody tr th:only-of-type {\n",
       "        vertical-align: middle;\n",
       "    }\n",
       "\n",
       "    .dataframe tbody tr th {\n",
       "        vertical-align: top;\n",
       "    }\n",
       "\n",
       "    .dataframe thead th {\n",
       "        text-align: right;\n",
       "    }\n",
       "</style>\n",
       "<table border=\"1\" class=\"dataframe\">\n",
       "  <thead>\n",
       "    <tr style=\"text-align: right;\">\n",
       "      <th></th>\n",
       "      <th>Total</th>\n",
       "      <th>Percentage</th>\n",
       "    </tr>\n",
       "  </thead>\n",
       "  <tbody>\n",
       "    <tr>\n",
       "      <th>negative</th>\n",
       "      <td>1568</td>\n",
       "      <td>56.77</td>\n",
       "    </tr>\n",
       "    <tr>\n",
       "      <th>neutral</th>\n",
       "      <td>699</td>\n",
       "      <td>25.31</td>\n",
       "    </tr>\n",
       "    <tr>\n",
       "      <th>positive</th>\n",
       "      <td>495</td>\n",
       "      <td>17.92</td>\n",
       "    </tr>\n",
       "  </tbody>\n",
       "</table>\n",
       "</div>"
      ],
      "text/plain": [
       "          Total  Percentage\n",
       "negative   1568       56.77\n",
       "neutral     699       25.31\n",
       "positive    495       17.92"
      ]
     },
     "execution_count": 111,
     "metadata": {},
     "output_type": "execute_result"
    }
   ],
   "source": [
    "def count_values_in_column(data,feature):\n",
    "\n",
    "    total=data.loc[:,feature].value_counts(dropna=False)\n",
    "    percentage=round(data.loc[:,feature].value_counts(dropna=False,normalize=True)*100,2)\n",
    "    \n",
    "    return pd.concat([total,percentage],axis=1,keys=['Total', 'Percentage'])#Count_values for sentiment\n",
    "\n",
    "count_values_in_column(tweet_list,'sentiment')"
   ]
  },
  {
   "cell_type": "markdown",
   "id": "87bb98b3",
   "metadata": {},
   "source": [
    "Creamos un gráfico utilizando los datos y la informacion del analisis de sentimientos de los tweets."
   ]
  },
  {
   "cell_type": "code",
   "execution_count": 112,
   "id": "81e7db68",
   "metadata": {},
   "outputs": [
    {
     "data": {
      "image/png": "[encoded data removed]",
      "text/plain": [
       "<Figure size 432x288 with 1 Axes>"
      ]
     },
     "metadata": {},
     "output_type": "display_data"
    }
   ],
   "source": [
    "# create data for Pie Chart\n",
    "pc = count_values_in_column(tweet_list,'sentiment')\n",
    "names= pc.index\n",
    "size=pc['Percentage']\n",
    " \n",
    "# Create a circle for the center of the plot\n",
    "my_circle=plt.Circle( (0,0), 0.7, color='white')\n",
    "plt.pie(size, labels=names, colors=['green','blue','red'])\n",
    "p=plt.gcf()\n",
    "p.gca().add_artist(my_circle)\n",
    "plt.show()"
   ]
  },
  {
   "cell_type": "markdown",
   "id": "8b3aac18",
   "metadata": {},
   "source": [
    "## Conclusiones\n",
    "Nosotros esperabamos una diferencia más grande en los keywords y poder establecer una relación a partir de eso. Sin embargo, no fue así, siguen habiendo tweets con keywords como \"chemical reaction\" que aparecen en tweets que no son de desastres naturales. \n",
    "\n",
    "Una diferencia que puede ayudarnos para establecer una relación entre si es un desastre natural o no. Como pudo observarse en el sentiment analysis el numero de tweets negativos tanto en los de si desastre o no desastre es muy similar. \n",
    "\n",
    "Para poder tener mejores resultados se recomienda hacer un analisis del tipo de cuenta que esta poniendo el tweet y el tipo de comentarios que se tienen. Este analisis incluira en el resultado si es un tweet escrito por alguien que suele compartir tweets de desastres naturales y si los comentarios se relacionan a una tragedia."
   ]
  },
  {
   "cell_type": "markdown",
   "id": "e0811553",
   "metadata": {},
   "source": [
    "# Modeling\n",
    "Nuestro primer approach al problema era el de usar un analisis de sentimientos para poder clasificar los tweets basandonos en la polaridad del tweet a entrar. Sin embargo, del apartado anterior nos dimos cuenta que en términos de polaridad, los que son de tweets reales y los que no tienen un porcentaje similar de positivos, negativos y neutrales. Por lo que decidimos buscar otros modelos para poder clasificar nuestros tweets. \n",
    "\n",
    "## Vectorizer +Multinomial NB\n",
    "El primer modelo a probar es el modelo de vectorizer con una mezcla de naive bayes para conocer si este logra clasificar bien los datos. Importamos los datos. Primero importamos los datos y las librerias pertinentes para realizar esto. "
   ]
  },
  {
   "cell_type": "code",
   "execution_count": 113,
   "id": "8d3c25d3",
   "metadata": {},
   "outputs": [
    {
     "name": "stdout",
     "output_type": "stream",
     "text": [
      "<class 'pandas.core.frame.DataFrame'>\n",
      "RangeIndex: 7613 entries, 0 to 7612\n",
      "Data columns (total 5 columns):\n",
      " #   Column    Non-Null Count  Dtype \n",
      "---  ------    --------------  ----- \n",
      " 0   id        7613 non-null   int64 \n",
      " 1   keyword   7552 non-null   object\n",
      " 2   location  5080 non-null   object\n",
      " 3   text      7613 non-null   object\n",
      " 4   target    7613 non-null   int64 \n",
      "dtypes: int64(2), object(3)\n",
      "memory usage: 297.5+ KB\n"
     ]
    }
   ],
   "source": [
    "import numpy as np\n",
    "import pandas as pd\n",
    "import matplotlib.pyplot as plt\n",
    "import seaborn as sns\n",
    "train_df = pd.read_csv('train (1).csv')\n",
    "train_df.info()\n"
   ]
  },
  {
   "cell_type": "markdown",
   "id": "bc7f4dee",
   "metadata": {},
   "source": [
    "Hacemos los cmabios necesarios para poder realizar lo que se necesita para vecotrizar el texto. Primero tenemos que hacer una limpieza acerca de la eliminacion de los Na's presentes en el dataset, luego poder encontrar la manera de reunir todo el texto disponible del tweet bajo una sola columna para pdoer vectorizar los más posible. "
   ]
  },
  {
   "cell_type": "code",
   "execution_count": 114,
   "id": "9d10885e",
   "metadata": {},
   "outputs": [],
   "source": [
    "train_df['text length'] = train_df['text'].apply(len)\n",
    "train_df['location'].isnull().sum()\n",
    "train_df['keyword'].isnull().sum()\n",
    "train_df['keyword'].unique()\n",
    "train_df['keyword'] = train_df['keyword'].str.replace('%20', ' ')\n",
    "train_df['keyword'].nunique()\n",
    "train_df['keyword'] = train_df['keyword'].fillna(train_df['keyword'].mode()[0])\n",
    "train_df['location'] = train_df['location'].fillna(train_df['location'].mode()[0])\n",
    "train_df['new text'] = train_df['text'] +' '+ train_df['location'] +' '+ train_df['keyword']\n",
    "train_df['new text'] = train_df['new text'].str.replace('#', ' ')\n",
    "train_df.head()\n",
    "train_df.to_csv('train.csv')"
   ]
  },
  {
   "cell_type": "markdown",
   "id": "d629464a",
   "metadata": {},
   "source": [
    "Creamos los datasets de train y test para la clasificacion de los tweets apartir del train, esto apr apoder ver un accuracy de nuestro algoritmo y poder ver si lo hizo correctamente. Tenemos que el train consistira del 70% de los datos totales, mientras que el test es del 30%."
   ]
  },
  {
   "cell_type": "code",
   "execution_count": 115,
   "id": "9533263f",
   "metadata": {},
   "outputs": [],
   "source": [
    "from sklearn.model_selection import train_test_split\n",
    "\n",
    "X = train_df\n",
    "train, test = train_test_split(X, test_size=0.3,train_size=0.7)\n",
    "train.to_csv('train.csv')\n",
    "test.to_csv('test.csv')"
   ]
  },
  {
   "cell_type": "code",
   "execution_count": 116,
   "id": "57e6cdff",
   "metadata": {},
   "outputs": [
    {
     "data": {
      "text/html": [
       "<div>\n",
       "<style scoped>\n",
       "    .dataframe tbody tr th:only-of-type {\n",
       "        vertical-align: middle;\n",
       "    }\n",
       "\n",
       "    .dataframe tbody tr th {\n",
       "        vertical-align: top;\n",
       "    }\n",
       "\n",
       "    .dataframe thead th {\n",
       "        text-align: right;\n",
       "    }\n",
       "</style>\n",
       "<table border=\"1\" class=\"dataframe\">\n",
       "  <thead>\n",
       "    <tr style=\"text-align: right;\">\n",
       "      <th></th>\n",
       "      <th>id</th>\n",
       "      <th>keyword</th>\n",
       "      <th>location</th>\n",
       "      <th>text</th>\n",
       "      <th>target</th>\n",
       "      <th>text length</th>\n",
       "      <th>new text</th>\n",
       "    </tr>\n",
       "  </thead>\n",
       "  <tbody>\n",
       "    <tr>\n",
       "      <th>5720</th>\n",
       "      <td>8163</td>\n",
       "      <td>rescuers</td>\n",
       "      <td>USA</td>\n",
       "      <td>VIDEO: 'We're picking up bodies from water': R...</td>\n",
       "      <td>1</td>\n",
       "      <td>136</td>\n",
       "      <td>VIDEO: 'We're picking up bodies from water': R...</td>\n",
       "    </tr>\n",
       "    <tr>\n",
       "      <th>6367</th>\n",
       "      <td>9099</td>\n",
       "      <td>suicide bomb</td>\n",
       "      <td>USA</td>\n",
       "      <td>@AlfaPedia It might have come out ONLY too bur...</td>\n",
       "      <td>1</td>\n",
       "      <td>84</td>\n",
       "      <td>@AlfaPedia It might have come out ONLY too bur...</td>\n",
       "    </tr>\n",
       "    <tr>\n",
       "      <th>1685</th>\n",
       "      <td>2430</td>\n",
       "      <td>collide</td>\n",
       "      <td>New York, USA</td>\n",
       "      <td>Check out my new song 'Collide' live at the Bo...</td>\n",
       "      <td>0</td>\n",
       "      <td>83</td>\n",
       "      <td>Check out my new song 'Collide' live at the Bo...</td>\n",
       "    </tr>\n",
       "    <tr>\n",
       "      <th>3263</th>\n",
       "      <td>4688</td>\n",
       "      <td>engulfed</td>\n",
       "      <td>USA</td>\n",
       "      <td>@ZachZaidman @670TheScore wld b a shame if tha...</td>\n",
       "      <td>0</td>\n",
       "      <td>98</td>\n",
       "      <td>@ZachZaidman @670TheScore wld b a shame if tha...</td>\n",
       "    </tr>\n",
       "    <tr>\n",
       "      <th>5540</th>\n",
       "      <td>7905</td>\n",
       "      <td>radiation emergency</td>\n",
       "      <td>Warszawa</td>\n",
       "      <td>Radioactive Box Quarantined - IsraelÛªs Ashdo...</td>\n",
       "      <td>1</td>\n",
       "      <td>142</td>\n",
       "      <td>Radioactive Box Quarantined - IsraelÛªs Ashdo...</td>\n",
       "    </tr>\n",
       "  </tbody>\n",
       "</table>\n",
       "</div>"
      ],
      "text/plain": [
       "        id              keyword       location  \\\n",
       "5720  8163             rescuers            USA   \n",
       "6367  9099         suicide bomb            USA   \n",
       "1685  2430              collide  New York, USA   \n",
       "3263  4688             engulfed            USA   \n",
       "5540  7905  radiation emergency       Warszawa   \n",
       "\n",
       "                                                   text  target  text length  \\\n",
       "5720  VIDEO: 'We're picking up bodies from water': R...       1          136   \n",
       "6367  @AlfaPedia It might have come out ONLY too bur...       1           84   \n",
       "1685  Check out my new song 'Collide' live at the Bo...       0           83   \n",
       "3263  @ZachZaidman @670TheScore wld b a shame if tha...       0           98   \n",
       "5540  Radioactive Box Quarantined - IsraelÛªs Ashdo...       1          142   \n",
       "\n",
       "                                               new text  \n",
       "5720  VIDEO: 'We're picking up bodies from water': R...  \n",
       "6367  @AlfaPedia It might have come out ONLY too bur...  \n",
       "1685  Check out my new song 'Collide' live at the Bo...  \n",
       "3263  @ZachZaidman @670TheScore wld b a shame if tha...  \n",
       "5540  Radioactive Box Quarantined - IsraelÛªs Ashdo...  "
      ]
     },
     "execution_count": 116,
     "metadata": {},
     "output_type": "execute_result"
    }
   ],
   "source": [
    "train.head()"
   ]
  },
  {
   "cell_type": "code",
   "execution_count": 117,
   "id": "c98496f4",
   "metadata": {},
   "outputs": [
    {
     "data": {
      "text/html": [
       "<div>\n",
       "<style scoped>\n",
       "    .dataframe tbody tr th:only-of-type {\n",
       "        vertical-align: middle;\n",
       "    }\n",
       "\n",
       "    .dataframe tbody tr th {\n",
       "        vertical-align: top;\n",
       "    }\n",
       "\n",
       "    .dataframe thead th {\n",
       "        text-align: right;\n",
       "    }\n",
       "</style>\n",
       "<table border=\"1\" class=\"dataframe\">\n",
       "  <thead>\n",
       "    <tr style=\"text-align: right;\">\n",
       "      <th></th>\n",
       "      <th>id</th>\n",
       "      <th>keyword</th>\n",
       "      <th>location</th>\n",
       "      <th>text</th>\n",
       "      <th>target</th>\n",
       "      <th>text length</th>\n",
       "      <th>new text</th>\n",
       "    </tr>\n",
       "  </thead>\n",
       "  <tbody>\n",
       "    <tr>\n",
       "      <th>709</th>\n",
       "      <td>1023</td>\n",
       "      <td>blazing</td>\n",
       "      <td>Essex/Brighton</td>\n",
       "      <td>@FunkyLilShack @mariaf30 I want a full on bitc...</td>\n",
       "      <td>0</td>\n",
       "      <td>139</td>\n",
       "      <td>@FunkyLilShack @mariaf30 I want a full on bitc...</td>\n",
       "    </tr>\n",
       "    <tr>\n",
       "      <th>3280</th>\n",
       "      <td>4706</td>\n",
       "      <td>epicentre</td>\n",
       "      <td>Africa</td>\n",
       "      <td>RT @calestous: Tanzania elephant population de...</td>\n",
       "      <td>1</td>\n",
       "      <td>134</td>\n",
       "      <td>RT @calestous: Tanzania elephant population de...</td>\n",
       "    </tr>\n",
       "    <tr>\n",
       "      <th>6637</th>\n",
       "      <td>9504</td>\n",
       "      <td>terrorist</td>\n",
       "      <td>USA</td>\n",
       "      <td>Me pulling over and fighting the hoes that cal...</td>\n",
       "      <td>1</td>\n",
       "      <td>90</td>\n",
       "      <td>Me pulling over and fighting the hoes that cal...</td>\n",
       "    </tr>\n",
       "    <tr>\n",
       "      <th>1094</th>\n",
       "      <td>1580</td>\n",
       "      <td>bombed</td>\n",
       "      <td>USA</td>\n",
       "      <td>@Stankyboy88 I should've photo bombed</td>\n",
       "      <td>0</td>\n",
       "      <td>37</td>\n",
       "      <td>@Stankyboy88 I should've photo bombed USA bombed</td>\n",
       "    </tr>\n",
       "    <tr>\n",
       "      <th>1764</th>\n",
       "      <td>2537</td>\n",
       "      <td>collision</td>\n",
       "      <td>Peterborough, Ontario, Canada</td>\n",
       "      <td>Two-vehicle collision at Fowlers Corners at Hw...</td>\n",
       "      <td>1</td>\n",
       "      <td>134</td>\n",
       "      <td>Two-vehicle collision at Fowlers Corners at Hw...</td>\n",
       "    </tr>\n",
       "  </tbody>\n",
       "</table>\n",
       "</div>"
      ],
      "text/plain": [
       "        id    keyword                       location  \\\n",
       "709   1023    blazing                 Essex/Brighton   \n",
       "3280  4706  epicentre                         Africa   \n",
       "6637  9504  terrorist                            USA   \n",
       "1094  1580     bombed                            USA   \n",
       "1764  2537  collision  Peterborough, Ontario, Canada   \n",
       "\n",
       "                                                   text  target  text length  \\\n",
       "709   @FunkyLilShack @mariaf30 I want a full on bitc...       0          139   \n",
       "3280  RT @calestous: Tanzania elephant population de...       1          134   \n",
       "6637  Me pulling over and fighting the hoes that cal...       1           90   \n",
       "1094              @Stankyboy88 I should've photo bombed       0           37   \n",
       "1764  Two-vehicle collision at Fowlers Corners at Hw...       1          134   \n",
       "\n",
       "                                               new text  \n",
       "709   @FunkyLilShack @mariaf30 I want a full on bitc...  \n",
       "3280  RT @calestous: Tanzania elephant population de...  \n",
       "6637  Me pulling over and fighting the hoes that cal...  \n",
       "1094   @Stankyboy88 I should've photo bombed USA bombed  \n",
       "1764  Two-vehicle collision at Fowlers Corners at Hw...  "
      ]
     },
     "execution_count": 117,
     "metadata": {},
     "output_type": "execute_result"
    }
   ],
   "source": [
    "test.head()"
   ]
  },
  {
   "cell_type": "code",
   "execution_count": 118,
   "id": "b2d83ee2",
   "metadata": {},
   "outputs": [
    {
     "data": {
      "text/plain": [
       "MultinomialNB()"
      ]
     },
     "execution_count": 118,
     "metadata": {},
     "output_type": "execute_result"
    }
   ],
   "source": [
    "from sklearn.feature_extraction.text import CountVectorizer\n",
    "from sklearn.naive_bayes import MultinomialNB\n",
    "from sklearn.pipeline import Pipeline\n",
    "\n",
    "X_train = train['new text']\n",
    "y_train = train['target']\n",
    "X_test = test['new text']\n",
    "\n",
    "vectorizer = CountVectorizer()\n",
    "X_train = vectorizer.fit_transform(X_train)\n",
    "X_test = vectorizer.transform(X_test)\n",
    "\n",
    "nb = MultinomialNB()\n",
    "nb.fit(X_train, y_train)"
   ]
  },
  {
   "cell_type": "code",
   "execution_count": 119,
   "id": "2de045ae",
   "metadata": {},
   "outputs": [
    {
     "data": {
      "text/plain": [
       "Pipeline(steps=[('bow', CountVectorizer()), ('classifier', MultinomialNB())])"
      ]
     },
     "execution_count": 119,
     "metadata": {},
     "output_type": "execute_result"
    }
   ],
   "source": [
    "pipeline = Pipeline([\n",
    "    ('bow', CountVectorizer()),  # strings to token integ\n",
    "    ('classifier', MultinomialNB()),  # train on TF-IDF vectors w/ Naive Bayes classifier\n",
    "])\n",
    "pipeline"
   ]
  },
  {
   "cell_type": "code",
   "execution_count": 120,
   "id": "9272bf0a",
   "metadata": {},
   "outputs": [
    {
     "data": {
      "text/plain": [
       "<5329x18409 sparse matrix of type '<class 'numpy.int64'>'\n",
       "\twith 87109 stored elements in Compressed Sparse Row format>"
      ]
     },
     "execution_count": 120,
     "metadata": {},
     "output_type": "execute_result"
    }
   ],
   "source": [
    "X_train"
   ]
  },
  {
   "cell_type": "code",
   "execution_count": 121,
   "id": "1b87670f",
   "metadata": {},
   "outputs": [
    {
     "data": {
      "text/plain": [
       "Pipeline(steps=[('bow', CountVectorizer()), ('classifier', MultinomialNB())])"
      ]
     },
     "execution_count": 121,
     "metadata": {},
     "output_type": "execute_result"
    }
   ],
   "source": [
    "X_train = train['new text']\n",
    "y_train = train['target']\n",
    "X_test = test['new text']\n",
    "pipeline.fit(X_train, y_train)\n"
   ]
  },
  {
   "cell_type": "code",
   "execution_count": 122,
   "id": "051a26a5",
   "metadata": {},
   "outputs": [
    {
     "data": {
      "text/plain": [
       "array([0, 1, 1, ..., 1, 0, 0], dtype=int64)"
      ]
     },
     "execution_count": 122,
     "metadata": {},
     "output_type": "execute_result"
    }
   ],
   "source": [
    "y_test = pipeline.predict(X_test)\n",
    "y_test"
   ]
  },
  {
   "cell_type": "code",
   "execution_count": 123,
   "id": "1cafc76c",
   "metadata": {},
   "outputs": [
    {
     "data": {
      "text/html": [
       "<div>\n",
       "<style scoped>\n",
       "    .dataframe tbody tr th:only-of-type {\n",
       "        vertical-align: middle;\n",
       "    }\n",
       "\n",
       "    .dataframe tbody tr th {\n",
       "        vertical-align: top;\n",
       "    }\n",
       "\n",
       "    .dataframe thead th {\n",
       "        text-align: right;\n",
       "    }\n",
       "</style>\n",
       "<table border=\"1\" class=\"dataframe\">\n",
       "  <thead>\n",
       "    <tr style=\"text-align: right;\">\n",
       "      <th></th>\n",
       "      <th>id</th>\n",
       "      <th>keyword</th>\n",
       "      <th>location</th>\n",
       "      <th>text</th>\n",
       "      <th>target</th>\n",
       "      <th>text length</th>\n",
       "      <th>new text</th>\n",
       "      <th>pred_targVec</th>\n",
       "    </tr>\n",
       "  </thead>\n",
       "  <tbody>\n",
       "    <tr>\n",
       "      <th>709</th>\n",
       "      <td>1023</td>\n",
       "      <td>blazing</td>\n",
       "      <td>Essex/Brighton</td>\n",
       "      <td>@FunkyLilShack @mariaf30 I want a full on bitc...</td>\n",
       "      <td>0</td>\n",
       "      <td>139</td>\n",
       "      <td>@FunkyLilShack @mariaf30 I want a full on bitc...</td>\n",
       "      <td>0</td>\n",
       "    </tr>\n",
       "    <tr>\n",
       "      <th>3280</th>\n",
       "      <td>4706</td>\n",
       "      <td>epicentre</td>\n",
       "      <td>Africa</td>\n",
       "      <td>RT @calestous: Tanzania elephant population de...</td>\n",
       "      <td>1</td>\n",
       "      <td>134</td>\n",
       "      <td>RT @calestous: Tanzania elephant population de...</td>\n",
       "      <td>1</td>\n",
       "    </tr>\n",
       "    <tr>\n",
       "      <th>6637</th>\n",
       "      <td>9504</td>\n",
       "      <td>terrorist</td>\n",
       "      <td>USA</td>\n",
       "      <td>Me pulling over and fighting the hoes that cal...</td>\n",
       "      <td>1</td>\n",
       "      <td>90</td>\n",
       "      <td>Me pulling over and fighting the hoes that cal...</td>\n",
       "      <td>1</td>\n",
       "    </tr>\n",
       "    <tr>\n",
       "      <th>1094</th>\n",
       "      <td>1580</td>\n",
       "      <td>bombed</td>\n",
       "      <td>USA</td>\n",
       "      <td>@Stankyboy88 I should've photo bombed</td>\n",
       "      <td>0</td>\n",
       "      <td>37</td>\n",
       "      <td>@Stankyboy88 I should've photo bombed USA bombed</td>\n",
       "      <td>0</td>\n",
       "    </tr>\n",
       "    <tr>\n",
       "      <th>1764</th>\n",
       "      <td>2537</td>\n",
       "      <td>collision</td>\n",
       "      <td>Peterborough, Ontario, Canada</td>\n",
       "      <td>Two-vehicle collision at Fowlers Corners at Hw...</td>\n",
       "      <td>1</td>\n",
       "      <td>134</td>\n",
       "      <td>Two-vehicle collision at Fowlers Corners at Hw...</td>\n",
       "      <td>1</td>\n",
       "    </tr>\n",
       "  </tbody>\n",
       "</table>\n",
       "</div>"
      ],
      "text/plain": [
       "        id    keyword                       location  \\\n",
       "709   1023    blazing                 Essex/Brighton   \n",
       "3280  4706  epicentre                         Africa   \n",
       "6637  9504  terrorist                            USA   \n",
       "1094  1580     bombed                            USA   \n",
       "1764  2537  collision  Peterborough, Ontario, Canada   \n",
       "\n",
       "                                                   text  target  text length  \\\n",
       "709   @FunkyLilShack @mariaf30 I want a full on bitc...       0          139   \n",
       "3280  RT @calestous: Tanzania elephant population de...       1          134   \n",
       "6637  Me pulling over and fighting the hoes that cal...       1           90   \n",
       "1094              @Stankyboy88 I should've photo bombed       0           37   \n",
       "1764  Two-vehicle collision at Fowlers Corners at Hw...       1          134   \n",
       "\n",
       "                                               new text  pred_targVec  \n",
       "709   @FunkyLilShack @mariaf30 I want a full on bitc...             0  \n",
       "3280  RT @calestous: Tanzania elephant population de...             1  \n",
       "6637  Me pulling over and fighting the hoes that cal...             1  \n",
       "1094   @Stankyboy88 I should've photo bombed USA bombed             0  \n",
       "1764  Two-vehicle collision at Fowlers Corners at Hw...             1  "
      ]
     },
     "execution_count": 123,
     "metadata": {},
     "output_type": "execute_result"
    }
   ],
   "source": [
    "\n",
    "test['pred_targVec'] = y_test\n",
    "test.head()\n"
   ]
  },
  {
   "cell_type": "code",
   "execution_count": 124,
   "id": "338a4e87",
   "metadata": {},
   "outputs": [
    {
     "name": "stdout",
     "output_type": "stream",
     "text": [
      "coincidencias: 1823\n",
      "accuracy del algoritmo: 79.81611208406305%\n"
     ]
    }
   ],
   "source": [
    "coin = 0\n",
    "total = len(test)\n",
    "for i in range(total):\n",
    "    targ = test.iloc[i,4]\n",
    "    predtarg = test.iloc[i,7]\n",
    "    if (targ == predtarg):\n",
    "        coin += 1\n",
    "print('coincidencias: ' + str(coin))\n",
    "accV = (coin / total)*100\n",
    "print('accuracy del algoritmo: ' + str(accV)+'%')"
   ]
  },
  {
   "cell_type": "code",
   "execution_count": 125,
   "id": "df8d9409",
   "metadata": {},
   "outputs": [
    {
     "data": {
      "text/html": [
       "<div>\n",
       "<style scoped>\n",
       "    .dataframe tbody tr th:only-of-type {\n",
       "        vertical-align: middle;\n",
       "    }\n",
       "\n",
       "    .dataframe tbody tr th {\n",
       "        vertical-align: top;\n",
       "    }\n",
       "\n",
       "    .dataframe thead th {\n",
       "        text-align: right;\n",
       "    }\n",
       "</style>\n",
       "<table border=\"1\" class=\"dataframe\">\n",
       "  <thead>\n",
       "    <tr style=\"text-align: right;\">\n",
       "      <th>col_0</th>\n",
       "      <th>count</th>\n",
       "    </tr>\n",
       "    <tr>\n",
       "      <th>target</th>\n",
       "      <th></th>\n",
       "    </tr>\n",
       "  </thead>\n",
       "  <tbody>\n",
       "    <tr>\n",
       "      <th>0</th>\n",
       "      <td>1278</td>\n",
       "    </tr>\n",
       "    <tr>\n",
       "      <th>1</th>\n",
       "      <td>1006</td>\n",
       "    </tr>\n",
       "  </tbody>\n",
       "</table>\n",
       "</div>"
      ],
      "text/plain": [
       "col_0   count\n",
       "target       \n",
       "0        1278\n",
       "1        1006"
      ]
     },
     "execution_count": 125,
     "metadata": {},
     "output_type": "execute_result"
    }
   ],
   "source": [
    "pd.crosstab(index=test['target'], columns='count')\n"
   ]
  },
  {
   "cell_type": "code",
   "execution_count": 126,
   "id": "4119fbda",
   "metadata": {},
   "outputs": [
    {
     "data": {
      "text/plain": [
       "<AxesSubplot:xlabel='target', ylabel='count'>"
      ]
     },
     "execution_count": 126,
     "metadata": {},
     "output_type": "execute_result"
    },
    {
     "data": {
      "image/png": "[encoded data removed]",
      "text/plain": [
       "<Figure size 432x288 with 1 Axes>"
      ]
     },
     "metadata": {
      "needs_background": "light"
     },
     "output_type": "display_data"
    }
   ],
   "source": [
    "sns.countplot(data=test, x='target')\n",
    "\n"
   ]
  },
  {
   "cell_type": "code",
   "execution_count": 127,
   "id": "8c184a10",
   "metadata": {},
   "outputs": [
    {
     "data": {
      "text/html": [
       "<div>\n",
       "<style scoped>\n",
       "    .dataframe tbody tr th:only-of-type {\n",
       "        vertical-align: middle;\n",
       "    }\n",
       "\n",
       "    .dataframe tbody tr th {\n",
       "        vertical-align: top;\n",
       "    }\n",
       "\n",
       "    .dataframe thead th {\n",
       "        text-align: right;\n",
       "    }\n",
       "</style>\n",
       "<table border=\"1\" class=\"dataframe\">\n",
       "  <thead>\n",
       "    <tr style=\"text-align: right;\">\n",
       "      <th>col_0</th>\n",
       "      <th>count</th>\n",
       "    </tr>\n",
       "    <tr>\n",
       "      <th>pred_targVec</th>\n",
       "      <th></th>\n",
       "    </tr>\n",
       "  </thead>\n",
       "  <tbody>\n",
       "    <tr>\n",
       "      <th>0</th>\n",
       "      <td>1379</td>\n",
       "    </tr>\n",
       "    <tr>\n",
       "      <th>1</th>\n",
       "      <td>905</td>\n",
       "    </tr>\n",
       "  </tbody>\n",
       "</table>\n",
       "</div>"
      ],
      "text/plain": [
       "col_0         count\n",
       "pred_targVec       \n",
       "0              1379\n",
       "1               905"
      ]
     },
     "execution_count": 127,
     "metadata": {},
     "output_type": "execute_result"
    }
   ],
   "source": [
    "pd.crosstab(index=test['pred_targVec'], columns='count')\n"
   ]
  },
  {
   "cell_type": "code",
   "execution_count": 128,
   "id": "f5047886",
   "metadata": {},
   "outputs": [
    {
     "data": {
      "text/plain": [
       "<AxesSubplot:xlabel='pred_targVec', ylabel='count'>"
      ]
     },
     "execution_count": 128,
     "metadata": {},
     "output_type": "execute_result"
    },
    {
     "data": {
      "image/png": "[encoded data removed]",
      "text/plain": [
       "<Figure size 432x288 with 1 Axes>"
      ]
     },
     "metadata": {
      "needs_background": "light"
     },
     "output_type": "display_data"
    }
   ],
   "source": [
    "sns.countplot(data=test, x='pred_targVec')\n"
   ]
  },
  {
   "cell_type": "markdown",
   "id": "40d80480",
   "metadata": {},
   "source": [
    "Como podemos ver el modelo generado tiene un accuracy del 79%, lo cual no esta mal, sin embargo, tal vez con otro algoritmo podemos llegar a una mejor cantidad de accuracy. Aqui como podemos observar, el modelo predijo que mas tweets tratabn de desastres naturales reales, cuando realmente no lo eran."
   ]
  },
  {
   "cell_type": "markdown",
   "id": "4dc72488",
   "metadata": {},
   "source": [
    "## Vectorizer Tfidf\n"
   ]
  },
  {
   "cell_type": "code",
   "execution_count": 129,
   "id": "f92e8caa",
   "metadata": {},
   "outputs": [],
   "source": [
    "import pandas as pd\n",
    "import numpy as np\n",
    "from sklearn.feature_extraction.text import TfidfVectorizer\n",
    "from sklearn.neural_network import MLPClassifier"
   ]
  },
  {
   "cell_type": "code",
   "execution_count": 130,
   "id": "55072d4e",
   "metadata": {},
   "outputs": [
    {
     "data": {
      "text/html": [
       "<div>\n",
       "<style scoped>\n",
       "    .dataframe tbody tr th:only-of-type {\n",
       "        vertical-align: middle;\n",
       "    }\n",
       "\n",
       "    .dataframe tbody tr th {\n",
       "        vertical-align: top;\n",
       "    }\n",
       "\n",
       "    .dataframe thead th {\n",
       "        text-align: right;\n",
       "    }\n",
       "</style>\n",
       "<table border=\"1\" class=\"dataframe\">\n",
       "  <thead>\n",
       "    <tr style=\"text-align: right;\">\n",
       "      <th></th>\n",
       "      <th>id</th>\n",
       "      <th>keyword</th>\n",
       "      <th>location</th>\n",
       "      <th>text</th>\n",
       "      <th>target</th>\n",
       "      <th>text length</th>\n",
       "      <th>new text</th>\n",
       "    </tr>\n",
       "  </thead>\n",
       "  <tbody>\n",
       "    <tr>\n",
       "      <th>5720</th>\n",
       "      <td>8163</td>\n",
       "      <td>rescuers</td>\n",
       "      <td>USA</td>\n",
       "      <td>VIDEO: 'We're picking up bodies from water': R...</td>\n",
       "      <td>1</td>\n",
       "      <td>136</td>\n",
       "      <td>VIDEO: 'We're picking up bodies from water': R...</td>\n",
       "    </tr>\n",
       "    <tr>\n",
       "      <th>6367</th>\n",
       "      <td>9099</td>\n",
       "      <td>suicide bomb</td>\n",
       "      <td>USA</td>\n",
       "      <td>@AlfaPedia It might have come out ONLY too bur...</td>\n",
       "      <td>1</td>\n",
       "      <td>84</td>\n",
       "      <td>@AlfaPedia It might have come out ONLY too bur...</td>\n",
       "    </tr>\n",
       "    <tr>\n",
       "      <th>1685</th>\n",
       "      <td>2430</td>\n",
       "      <td>collide</td>\n",
       "      <td>New York, USA</td>\n",
       "      <td>Check out my new song 'Collide' live at the Bo...</td>\n",
       "      <td>0</td>\n",
       "      <td>83</td>\n",
       "      <td>Check out my new song 'Collide' live at the Bo...</td>\n",
       "    </tr>\n",
       "    <tr>\n",
       "      <th>3263</th>\n",
       "      <td>4688</td>\n",
       "      <td>engulfed</td>\n",
       "      <td>USA</td>\n",
       "      <td>@ZachZaidman @670TheScore wld b a shame if tha...</td>\n",
       "      <td>0</td>\n",
       "      <td>98</td>\n",
       "      <td>@ZachZaidman @670TheScore wld b a shame if tha...</td>\n",
       "    </tr>\n",
       "    <tr>\n",
       "      <th>5540</th>\n",
       "      <td>7905</td>\n",
       "      <td>radiation emergency</td>\n",
       "      <td>Warszawa</td>\n",
       "      <td>Radioactive Box Quarantined - IsraelÛªs Ashdo...</td>\n",
       "      <td>1</td>\n",
       "      <td>142</td>\n",
       "      <td>Radioactive Box Quarantined - IsraelÛªs Ashdo...</td>\n",
       "    </tr>\n",
       "  </tbody>\n",
       "</table>\n",
       "</div>"
      ],
      "text/plain": [
       "        id              keyword       location  \\\n",
       "5720  8163             rescuers            USA   \n",
       "6367  9099         suicide bomb            USA   \n",
       "1685  2430              collide  New York, USA   \n",
       "3263  4688             engulfed            USA   \n",
       "5540  7905  radiation emergency       Warszawa   \n",
       "\n",
       "                                                   text  target  text length  \\\n",
       "5720  VIDEO: 'We're picking up bodies from water': R...       1          136   \n",
       "6367  @AlfaPedia It might have come out ONLY too bur...       1           84   \n",
       "1685  Check out my new song 'Collide' live at the Bo...       0           83   \n",
       "3263  @ZachZaidman @670TheScore wld b a shame if tha...       0           98   \n",
       "5540  Radioactive Box Quarantined - IsraelÛªs Ashdo...       1          142   \n",
       "\n",
       "                                               new text  \n",
       "5720  VIDEO: 'We're picking up bodies from water': R...  \n",
       "6367  @AlfaPedia It might have come out ONLY too bur...  \n",
       "1685  Check out my new song 'Collide' live at the Bo...  \n",
       "3263  @ZachZaidman @670TheScore wld b a shame if tha...  \n",
       "5540  Radioactive Box Quarantined - IsraelÛªs Ashdo...  "
      ]
     },
     "execution_count": 130,
     "metadata": {},
     "output_type": "execute_result"
    }
   ],
   "source": [
    "train.head()"
   ]
  },
  {
   "cell_type": "code",
   "execution_count": 131,
   "id": "de9c5c2f",
   "metadata": {},
   "outputs": [
    {
     "data": {
      "text/html": [
       "<div>\n",
       "<style scoped>\n",
       "    .dataframe tbody tr th:only-of-type {\n",
       "        vertical-align: middle;\n",
       "    }\n",
       "\n",
       "    .dataframe tbody tr th {\n",
       "        vertical-align: top;\n",
       "    }\n",
       "\n",
       "    .dataframe thead th {\n",
       "        text-align: right;\n",
       "    }\n",
       "</style>\n",
       "<table border=\"1\" class=\"dataframe\">\n",
       "  <thead>\n",
       "    <tr style=\"text-align: right;\">\n",
       "      <th></th>\n",
       "      <th>id</th>\n",
       "      <th>keyword</th>\n",
       "      <th>location</th>\n",
       "      <th>text</th>\n",
       "      <th>target</th>\n",
       "      <th>text length</th>\n",
       "      <th>new text</th>\n",
       "      <th>pred_targVec</th>\n",
       "    </tr>\n",
       "  </thead>\n",
       "  <tbody>\n",
       "    <tr>\n",
       "      <th>709</th>\n",
       "      <td>1023</td>\n",
       "      <td>blazing</td>\n",
       "      <td>Essex/Brighton</td>\n",
       "      <td>@FunkyLilShack @mariaf30 I want a full on bitc...</td>\n",
       "      <td>0</td>\n",
       "      <td>139</td>\n",
       "      <td>@FunkyLilShack @mariaf30 I want a full on bitc...</td>\n",
       "      <td>0</td>\n",
       "    </tr>\n",
       "    <tr>\n",
       "      <th>3280</th>\n",
       "      <td>4706</td>\n",
       "      <td>epicentre</td>\n",
       "      <td>Africa</td>\n",
       "      <td>RT @calestous: Tanzania elephant population de...</td>\n",
       "      <td>1</td>\n",
       "      <td>134</td>\n",
       "      <td>RT @calestous: Tanzania elephant population de...</td>\n",
       "      <td>1</td>\n",
       "    </tr>\n",
       "    <tr>\n",
       "      <th>6637</th>\n",
       "      <td>9504</td>\n",
       "      <td>terrorist</td>\n",
       "      <td>USA</td>\n",
       "      <td>Me pulling over and fighting the hoes that cal...</td>\n",
       "      <td>1</td>\n",
       "      <td>90</td>\n",
       "      <td>Me pulling over and fighting the hoes that cal...</td>\n",
       "      <td>1</td>\n",
       "    </tr>\n",
       "    <tr>\n",
       "      <th>1094</th>\n",
       "      <td>1580</td>\n",
       "      <td>bombed</td>\n",
       "      <td>USA</td>\n",
       "      <td>@Stankyboy88 I should've photo bombed</td>\n",
       "      <td>0</td>\n",
       "      <td>37</td>\n",
       "      <td>@Stankyboy88 I should've photo bombed USA bombed</td>\n",
       "      <td>0</td>\n",
       "    </tr>\n",
       "    <tr>\n",
       "      <th>1764</th>\n",
       "      <td>2537</td>\n",
       "      <td>collision</td>\n",
       "      <td>Peterborough, Ontario, Canada</td>\n",
       "      <td>Two-vehicle collision at Fowlers Corners at Hw...</td>\n",
       "      <td>1</td>\n",
       "      <td>134</td>\n",
       "      <td>Two-vehicle collision at Fowlers Corners at Hw...</td>\n",
       "      <td>1</td>\n",
       "    </tr>\n",
       "  </tbody>\n",
       "</table>\n",
       "</div>"
      ],
      "text/plain": [
       "        id    keyword                       location  \\\n",
       "709   1023    blazing                 Essex/Brighton   \n",
       "3280  4706  epicentre                         Africa   \n",
       "6637  9504  terrorist                            USA   \n",
       "1094  1580     bombed                            USA   \n",
       "1764  2537  collision  Peterborough, Ontario, Canada   \n",
       "\n",
       "                                                   text  target  text length  \\\n",
       "709   @FunkyLilShack @mariaf30 I want a full on bitc...       0          139   \n",
       "3280  RT @calestous: Tanzania elephant population de...       1          134   \n",
       "6637  Me pulling over and fighting the hoes that cal...       1           90   \n",
       "1094              @Stankyboy88 I should've photo bombed       0           37   \n",
       "1764  Two-vehicle collision at Fowlers Corners at Hw...       1          134   \n",
       "\n",
       "                                               new text  pred_targVec  \n",
       "709   @FunkyLilShack @mariaf30 I want a full on bitc...             0  \n",
       "3280  RT @calestous: Tanzania elephant population de...             1  \n",
       "6637  Me pulling over and fighting the hoes that cal...             1  \n",
       "1094   @Stankyboy88 I should've photo bombed USA bombed             0  \n",
       "1764  Two-vehicle collision at Fowlers Corners at Hw...             1  "
      ]
     },
     "execution_count": 131,
     "metadata": {},
     "output_type": "execute_result"
    }
   ],
   "source": [
    "test.head()"
   ]
  },
  {
   "cell_type": "code",
   "execution_count": 132,
   "id": "0b059437",
   "metadata": {},
   "outputs": [
    {
     "name": "stdout",
     "output_type": "stream",
     "text": [
      "Iteration 1, loss = 0.66549001\n",
      "Iteration 2, loss = 0.56540594\n",
      "Iteration 3, loss = 0.44476132\n",
      "Iteration 4, loss = 0.33931412\n",
      "Iteration 5, loss = 0.26141353\n",
      "Iteration 6, loss = 0.20527547\n",
      "Iteration 7, loss = 0.16402795\n",
      "Iteration 8, loss = 0.13280176\n",
      "Iteration 9, loss = 0.10905835\n",
      "Iteration 10, loss = 0.09067934\n",
      "Iteration 11, loss = 0.07637633\n",
      "Iteration 12, loss = 0.06535015\n",
      "Iteration 13, loss = 0.05614727\n",
      "Iteration 14, loss = 0.04901396\n",
      "Iteration 15, loss = 0.04328531\n",
      "Iteration 16, loss = 0.03842832\n",
      "Iteration 17, loss = 0.03443498\n",
      "Iteration 18, loss = 0.03110896\n",
      "Iteration 19, loss = 0.02852938\n",
      "Iteration 20, loss = 0.02593159\n",
      "Iteration 21, loss = 0.02428478\n",
      "Iteration 22, loss = 0.02236261\n",
      "Iteration 23, loss = 0.02096616\n",
      "Iteration 24, loss = 0.01978292\n",
      "Iteration 25, loss = 0.01847290\n",
      "Iteration 26, loss = 0.01754123\n",
      "Iteration 27, loss = 0.01653745\n",
      "Iteration 28, loss = 0.01606226\n",
      "Iteration 29, loss = 0.01518480\n",
      "Iteration 30, loss = 0.01460347\n",
      "Iteration 31, loss = 0.01394598\n",
      "Iteration 32, loss = 0.01346280\n",
      "Iteration 33, loss = 0.01308655\n",
      "Iteration 34, loss = 0.01281674\n",
      "Iteration 35, loss = 0.01241899\n",
      "Iteration 36, loss = 0.01194038\n",
      "Iteration 37, loss = 0.01163554\n",
      "Iteration 38, loss = 0.01150770\n",
      "Iteration 39, loss = 0.01117776\n",
      "Iteration 40, loss = 0.01091823\n",
      "Iteration 41, loss = 0.01066556\n",
      "Iteration 42, loss = 0.01040488\n",
      "Iteration 43, loss = 0.01045569\n",
      "Iteration 44, loss = 0.01009655\n",
      "Iteration 45, loss = 0.01010846\n",
      "Iteration 46, loss = 0.00994885\n",
      "Iteration 47, loss = 0.00957726\n",
      "Iteration 48, loss = 0.00967074\n",
      "Iteration 49, loss = 0.00953474\n",
      "Iteration 50, loss = 0.00944309\n",
      "Iteration 51, loss = 0.00942414\n",
      "Iteration 52, loss = 0.00920248\n",
      "Iteration 53, loss = 0.00914653\n",
      "Iteration 54, loss = 0.00891058\n",
      "Iteration 55, loss = 0.00881461\n",
      "Iteration 56, loss = 0.00874860\n",
      "Iteration 57, loss = 0.00867636\n",
      "Iteration 58, loss = 0.00867812\n",
      "Iteration 59, loss = 0.00839314\n",
      "Iteration 60, loss = 0.00870465\n",
      "Iteration 61, loss = 0.00875814\n",
      "Iteration 62, loss = 0.00852422\n",
      "Iteration 63, loss = 0.00829825\n",
      "Iteration 64, loss = 0.00842574\n",
      "Iteration 65, loss = 0.00818181\n",
      "Iteration 66, loss = 0.00836524\n",
      "Iteration 67, loss = 0.00812544\n",
      "Iteration 68, loss = 0.00820640\n",
      "Iteration 69, loss = 0.00813065\n",
      "Iteration 70, loss = 0.00807068\n",
      "Iteration 71, loss = 0.00797557\n",
      "Iteration 72, loss = 0.00798862\n",
      "Iteration 73, loss = 0.00821163\n",
      "Iteration 74, loss = 0.00783197\n",
      "Iteration 75, loss = 0.00787138\n",
      "Iteration 76, loss = 0.00794508\n",
      "Iteration 77, loss = 0.00778972\n",
      "Iteration 78, loss = 0.00777594\n",
      "Iteration 79, loss = 0.00797955\n",
      "Iteration 80, loss = 0.00768848\n",
      "Iteration 81, loss = 0.00768590\n",
      "Iteration 82, loss = 0.00770691\n",
      "Iteration 83, loss = 0.00761119\n",
      "Iteration 84, loss = 0.00773530\n",
      "Iteration 85, loss = 0.00780177\n",
      "Training loss did not improve more than tol=0.000100 for 10 consecutive epochs. Stopping.\n"
     ]
    },
    {
     "data": {
      "text/plain": [
       "MLPClassifier(max_iter=300, random_state=1, verbose=True)"
      ]
     },
     "execution_count": 132,
     "metadata": {},
     "output_type": "execute_result"
    }
   ],
   "source": [
    "testn = test[[\"id\",\"text\"]]\n",
    "trainn = train[[\"text\", \"target\"]]\n",
    "X_train = trainn.text\n",
    "y_train = trainn.target\n",
    "X_test = testn.text\n",
    "vectorizer = TfidfVectorizer(use_idf=True)\n",
    "vectorizer = vectorizer.fit(X_train)\n",
    "X_train = vectorizer.transform(X_train)\n",
    "clf = MLPClassifier(random_state=1, \n",
    "                    max_iter=300, \n",
    "                    verbose=True)\n",
    "clf.fit(X_train, y_train)"
   ]
  },
  {
   "cell_type": "code",
   "execution_count": 133,
   "id": "2410413e",
   "metadata": {},
   "outputs": [
    {
     "data": {
      "text/html": [
       "<div>\n",
       "<style scoped>\n",
       "    .dataframe tbody tr th:only-of-type {\n",
       "        vertical-align: middle;\n",
       "    }\n",
       "\n",
       "    .dataframe tbody tr th {\n",
       "        vertical-align: top;\n",
       "    }\n",
       "\n",
       "    .dataframe thead th {\n",
       "        text-align: right;\n",
       "    }\n",
       "</style>\n",
       "<table border=\"1\" class=\"dataframe\">\n",
       "  <thead>\n",
       "    <tr style=\"text-align: right;\">\n",
       "      <th></th>\n",
       "      <th>id</th>\n",
       "      <th>keyword</th>\n",
       "      <th>location</th>\n",
       "      <th>text</th>\n",
       "      <th>target</th>\n",
       "      <th>text length</th>\n",
       "      <th>new text</th>\n",
       "      <th>pred_targVec</th>\n",
       "      <th>pred_targTFIDF</th>\n",
       "    </tr>\n",
       "  </thead>\n",
       "  <tbody>\n",
       "    <tr>\n",
       "      <th>709</th>\n",
       "      <td>1023</td>\n",
       "      <td>blazing</td>\n",
       "      <td>Essex/Brighton</td>\n",
       "      <td>@FunkyLilShack @mariaf30 I want a full on bitc...</td>\n",
       "      <td>0</td>\n",
       "      <td>139</td>\n",
       "      <td>@FunkyLilShack @mariaf30 I want a full on bitc...</td>\n",
       "      <td>0</td>\n",
       "      <td>0</td>\n",
       "    </tr>\n",
       "    <tr>\n",
       "      <th>3280</th>\n",
       "      <td>4706</td>\n",
       "      <td>epicentre</td>\n",
       "      <td>Africa</td>\n",
       "      <td>RT @calestous: Tanzania elephant population de...</td>\n",
       "      <td>1</td>\n",
       "      <td>134</td>\n",
       "      <td>RT @calestous: Tanzania elephant population de...</td>\n",
       "      <td>1</td>\n",
       "      <td>0</td>\n",
       "    </tr>\n",
       "    <tr>\n",
       "      <th>6637</th>\n",
       "      <td>9504</td>\n",
       "      <td>terrorist</td>\n",
       "      <td>USA</td>\n",
       "      <td>Me pulling over and fighting the hoes that cal...</td>\n",
       "      <td>1</td>\n",
       "      <td>90</td>\n",
       "      <td>Me pulling over and fighting the hoes that cal...</td>\n",
       "      <td>1</td>\n",
       "      <td>0</td>\n",
       "    </tr>\n",
       "    <tr>\n",
       "      <th>1094</th>\n",
       "      <td>1580</td>\n",
       "      <td>bombed</td>\n",
       "      <td>USA</td>\n",
       "      <td>@Stankyboy88 I should've photo bombed</td>\n",
       "      <td>0</td>\n",
       "      <td>37</td>\n",
       "      <td>@Stankyboy88 I should've photo bombed USA bombed</td>\n",
       "      <td>0</td>\n",
       "      <td>0</td>\n",
       "    </tr>\n",
       "    <tr>\n",
       "      <th>1764</th>\n",
       "      <td>2537</td>\n",
       "      <td>collision</td>\n",
       "      <td>Peterborough, Ontario, Canada</td>\n",
       "      <td>Two-vehicle collision at Fowlers Corners at Hw...</td>\n",
       "      <td>1</td>\n",
       "      <td>134</td>\n",
       "      <td>Two-vehicle collision at Fowlers Corners at Hw...</td>\n",
       "      <td>1</td>\n",
       "      <td>1</td>\n",
       "    </tr>\n",
       "  </tbody>\n",
       "</table>\n",
       "</div>"
      ],
      "text/plain": [
       "        id    keyword                       location  \\\n",
       "709   1023    blazing                 Essex/Brighton   \n",
       "3280  4706  epicentre                         Africa   \n",
       "6637  9504  terrorist                            USA   \n",
       "1094  1580     bombed                            USA   \n",
       "1764  2537  collision  Peterborough, Ontario, Canada   \n",
       "\n",
       "                                                   text  target  text length  \\\n",
       "709   @FunkyLilShack @mariaf30 I want a full on bitc...       0          139   \n",
       "3280  RT @calestous: Tanzania elephant population de...       1          134   \n",
       "6637  Me pulling over and fighting the hoes that cal...       1           90   \n",
       "1094              @Stankyboy88 I should've photo bombed       0           37   \n",
       "1764  Two-vehicle collision at Fowlers Corners at Hw...       1          134   \n",
       "\n",
       "                                               new text  pred_targVec  \\\n",
       "709   @FunkyLilShack @mariaf30 I want a full on bitc...             0   \n",
       "3280  RT @calestous: Tanzania elephant population de...             1   \n",
       "6637  Me pulling over and fighting the hoes that cal...             1   \n",
       "1094   @Stankyboy88 I should've photo bombed USA bombed             0   \n",
       "1764  Two-vehicle collision at Fowlers Corners at Hw...             1   \n",
       "\n",
       "      pred_targTFIDF  \n",
       "709                0  \n",
       "3280               0  \n",
       "6637               0  \n",
       "1094               0  \n",
       "1764               1  "
      ]
     },
     "execution_count": 133,
     "metadata": {},
     "output_type": "execute_result"
    }
   ],
   "source": [
    "X_test = vectorizer.transform(X_test)\n",
    "pred = clf.predict(X_test)\n",
    "test['pred_targTFIDF'] = pred\n",
    "test.head()"
   ]
  },
  {
   "cell_type": "code",
   "execution_count": 134,
   "id": "d03270ee",
   "metadata": {},
   "outputs": [
    {
     "name": "stdout",
     "output_type": "stream",
     "text": [
      "coincidencias: 1713\n",
      "accuracy del algoritmo: 75.0%\n"
     ]
    }
   ],
   "source": [
    "coin = 0\n",
    "total = len(test)\n",
    "for i in range(total):\n",
    "    targ = test.iloc[i,4]\n",
    "    predtarg = test.iloc[i,8]\n",
    "    if (targ == predtarg):\n",
    "        coin += 1\n",
    "print('coincidencias: ' + str(coin))\n",
    "acc = (coin / total)*100\n",
    "print('accuracy del algoritmo: ' + str(acc)+'%')"
   ]
  },
  {
   "cell_type": "code",
   "execution_count": 135,
   "id": "010b76c1",
   "metadata": {},
   "outputs": [
    {
     "data": {
      "image/png": "[encoded data removed]",
      "text/plain": [
       "<Figure size 432x288 with 1 Axes>"
      ]
     },
     "metadata": {
      "needs_background": "light"
     },
     "output_type": "display_data"
    }
   ],
   "source": [
    "import matplotlib.pyplot as plt\n",
    "fig = plt.figure()\n",
    "ax = fig.add_axes([0,0,1,1])\n",
    "langs = ['Vectorizer NB', 'TFIDFV']\n",
    "students = [accV, acc]\n",
    "ax.bar(langs,students)\n",
    "plt.show()"
   ]
  },
  {
   "cell_type": "code",
   "execution_count": 140,
   "id": "9be57f5f",
   "metadata": {},
   "outputs": [
    {
     "data": {
      "text/plain": [
       "array([0], dtype=int64)"
      ]
     },
     "execution_count": 140,
     "metadata": {},
     "output_type": "execute_result"
    }
   ],
   "source": [
    "import pickle\n",
    "from sklearn.pipeline import make_pipeline\n",
    "\n",
    "pipeline = make_pipeline(vectorizer, clf)\n",
    "\n",
    "pickle.dump(pipeline, open('vectorizer_tfidf.pickle', 'wb'))\n",
    "\n",
    "test_pipe = pickle.load(open('vectorizer_tfidf.pickle', 'rb'))\n",
    "test_pipe.predict([\"bomb\"])\n"
   ]
  },
  {
   "cell_type": "markdown",
   "id": "53849316",
   "metadata": {},
   "source": [
    "### Discusión"
   ]
  },
  {
   "cell_type": "markdown",
   "id": "2a55fe9b",
   "metadata": {},
   "source": [
    "Se trabajóo el algoritmo Vectorizer +Multinomial NB y el algoritmo Vectorizer Tfidf. Se obtuvo un accuracy de 80% y 77% respectivamente. Podemos apreciar que con ambos modelos se obtuvo un porcentaje de accuracy similar, sin embargo, Vectorizer +Multinomial NB se adapta mejor a nuestro conjunto de datos, siendo este el mas efectivo. "
   ]
  },
  {
   "cell_type": "markdown",
   "id": "6b728dfd",
   "metadata": {},
   "source": [
    "### Referencias"
   ]
  },
  {
   "cell_type": "code",
   "execution_count": null,
   "id": "7496eb96",
   "metadata": {},
   "outputs": [],
   "source": []
  },
  {
   "cell_type": "markdown",
   "id": "071d0739",
   "metadata": {},
   "source": [
    "## Avances 3 de Proyecto 2"
   ]
  },
  {
   "cell_type": "markdown",
   "id": "d0d88373",
   "metadata": {},
   "source": [
    "En este proyecto contamos con datos valiosos e interesantes a los son necesarios acceder y analizar. Para facilitar esto se utilizara una herramienta para realizar paneles dinámicos donde se puedan ejecutar consultas fácilmente y ver visualizaciones interactivas personalizadas."
   ]
  },
  {
   "cell_type": "markdown",
   "id": "16ef73c5",
   "metadata": {},
   "source": [
    "Un tablero de datos consta de muchos componentes diferentes. Dentro de estos se pueden mencionar los siguientes:"
   ]
  },
  {
   "cell_type": "markdown",
   "id": "9be0e6f1",
   "metadata": {},
   "source": [
    "* Analizar: manipular datos utilizando, por ejemplo, Pandas.\n",
    "* Visualizar: crear diagramas de los datos utilizando, por ejemplo, Bokeh.\n",
    "* Interactuar: aceptar la input del usuario utilizando una interfaz como React.\n",
    "* Servir: manejar solicitudes de los usuarios y retornar páginas web utilizando un servidor web como Flask."
   ]
  },
  {
   "cell_type": "markdown",
   "id": "83932b64",
   "metadata": {},
   "source": [
    "Dentro de las herramientas a utilizar en este proyecto se proponen las siguientes:\n",
    "    \n",
    "    - Dash\n",
    "    - Streamlit\n",
    "    - Voila\n",
    "    - Panel\n",
    "    \n",
    "No todas las bibliotecas son directamente comparables.Sin embargo, cada biblioteca se centra en un área distinta."
   ]
  },
  {
   "cell_type": "markdown",
   "id": "12e3b0ed",
   "metadata": {},
   "source": [
    "Cuando hablamos de Streamlit, Dash o Panel se trata de soluciones completas de panel de control, centradas en el análisis de datos basado en Python y que se ejecutan en los marcos web Tornado y Flask. Mientras que Voila es una biblioteca que convierte los cuadernos individuales de Jupyter en páginas web interactivas."
   ]
  },
  {
   "cell_type": "code",
   "execution_count": 18,
   "id": "89de3682",
   "metadata": {},
   "outputs": [
    {
     "data": {
      "text/html": [
       "<div>\n",
       "<style scoped>\n",
       "    .dataframe tbody tr th:only-of-type {\n",
       "        vertical-align: middle;\n",
       "    }\n",
       "\n",
       "    .dataframe tbody tr th {\n",
       "        vertical-align: top;\n",
       "    }\n",
       "\n",
       "    .dataframe thead th {\n",
       "        text-align: right;\n",
       "    }\n",
       "</style>\n",
       "<table border=\"1\" class=\"dataframe\">\n",
       "  <thead>\n",
       "    <tr style=\"text-align: right;\">\n",
       "      <th></th>\n",
       "      <th>Unnamed: 0</th>\n",
       "      <th>id</th>\n",
       "      <th>keyword</th>\n",
       "      <th>location</th>\n",
       "      <th>text</th>\n",
       "      <th>target</th>\n",
       "    </tr>\n",
       "  </thead>\n",
       "  <tbody>\n",
       "    <tr>\n",
       "      <th>0</th>\n",
       "      <td>31</td>\n",
       "      <td>48</td>\n",
       "      <td>ablaze</td>\n",
       "      <td>birmingham</td>\n",
       "      <td>bbcmtd wholesale markets ablaze</td>\n",
       "      <td>1</td>\n",
       "    </tr>\n",
       "    <tr>\n",
       "      <th>1</th>\n",
       "      <td>32</td>\n",
       "      <td>49</td>\n",
       "      <td>ablaze</td>\n",
       "      <td>est. september 2012 - bristol</td>\n",
       "      <td>always try bring heavy metal rt</td>\n",
       "      <td>0</td>\n",
       "    </tr>\n",
       "    <tr>\n",
       "      <th>2</th>\n",
       "      <td>33</td>\n",
       "      <td>50</td>\n",
       "      <td>ablaze</td>\n",
       "      <td>africa</td>\n",
       "      <td>africanbaze breaking newsnigeria flag set abla...</td>\n",
       "      <td>1</td>\n",
       "    </tr>\n",
       "    <tr>\n",
       "      <th>3</th>\n",
       "      <td>34</td>\n",
       "      <td>52</td>\n",
       "      <td>ablaze</td>\n",
       "      <td>philadelphia, pa</td>\n",
       "      <td>crying set ablaze</td>\n",
       "      <td>0</td>\n",
       "    </tr>\n",
       "    <tr>\n",
       "      <th>4</th>\n",
       "      <td>35</td>\n",
       "      <td>53</td>\n",
       "      <td>ablaze</td>\n",
       "      <td>london, uk</td>\n",
       "      <td>plus side look sky last night ablaze</td>\n",
       "      <td>0</td>\n",
       "    </tr>\n",
       "  </tbody>\n",
       "</table>\n",
       "</div>"
      ],
      "text/plain": [
       "   Unnamed: 0  id keyword                       location  \\\n",
       "0          31  48  ablaze                     birmingham   \n",
       "1          32  49  ablaze  est. september 2012 - bristol   \n",
       "2          33  50  ablaze                         africa   \n",
       "3          34  52  ablaze               philadelphia, pa   \n",
       "4          35  53  ablaze                     london, uk   \n",
       "\n",
       "                                                text  target  \n",
       "0                    bbcmtd wholesale markets ablaze       1  \n",
       "1                    always try bring heavy metal rt       0  \n",
       "2  africanbaze breaking newsnigeria flag set abla...       1  \n",
       "3                                  crying set ablaze       0  \n",
       "4               plus side look sky last night ablaze       0  "
      ]
     },
     "execution_count": 18,
     "metadata": {},
     "output_type": "execute_result"
    }
   ],
   "source": [
    "import pandas as pd\n",
    "clean = pd.read_csv(\"clean.csv\")\n",
    "clean.head()"
   ]
  },
  {
   "cell_type": "code",
   "execution_count": null,
   "id": "5ec9d62f",
   "metadata": {},
   "outputs": [],
   "source": []
  },
  {
   "cell_type": "code",
   "execution_count": 19,
   "id": "fd033c00",
   "metadata": {},
   "outputs": [
    {
     "data": {
      "text/html": [
       "<div>\n",
       "<style scoped>\n",
       "    .dataframe tbody tr th:only-of-type {\n",
       "        vertical-align: middle;\n",
       "    }\n",
       "\n",
       "    .dataframe tbody tr th {\n",
       "        vertical-align: top;\n",
       "    }\n",
       "\n",
       "    .dataframe thead th {\n",
       "        text-align: right;\n",
       "    }\n",
       "</style>\n",
       "<table border=\"1\" class=\"dataframe\">\n",
       "  <thead>\n",
       "    <tr style=\"text-align: right;\">\n",
       "      <th></th>\n",
       "      <th>location</th>\n",
       "      <th>counts</th>\n",
       "    </tr>\n",
       "  </thead>\n",
       "  <tbody>\n",
       "    <tr>\n",
       "      <th>0</th>\n",
       "      <td></td>\n",
       "      <td>1</td>\n",
       "    </tr>\n",
       "    <tr>\n",
       "      <th>1</th>\n",
       "      <td>glasgow</td>\n",
       "      <td>1</td>\n",
       "    </tr>\n",
       "    <tr>\n",
       "      <th>2</th>\n",
       "      <td>melbourne, australia</td>\n",
       "      <td>1</td>\n",
       "    </tr>\n",
       "    <tr>\n",
       "      <th>3</th>\n",
       "      <td>news</td>\n",
       "      <td>1</td>\n",
       "    </tr>\n",
       "    <tr>\n",
       "      <th>4</th>\n",
       "      <td>å_</td>\n",
       "      <td>1</td>\n",
       "    </tr>\n",
       "    <tr>\n",
       "      <th>...</th>\n",
       "      <td>...</td>\n",
       "      <td>...</td>\n",
       "    </tr>\n",
       "    <tr>\n",
       "      <th>3228</th>\n",
       "      <td>ìït: 42.910975,-78.865828</td>\n",
       "      <td>1</td>\n",
       "    </tr>\n",
       "    <tr>\n",
       "      <th>3229</th>\n",
       "      <td>ìït: 43.631838,-79.55807</td>\n",
       "      <td>1</td>\n",
       "    </tr>\n",
       "    <tr>\n",
       "      <th>3230</th>\n",
       "      <td>ìït: 6.4682,3.18287</td>\n",
       "      <td>1</td>\n",
       "    </tr>\n",
       "    <tr>\n",
       "      <th>3231</th>\n",
       "      <td>ìït: 6.488400524109015,3.352798039832285</td>\n",
       "      <td>1</td>\n",
       "    </tr>\n",
       "    <tr>\n",
       "      <th>3232</th>\n",
       "      <td>ìøåàå_t: 40.736324,-73.990062</td>\n",
       "      <td>1</td>\n",
       "    </tr>\n",
       "  </tbody>\n",
       "</table>\n",
       "<p>3233 rows × 2 columns</p>\n",
       "</div>"
      ],
      "text/plain": [
       "                                      location  counts\n",
       "0                                                    1\n",
       "1                                     glasgow        1\n",
       "2                         melbourne, australia       1\n",
       "3                                         news       1\n",
       "4                                          å_        1\n",
       "...                                        ...     ...\n",
       "3228                 ìït: 42.910975,-78.865828       1\n",
       "3229                  ìït: 43.631838,-79.55807       1\n",
       "3230                       ìït: 6.4682,3.18287       1\n",
       "3231  ìït: 6.488400524109015,3.352798039832285       1\n",
       "3232             ìøåàå_t: 40.736324,-73.990062       1\n",
       "\n",
       "[3233 rows x 2 columns]"
      ]
     },
     "execution_count": 19,
     "metadata": {},
     "output_type": "execute_result"
    }
   ],
   "source": [
    "groupby = clean.groupby(['location']).size().reset_index(name='counts')\n",
    "groupby\n",
    "# df.groupby(['col1', 'col2']).size().reset_index(name='counts')"
   ]
  },
  {
   "cell_type": "code",
   "execution_count": 1,
   "id": "fa47c251",
   "metadata": {},
   "outputs": [],
   "source": [
    "from geopy.geocoders import Nominatim"
   ]
  },
  {
   "cell_type": "code",
   "execution_count": 3,
   "id": "4f7caa99",
   "metadata": {},
   "outputs": [],
   "source": [
    "import googlemaps"
   ]
  },
  {
   "cell_type": "code",
   "execution_count": 4,
   "id": "4c420192",
   "metadata": {},
   "outputs": [],
   "source": [
    "gmaps = googlemaps.Client(key='<API_KEY>')"
   ]
  },
  {
   "cell_type": "code",
   "execution_count": 43,
   "id": "7e4e7980",
   "metadata": {},
   "outputs": [],
   "source": [
    "geocode_result = gmaps.geocode('glasgow')"
   ]
  },
  {
   "cell_type": "code",
   "execution_count": null,
   "id": "de671ee6",
   "metadata": {},
   "outputs": [],
   "source": []
  },
  {
   "cell_type": "code",
   "execution_count": 45,
   "id": "48f924c1",
   "metadata": {},
   "outputs": [
    {
     "data": {
      "text/plain": [
       "55.864237"
      ]
     },
     "execution_count": 45,
     "metadata": {},
     "output_type": "execute_result"
    }
   ],
   "source": [
    "geocode_result[0]['geometry']['location']['lat']"
   ]
  },
  {
   "cell_type": "code",
   "execution_count": null,
   "id": "43477f3e",
   "metadata": {},
   "outputs": [],
   "source": []
  },
  {
   "cell_type": "code",
   "execution_count": 69,
   "id": "65a04f58",
   "metadata": {},
   "outputs": [
    {
     "data": {
      "text/html": [
       "<div>\n",
       "<style scoped>\n",
       "    .dataframe tbody tr th:only-of-type {\n",
       "        vertical-align: middle;\n",
       "    }\n",
       "\n",
       "    .dataframe tbody tr th {\n",
       "        vertical-align: top;\n",
       "    }\n",
       "\n",
       "    .dataframe thead th {\n",
       "        text-align: right;\n",
       "    }\n",
       "</style>\n",
       "<table border=\"1\" class=\"dataframe\">\n",
       "  <thead>\n",
       "    <tr style=\"text-align: right;\">\n",
       "      <th></th>\n",
       "      <th>location</th>\n",
       "      <th>counts</th>\n",
       "      <th>lat</th>\n",
       "      <th>lng</th>\n",
       "    </tr>\n",
       "  </thead>\n",
       "  <tbody>\n",
       "    <tr>\n",
       "      <th>0</th>\n",
       "      <td></td>\n",
       "      <td>1</td>\n",
       "      <td>NaN</td>\n",
       "      <td>NaN</td>\n",
       "    </tr>\n",
       "    <tr>\n",
       "      <th>1</th>\n",
       "      <td>glasgow</td>\n",
       "      <td>1</td>\n",
       "      <td>NaN</td>\n",
       "      <td>NaN</td>\n",
       "    </tr>\n",
       "    <tr>\n",
       "      <th>2</th>\n",
       "      <td>melbourne australia</td>\n",
       "      <td>1</td>\n",
       "      <td>NaN</td>\n",
       "      <td>NaN</td>\n",
       "    </tr>\n",
       "    <tr>\n",
       "      <th>3</th>\n",
       "      <td>news</td>\n",
       "      <td>1</td>\n",
       "      <td>NaN</td>\n",
       "      <td>NaN</td>\n",
       "    </tr>\n",
       "    <tr>\n",
       "      <th>4</th>\n",
       "      <td>å</td>\n",
       "      <td>1</td>\n",
       "      <td>NaN</td>\n",
       "      <td>NaN</td>\n",
       "    </tr>\n",
       "    <tr>\n",
       "      <th>...</th>\n",
       "      <td>...</td>\n",
       "      <td>...</td>\n",
       "      <td>...</td>\n",
       "      <td>...</td>\n",
       "    </tr>\n",
       "    <tr>\n",
       "      <th>3228</th>\n",
       "      <td>ìït 4291097578865828</td>\n",
       "      <td>1</td>\n",
       "      <td>NaN</td>\n",
       "      <td>NaN</td>\n",
       "    </tr>\n",
       "    <tr>\n",
       "      <th>3229</th>\n",
       "      <td>ìït 436318387955807</td>\n",
       "      <td>1</td>\n",
       "      <td>NaN</td>\n",
       "      <td>NaN</td>\n",
       "    </tr>\n",
       "    <tr>\n",
       "      <th>3230</th>\n",
       "      <td>ìït 64682318287</td>\n",
       "      <td>1</td>\n",
       "      <td>NaN</td>\n",
       "      <td>NaN</td>\n",
       "    </tr>\n",
       "    <tr>\n",
       "      <th>3231</th>\n",
       "      <td>ìït 64884005241090153352798039832285</td>\n",
       "      <td>1</td>\n",
       "      <td>NaN</td>\n",
       "      <td>NaN</td>\n",
       "    </tr>\n",
       "    <tr>\n",
       "      <th>3232</th>\n",
       "      <td>ìøåàåt 4073632473990062</td>\n",
       "      <td>1</td>\n",
       "      <td>NaN</td>\n",
       "      <td>NaN</td>\n",
       "    </tr>\n",
       "  </tbody>\n",
       "</table>\n",
       "<p>3233 rows × 4 columns</p>\n",
       "</div>"
      ],
      "text/plain": [
       "                                  location  counts  lat  lng\n",
       "0                                                1  NaN  NaN\n",
       "1                                  glasgow       1  NaN  NaN\n",
       "2                      melbourne australia       1  NaN  NaN\n",
       "3                                     news       1  NaN  NaN\n",
       "4                                        å       1  NaN  NaN\n",
       "...                                    ...     ...  ...  ...\n",
       "3228                  ìït 4291097578865828       1  NaN  NaN\n",
       "3229                   ìït 436318387955807       1  NaN  NaN\n",
       "3230                       ìït 64682318287       1  NaN  NaN\n",
       "3231  ìït 64884005241090153352798039832285       1  NaN  NaN\n",
       "3232               ìøåàåt 4073632473990062       1  NaN  NaN\n",
       "\n",
       "[3233 rows x 4 columns]"
      ]
     },
     "execution_count": 69,
     "metadata": {},
     "output_type": "execute_result"
    }
   ],
   "source": [
    "import numpy as np\n",
    "from nltk.corpus import stopwords #limpieza de datos\n",
    "import pandas as pd #libreria de visualizacion de texto\n",
    "import numpy as np #libreria de operaciones matematicas\n",
    "import matplotlib.pyplot as plt\n",
    "import seaborn as sns\n",
    "%matplotlib inline\n",
    "import re\n",
    "import string\n",
    "from nltk.corpus import stopwords #limpieza de datos\n",
    "\n",
    "from wordcloud import WordCloud #graficas\n",
    "\n",
    "from textblob import TextBlob\n",
    "from nltk.sentiment.vader import SentimentIntensityAnalyzer\n",
    "import nltk\n",
    "\n",
    "import re\n",
    "\n",
    "groupby['lat'] = np.nan\n",
    "groupby['lng'] = np.nan\n",
    "\n",
    "groupby['location'] = groupby['location'].apply(lambda x: re.split('https:\\/\\/.*', str(x))[0])\n",
    "groupby['location'] = groupby['location'].apply(lambda x: re.split('http:\\/\\/.*', str(x))[0])\n",
    "def remove_punctuations(text):\n",
    "    for punctuation in string.punctuation:\n",
    "        text = text.replace(punctuation, '')\n",
    "    return text\n",
    "groupby['location'] = groupby['location'].apply(remove_punctuations)\n",
    "groupby.astype(str).apply(lambda x: x.str.encode('ascii', 'ignore').str.decode('ascii'))\n",
    "\n",
    "stop = stopwords.words('english')\n",
    "\n",
    "groupby['location'] = groupby['location'].str.lower().str.split() \n",
    "\n",
    "groupby['location'] = groupby['location'].apply(lambda x: [item for item in x if item not in stop])\n",
    "groupby['location'] = [' '.join(map(str, l)) for l in groupby['location']]\n",
    "\n",
    "groupby\n",
    "\n",
    "# for index, row in groupby.iterrows():\n",
    "#     print(row['location'])\n",
    "#     geocode_result = gmaps.geocode('melbourne australia')\n",
    "#     if len(geocode_result) > 0:\n",
    "#         groupby.loc[index, 'lat'] = geocode_result[0]['geometry']['location']['lat']\n",
    "#         groupby.loc[index, 'lng'] = geocode_result[0]['geometry']['location']['lng']\n",
    "    \n",
    "# groupby.head()"
   ]
  },
  {
   "cell_type": "code",
   "execution_count": null,
   "id": "a641d25c",
   "metadata": {},
   "outputs": [],
   "source": []
  },
  {
   "cell_type": "code",
   "execution_count": null,
   "id": "1d84be8f",
   "metadata": {},
   "outputs": [],
   "source": []
  },
  {
   "cell_type": "code",
   "execution_count": 71,
   "id": "96782eae",
   "metadata": {},
   "outputs": [
    {
     "data": {
      "text/html": [
       "<div>\n",
       "<style scoped>\n",
       "    .dataframe tbody tr th:only-of-type {\n",
       "        vertical-align: middle;\n",
       "    }\n",
       "\n",
       "    .dataframe tbody tr th {\n",
       "        vertical-align: top;\n",
       "    }\n",
       "\n",
       "    .dataframe thead th {\n",
       "        text-align: right;\n",
       "    }\n",
       "</style>\n",
       "<table border=\"1\" class=\"dataframe\">\n",
       "  <thead>\n",
       "    <tr style=\"text-align: right;\">\n",
       "      <th></th>\n",
       "      <th>location</th>\n",
       "      <th>counts</th>\n",
       "      <th>lat</th>\n",
       "      <th>lng</th>\n",
       "    </tr>\n",
       "  </thead>\n",
       "  <tbody>\n",
       "    <tr>\n",
       "      <th>0</th>\n",
       "      <td></td>\n",
       "      <td>1</td>\n",
       "      <td>NaN</td>\n",
       "      <td>NaN</td>\n",
       "    </tr>\n",
       "    <tr>\n",
       "      <th>1</th>\n",
       "      <td>glasgow</td>\n",
       "      <td>1</td>\n",
       "      <td>55.864237</td>\n",
       "      <td>-4.251806</td>\n",
       "    </tr>\n",
       "    <tr>\n",
       "      <th>2</th>\n",
       "      <td>melbourne australia</td>\n",
       "      <td>1</td>\n",
       "      <td>-37.813628</td>\n",
       "      <td>144.963058</td>\n",
       "    </tr>\n",
       "    <tr>\n",
       "      <th>3</th>\n",
       "      <td>news</td>\n",
       "      <td>1</td>\n",
       "      <td>37.223666</td>\n",
       "      <td>-95.711140</td>\n",
       "    </tr>\n",
       "    <tr>\n",
       "      <th>4</th>\n",
       "      <td>å</td>\n",
       "      <td>1</td>\n",
       "      <td>67.880561</td>\n",
       "      <td>12.982643</td>\n",
       "    </tr>\n",
       "  </tbody>\n",
       "</table>\n",
       "</div>"
      ],
      "text/plain": [
       "              location  counts        lat         lng\n",
       "0                            1        NaN         NaN\n",
       "1              glasgow       1  55.864237   -4.251806\n",
       "2  melbourne australia       1 -37.813628  144.963058\n",
       "3                 news       1  37.223666  -95.711140\n",
       "4                    å       1  67.880561   12.982643"
      ]
     },
     "execution_count": 71,
     "metadata": {},
     "output_type": "execute_result"
    }
   ],
   "source": [
    "for index, row in groupby.iterrows():\n",
    "#     print(row['location'])\n",
    "    geocode_result = []\n",
    "    if row['location'] != '':\n",
    "        try:\n",
    "            geocode_result = gmaps.geocode(row['location'])\n",
    "        except:\n",
    "            pass\n",
    "        if len(geocode_result) > 0:\n",
    "            groupby.loc[index, 'lat'] = geocode_result[0]['geometry']['location']['lat']\n",
    "            groupby.loc[index, 'lng'] = geocode_result[0]['geometry']['location']['lng']\n",
    "    \n",
    "groupby.head()"
   ]
  },
  {
   "cell_type": "code",
   "execution_count": 72,
   "id": "033bc504",
   "metadata": {},
   "outputs": [],
   "source": [
    "groupby.to_csv('lat_long.csv')"
   ]
  },
  {
   "cell_type": "code",
   "execution_count": null,
   "id": "c5b65720",
   "metadata": {},
   "outputs": [],
   "source": []
  },
  {
   "cell_type": "code",
   "execution_count": null,
   "id": "61394a8e",
   "metadata": {},
   "outputs": [],
   "source": []
  },
  {
   "cell_type": "code",
   "execution_count": null,
   "id": "5b5e5d6b",
   "metadata": {},
   "outputs": [],
   "source": []
  },
  {
   "cell_type": "code",
   "execution_count": null,
   "id": "e56fdb88",
   "metadata": {},
   "outputs": [],
   "source": []
  },
  {
   "cell_type": "code",
   "execution_count": null,
   "id": "0a85d18f",
   "metadata": {},
   "outputs": [],
   "source": []
  },
  {
   "cell_type": "code",
   "execution_count": null,
   "id": "2df1f969",
   "metadata": {},
   "outputs": [],
   "source": []
  },
  {
   "cell_type": "code",
   "execution_count": null,
   "id": "63dc022f",
   "metadata": {},
   "outputs": [],
   "source": []
  },
  {
   "cell_type": "code",
   "execution_count": null,
   "id": "ab906fce",
   "metadata": {},
   "outputs": [],
   "source": []
  },
  {
   "cell_type": "code",
   "execution_count": null,
   "id": "552bed0d",
   "metadata": {},
   "outputs": [],
   "source": []
  },
  {
   "cell_type": "code",
   "execution_count": null,
   "id": "2bd75561",
   "metadata": {},
   "outputs": [],
   "source": []
  },
  {
   "cell_type": "code",
   "execution_count": 54,
   "id": "85ea85b6",
   "metadata": {},
   "outputs": [
    {
     "data": {
      "text/html": [
       "<div>\n",
       "<style scoped>\n",
       "    .dataframe tbody tr th:only-of-type {\n",
       "        vertical-align: middle;\n",
       "    }\n",
       "\n",
       "    .dataframe tbody tr th {\n",
       "        vertical-align: top;\n",
       "    }\n",
       "\n",
       "    .dataframe thead th {\n",
       "        text-align: right;\n",
       "    }\n",
       "</style>\n",
       "<table border=\"1\" class=\"dataframe\">\n",
       "  <thead>\n",
       "    <tr style=\"text-align: right;\">\n",
       "      <th></th>\n",
       "      <th>location</th>\n",
       "      <th>counts</th>\n",
       "      <th>lat</th>\n",
       "      <th>lng</th>\n",
       "    </tr>\n",
       "  </thead>\n",
       "  <tbody>\n",
       "    <tr>\n",
       "      <th>0</th>\n",
       "      <td></td>\n",
       "      <td>1</td>\n",
       "      <td>NaN</td>\n",
       "      <td>NaN</td>\n",
       "    </tr>\n",
       "    <tr>\n",
       "      <th>1</th>\n",
       "      <td>glasgow</td>\n",
       "      <td>1</td>\n",
       "      <td>NaN</td>\n",
       "      <td>NaN</td>\n",
       "    </tr>\n",
       "    <tr>\n",
       "      <th>2</th>\n",
       "      <td>melbourne australia</td>\n",
       "      <td>1</td>\n",
       "      <td>NaN</td>\n",
       "      <td>NaN</td>\n",
       "    </tr>\n",
       "    <tr>\n",
       "      <th>3</th>\n",
       "      <td>news</td>\n",
       "      <td>1</td>\n",
       "      <td>NaN</td>\n",
       "      <td>NaN</td>\n",
       "    </tr>\n",
       "    <tr>\n",
       "      <th>4</th>\n",
       "      <td>å</td>\n",
       "      <td>1</td>\n",
       "      <td>NaN</td>\n",
       "      <td>NaN</td>\n",
       "    </tr>\n",
       "    <tr>\n",
       "      <th>...</th>\n",
       "      <td>...</td>\n",
       "      <td>...</td>\n",
       "      <td>...</td>\n",
       "      <td>...</td>\n",
       "    </tr>\n",
       "    <tr>\n",
       "      <th>3228</th>\n",
       "      <td>ìït 4291097578865828</td>\n",
       "      <td>1</td>\n",
       "      <td>NaN</td>\n",
       "      <td>NaN</td>\n",
       "    </tr>\n",
       "    <tr>\n",
       "      <th>3229</th>\n",
       "      <td>ìït 436318387955807</td>\n",
       "      <td>1</td>\n",
       "      <td>NaN</td>\n",
       "      <td>NaN</td>\n",
       "    </tr>\n",
       "    <tr>\n",
       "      <th>3230</th>\n",
       "      <td>ìït 64682318287</td>\n",
       "      <td>1</td>\n",
       "      <td>NaN</td>\n",
       "      <td>NaN</td>\n",
       "    </tr>\n",
       "    <tr>\n",
       "      <th>3231</th>\n",
       "      <td>ìït 64884005241090153352798039832285</td>\n",
       "      <td>1</td>\n",
       "      <td>NaN</td>\n",
       "      <td>NaN</td>\n",
       "    </tr>\n",
       "    <tr>\n",
       "      <th>3232</th>\n",
       "      <td>ìøåàåt 4073632473990062</td>\n",
       "      <td>1</td>\n",
       "      <td>NaN</td>\n",
       "      <td>NaN</td>\n",
       "    </tr>\n",
       "  </tbody>\n",
       "</table>\n",
       "<p>3233 rows × 4 columns</p>\n",
       "</div>"
      ],
      "text/plain": [
       "                                  location  counts  lat  lng\n",
       "0                                                1  NaN  NaN\n",
       "1                                  glasgow       1  NaN  NaN\n",
       "2                      melbourne australia       1  NaN  NaN\n",
       "3                                     news       1  NaN  NaN\n",
       "4                                        å       1  NaN  NaN\n",
       "...                                    ...     ...  ...  ...\n",
       "3228                  ìït 4291097578865828       1  NaN  NaN\n",
       "3229                   ìït 436318387955807       1  NaN  NaN\n",
       "3230                       ìït 64682318287       1  NaN  NaN\n",
       "3231  ìït 64884005241090153352798039832285       1  NaN  NaN\n",
       "3232               ìøåàåt 4073632473990062       1  NaN  NaN\n",
       "\n",
       "[3233 rows x 4 columns]"
      ]
     },
     "execution_count": 54,
     "metadata": {},
     "output_type": "execute_result"
    }
   ],
   "source": []
  },
  {
   "cell_type": "code",
   "execution_count": null,
   "id": "9a7d7d49",
   "metadata": {},
   "outputs": [],
   "source": []
  },
  {
   "cell_type": "code",
   "execution_count": null,
   "id": "de6d7f50",
   "metadata": {},
   "outputs": [],
   "source": []
  },
  {
   "cell_type": "code",
   "execution_count": null,
   "id": "a76f2411",
   "metadata": {},
   "outputs": [],
   "source": []
  },
  {
   "cell_type": "code",
   "execution_count": null,
   "id": "8bb490cf",
   "metadata": {},
   "outputs": [],
   "source": []
  },
  {
   "cell_type": "code",
   "execution_count": null,
   "id": "ff282eae",
   "metadata": {},
   "outputs": [],
   "source": []
  },
  {
   "cell_type": "code",
   "execution_count": null,
   "id": "03ee9137",
   "metadata": {},
   "outputs": [],
   "source": []
  },
  {
   "cell_type": "code",
   "execution_count": null,
   "id": "cda4123c",
   "metadata": {},
   "outputs": [],
   "source": []
  },
  {
   "cell_type": "code",
   "execution_count": 39,
   "id": "aa9bb7f7",
   "metadata": {},
   "outputs": [
    {
     "data": {
      "text/html": [
       "<div>\n",
       "<style scoped>\n",
       "    .dataframe tbody tr th:only-of-type {\n",
       "        vertical-align: middle;\n",
       "    }\n",
       "\n",
       "    .dataframe tbody tr th {\n",
       "        vertical-align: top;\n",
       "    }\n",
       "\n",
       "    .dataframe thead th {\n",
       "        text-align: right;\n",
       "    }\n",
       "</style>\n",
       "<table border=\"1\" class=\"dataframe\">\n",
       "  <thead>\n",
       "    <tr style=\"text-align: right;\">\n",
       "      <th></th>\n",
       "      <th>location</th>\n",
       "      <th>counts</th>\n",
       "      <th>lat</th>\n",
       "      <th>lng</th>\n",
       "    </tr>\n",
       "  </thead>\n",
       "  <tbody>\n",
       "    <tr>\n",
       "      <th>0</th>\n",
       "      <td></td>\n",
       "      <td>1</td>\n",
       "      <td>1.0</td>\n",
       "      <td>NaN</td>\n",
       "    </tr>\n",
       "    <tr>\n",
       "      <th>1</th>\n",
       "      <td>glasgow</td>\n",
       "      <td>1</td>\n",
       "      <td>1.0</td>\n",
       "      <td>NaN</td>\n",
       "    </tr>\n",
       "    <tr>\n",
       "      <th>2</th>\n",
       "      <td>melbourne, australia</td>\n",
       "      <td>1</td>\n",
       "      <td>1.0</td>\n",
       "      <td>NaN</td>\n",
       "    </tr>\n",
       "    <tr>\n",
       "      <th>3</th>\n",
       "      <td>news</td>\n",
       "      <td>1</td>\n",
       "      <td>1.0</td>\n",
       "      <td>NaN</td>\n",
       "    </tr>\n",
       "    <tr>\n",
       "      <th>4</th>\n",
       "      <td>å_</td>\n",
       "      <td>1</td>\n",
       "      <td>1.0</td>\n",
       "      <td>NaN</td>\n",
       "    </tr>\n",
       "  </tbody>\n",
       "</table>\n",
       "</div>"
      ],
      "text/plain": [
       "                 location  counts  lat  lng\n",
       "0                               1  1.0  NaN\n",
       "1                glasgow        1  1.0  NaN\n",
       "2    melbourne, australia       1  1.0  NaN\n",
       "3                    news       1  1.0  NaN\n",
       "4                     å_        1  1.0  NaN"
      ]
     },
     "execution_count": 39,
     "metadata": {},
     "output_type": "execute_result"
    }
   ],
   "source": [
    "groupby.head()"
   ]
  },
  {
   "cell_type": "code",
   "execution_count": null,
   "id": "74f785d2",
   "metadata": {},
   "outputs": [],
   "source": []
  },
  {
   "cell_type": "code",
   "execution_count": null,
   "id": "475eace0",
   "metadata": {},
   "outputs": [],
   "source": []
  },
  {
   "cell_type": "code",
   "execution_count": 35,
   "id": "b0d6f6a1",
   "metadata": {},
   "outputs": [
    {
     "data": {
      "text/html": [
       "<div>\n",
       "<style scoped>\n",
       "    .dataframe tbody tr th:only-of-type {\n",
       "        vertical-align: middle;\n",
       "    }\n",
       "\n",
       "    .dataframe tbody tr th {\n",
       "        vertical-align: top;\n",
       "    }\n",
       "\n",
       "    .dataframe thead th {\n",
       "        text-align: right;\n",
       "    }\n",
       "</style>\n",
       "<table border=\"1\" class=\"dataframe\">\n",
       "  <thead>\n",
       "    <tr style=\"text-align: right;\">\n",
       "      <th></th>\n",
       "      <th>location</th>\n",
       "      <th>counts</th>\n",
       "      <th>lat</th>\n",
       "      <th>lng</th>\n",
       "    </tr>\n",
       "  </thead>\n",
       "  <tbody>\n",
       "    <tr>\n",
       "      <th>0</th>\n",
       "      <td></td>\n",
       "      <td>1</td>\n",
       "      <td>NaN</td>\n",
       "      <td>NaN</td>\n",
       "    </tr>\n",
       "    <tr>\n",
       "      <th>1</th>\n",
       "      <td>glasgow</td>\n",
       "      <td>1</td>\n",
       "      <td>NaN</td>\n",
       "      <td>NaN</td>\n",
       "    </tr>\n",
       "    <tr>\n",
       "      <th>2</th>\n",
       "      <td>melbourne, australia</td>\n",
       "      <td>1</td>\n",
       "      <td>NaN</td>\n",
       "      <td>NaN</td>\n",
       "    </tr>\n",
       "    <tr>\n",
       "      <th>3</th>\n",
       "      <td>news</td>\n",
       "      <td>1</td>\n",
       "      <td>NaN</td>\n",
       "      <td>NaN</td>\n",
       "    </tr>\n",
       "    <tr>\n",
       "      <th>4</th>\n",
       "      <td>å_</td>\n",
       "      <td>1</td>\n",
       "      <td>NaN</td>\n",
       "      <td>NaN</td>\n",
       "    </tr>\n",
       "  </tbody>\n",
       "</table>\n",
       "</div>"
      ],
      "text/plain": [
       "                 location  counts  lat  lng\n",
       "0                               1  NaN  NaN\n",
       "1                glasgow        1  NaN  NaN\n",
       "2    melbourne, australia       1  NaN  NaN\n",
       "3                    news       1  NaN  NaN\n",
       "4                     å_        1  NaN  NaN"
      ]
     },
     "execution_count": 35,
     "metadata": {},
     "output_type": "execute_result"
    }
   ],
   "source": []
  },
  {
   "cell_type": "code",
   "execution_count": null,
   "id": "58273929",
   "metadata": {},
   "outputs": [],
   "source": []
  },
  {
   "cell_type": "code",
   "execution_count": null,
   "id": "8dadf1b6",
   "metadata": {},
   "outputs": [],
   "source": []
  },
  {
   "cell_type": "code",
   "execution_count": null,
   "id": "e9115d20",
   "metadata": {},
   "outputs": [],
   "source": []
  },
  {
   "cell_type": "code",
   "execution_count": null,
   "id": "a3ce7925",
   "metadata": {},
   "outputs": [],
   "source": []
  },
  {
   "cell_type": "code",
   "execution_count": null,
   "id": "c57aea3e",
   "metadata": {},
   "outputs": [],
   "source": []
  },
  {
   "cell_type": "code",
   "execution_count": null,
   "id": "67638e7c",
   "metadata": {},
   "outputs": [],
   "source": []
  },
  {
   "cell_type": "code",
   "execution_count": null,
   "id": "b0ce1afc",
   "metadata": {},
   "outputs": [],
   "source": []
  },
  {
   "cell_type": "code",
   "execution_count": null,
   "id": "ef955ed8",
   "metadata": {},
   "outputs": [],
   "source": []
  },
  {
   "cell_type": "code",
   "execution_count": null,
   "id": "1962df1d",
   "metadata": {},
   "outputs": [],
   "source": []
  },
  {
   "cell_type": "code",
   "execution_count": null,
   "id": "e156bf61",
   "metadata": {},
   "outputs": [],
   "source": []
  },
  {
   "cell_type": "code",
   "execution_count": null,
   "id": "870e0ca0",
   "metadata": {},
   "outputs": [],
   "source": []
  },
  {
   "cell_type": "code",
   "execution_count": null,
   "id": "40a047d9",
   "metadata": {},
   "outputs": [],
   "source": []
  },
  {
   "cell_type": "code",
   "execution_count": null,
   "id": "0859946b",
   "metadata": {},
   "outputs": [],
   "source": []
  },
  {
   "cell_type": "code",
   "execution_count": null,
   "id": "f707edc6",
   "metadata": {},
   "outputs": [],
   "source": []
  },
  {
   "cell_type": "code",
   "execution_count": null,
   "id": "297928e0",
   "metadata": {},
   "outputs": [],
   "source": []
  },
  {
   "cell_type": "code",
   "execution_count": null,
   "id": "8bfce412",
   "metadata": {},
   "outputs": [],
   "source": []
  },
  {
   "cell_type": "code",
   "execution_count": null,
   "id": "d1a84bf2",
   "metadata": {},
   "outputs": [],
   "source": []
  },
  {
   "cell_type": "code",
   "execution_count": null,
   "id": "94ac16aa",
   "metadata": {},
   "outputs": [],
   "source": []
  },
  {
   "cell_type": "code",
   "execution_count": null,
   "id": "00f9466d",
   "metadata": {},
   "outputs": [],
   "source": []
  },
  {
   "cell_type": "code",
   "execution_count": null,
   "id": "254dc04e",
   "metadata": {},
   "outputs": [],
   "source": []
  },
  {
   "cell_type": "code",
   "execution_count": null,
   "id": "361d9587",
   "metadata": {},
   "outputs": [],
   "source": []
  },
  {
   "cell_type": "code",
   "execution_count": null,
   "id": "1da220dd",
   "metadata": {},
   "outputs": [],
   "source": []
  },
  {
   "cell_type": "code",
   "execution_count": null,
   "id": "89db09f7",
   "metadata": {},
   "outputs": [],
   "source": []
  },
  {
   "cell_type": "code",
   "execution_count": null,
   "id": "2d6ffad6",
   "metadata": {},
   "outputs": [],
   "source": []
  },
  {
   "cell_type": "code",
   "execution_count": null,
   "id": "a5e692cb",
   "metadata": {},
   "outputs": [],
   "source": []
  },
  {
   "cell_type": "code",
   "execution_count": null,
   "id": "c28ad369",
   "metadata": {},
   "outputs": [],
   "source": []
  },
  {
   "cell_type": "code",
   "execution_count": null,
   "id": "43a6e432",
   "metadata": {},
   "outputs": [],
   "source": []
  },
  {
   "cell_type": "code",
   "execution_count": null,
   "id": "a318dd31",
   "metadata": {},
   "outputs": [],
   "source": []
  },
  {
   "cell_type": "code",
   "execution_count": null,
   "id": "086f38c5",
   "metadata": {},
   "outputs": [],
   "source": []
  },
  {
   "cell_type": "code",
   "execution_count": null,
   "id": "35ed5d50",
   "metadata": {},
   "outputs": [],
   "source": []
  },
  {
   "cell_type": "code",
   "execution_count": null,
   "id": "56846fa0",
   "metadata": {},
   "outputs": [],
   "source": []
  },
  {
   "cell_type": "code",
   "execution_count": null,
   "id": "89acbd3f",
   "metadata": {},
   "outputs": [],
   "source": []
  },
  {
   "cell_type": "code",
   "execution_count": null,
   "id": "12662c5a",
   "metadata": {},
   "outputs": [],
   "source": []
  }
 ],
 "metadata": {
  "kernelspec": {
   "display_name": "Python 3 (ipykernel)",
   "language": "python",
   "name": "python3"
  },
  "language_info": {
   "codemirror_mode": {
    "name": "ipython",
    "version": 3
   },
   "file_extension": ".py",
   "mimetype": "text/x-python",
   "name": "python",
   "nbconvert_exporter": "python",
   "pygments_lexer": "ipython3",
   "version": "3.7.0"
  }
 },
 "nbformat": 4,
 "nbformat_minor": 5
}
